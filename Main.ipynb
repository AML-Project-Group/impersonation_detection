{
 "cells": [
  {
   "cell_type": "code",
   "execution_count": 30,
   "metadata": {},
   "outputs": [],
   "source": [
    "''' PRE-PROCESSING (INDIVIDUAL 1) '''\n",
    "''' Michelangelo Rubino '''\n",
    "\n",
    "# The function preproc_df(filename) at the end of this stage can be used to perform the following transformations:\n",
    "\n",
    "# Step 1 - delete the features with no values\n",
    "# Step 2 - delete the features with duplicated values \n",
    "# Step 3 - remove highly correlated features (kendall/spearman >= 0.9)\n",
    "# Step 4 - standardize the features to give them a distribution closer to the normal one\n",
    "\n",
    "import csv\n",
    "import numpy as np\n",
    "import pandas as pd\n",
    "from pandas.plotting import scatter_matrix\n",
    "from matplotlib import pyplot\n",
    "from numpy import set_printoptions\n",
    "from sklearn.preprocessing import StandardScaler\n",
    "\n",
    "pd.set_option('display.max_rows', 200) # it won't hide part of the output rows\n",
    "pd.set_option('display.max_columns', 200) # it won't hide part of the output columns\n",
    "set_printoptions(precision=3) # how the floating numbers are shown\n",
    "\n",
    "''' Load the data from the train dataset and create a dataframe '''\n",
    "\n",
    "filename = 'train_imperson_without4n7_balanced_data.csv'\n",
    "\n",
    "# use the code below to load the test dataset\n",
    "# filename = 'test_imperson_without4n7_balanced_data.csv'\n",
    "\n",
    "df = pd.read_csv(filename,\n",
    "                header=0,\n",
    "                na_values=['nan'])\n"
   ]
  },
  {
   "cell_type": "code",
   "execution_count": 18,
   "metadata": {},
   "outputs": [
    {
     "name": "stdout",
     "output_type": "stream",
     "text": [
      "<class 'pandas.core.frame.DataFrame'>\n",
      "RangeIndex: 40158 entries, 0 to 40157\n",
      "Columns: 153 entries, 1 to 155\n",
      "dtypes: float64(42), int64(111)\n",
      "memory usage: 46.9 MB\n",
      "None\n"
     ]
    }
   ],
   "source": [
    "''' View dataframe info '''\n",
    "\n",
    "# the dataframe does not contain null values (it can be verified by using df.isnull().sum())\n",
    "# 97,044 rows, 153 columns\n",
    "# the class is the feature 155\n",
    "print(df.info())\n"
   ]
  },
  {
   "cell_type": "code",
   "execution_count": null,
   "metadata": {},
   "outputs": [],
   "source": [
    "''' Descriptive statistics '''\n",
    "print(df.describe())"
   ]
  },
  {
   "cell_type": "code",
   "execution_count": null,
   "metadata": {},
   "outputs": [],
   "source": [
    "''' Check the first 10 rows '''\n",
    "df.head(10)"
   ]
  },
  {
   "cell_type": "code",
   "execution_count": null,
   "metadata": {},
   "outputs": [],
   "source": [
    "''' The observations are perfectly balanced: 50% class 0, 50% class 1 '''\n",
    "class_counts = df.groupby('155').size()\n",
    "print(class_counts)\n"
   ]
  },
  {
   "cell_type": "code",
   "execution_count": 19,
   "metadata": {},
   "outputs": [
    {
     "name": "stdout",
     "output_type": "stream",
     "text": [
      "['5' '6' '8' '9' '14' '15' '16' '18' '20' '26' '29' '38' '43' '47' '48'\n",
      " '50' '51' '52' '61' '62' '64' '66' '67' '68' '69' '70' '71' '72' '73'\n",
      " '75' '76' '77' '78' '79' '80' '81' '82' '89' '90' '93' '94' '98' '104'\n",
      " '105' '106' '107' '108' '109' '110' '111' '112' '118' '119' '120' '121'\n",
      " '122' '123' '125' '126' '127' '128' '129' '130' '140' '141' '142' '143'\n",
      " '144' '145' '146' '148' '154' '155']\n"
     ]
    }
   ],
   "source": [
    "''' Step 1 - Delete columns with no values '''\n",
    "\n",
    "# many features have no values\n",
    "columnsToDelete = [] \n",
    "\n",
    "# if the feature has std == 0 it means no values or only one value\n",
    "for key, value in df.iteritems():\n",
    "    if df[key].std() == 0:\n",
    "        columnsToDelete.append(key)\n",
    "        \n",
    "df1 = df.drop(columnsToDelete, axis=1) # 74 features have been deleted\n",
    "\n",
    "# the features are now 78 + 1 class\n",
    "print(df1.columns.values)\n"
   ]
  },
  {
   "cell_type": "code",
   "execution_count": 20,
   "metadata": {},
   "outputs": [
    {
     "name": "stdout",
     "output_type": "stream",
     "text": [
      "['5' '8' '14' '38' '47' '48' '50' '51' '61' '64' '66' '67' '68' '69' '70'\n",
      " '71' '72' '73' '75' '76' '77' '78' '79' '80' '81' '82' '90' '93' '94'\n",
      " '98' '104' '105' '106' '107' '108' '109' '110' '111' '112' '118' '119'\n",
      " '120' '121' '122' '123' '125' '126' '127' '128' '140' '141' '142' '143'\n",
      " '144' '145' '148' '154' '155']\n"
     ]
    }
   ],
   "source": [
    "''' Step 2 - Some features are duplicates of other features, then they can be removed keeping only the first column '''\n",
    "\n",
    "# df has 14 duplicated features, then the new dataframe has 64 features + 1 class\n",
    "df2 = df1.loc[:,~df1.T.duplicated(keep='first')]\n",
    "\n",
    "# the features are now 64 + 1 class\n",
    "print(df2.columns.values)\n"
   ]
  },
  {
   "cell_type": "code",
   "execution_count": null,
   "metadata": {},
   "outputs": [],
   "source": [
    "''' Check the unique values for each feature '''\n",
    "\n",
    "print(df2.nunique()) \n"
   ]
  },
  {
   "cell_type": "code",
   "execution_count": 22,
   "metadata": {},
   "outputs": [
    {
     "data": {
      "image/png": "[encoded data removed]",
      "text/plain": [
       "<Figure size 720x504 with 1 Axes>"
      ]
     },
     "metadata": {
      "needs_background": "light"
     },
     "output_type": "display_data"
    }
   ],
   "source": [
    "'''Plot the distribution for the 3 main groups:\n",
    "\n",
    "    - features with continuous values between 0 and 1 (ex: 38)\n",
    "    - features with only two values, 0 and 1 (ex: 71)\n",
    "    - features with a few values (ex: 145) '''\n",
    "\n",
    "# no feature with a perfect normal distribution\n",
    "df2[[\"38\", \"71\", \"145\"]].plot.kde(figsize=(10,7), sharex=False)\n",
    "pyplot.show()\n"
   ]
  },
  {
   "cell_type": "code",
   "execution_count": 23,
   "metadata": {},
   "outputs": [
    {
     "name": "stdout",
     "output_type": "stream",
     "text": [
      "['50', '66', '68', '69', '78', '90', '93', '98', '107', '108', '118', '119', '126', '127']\n"
     ]
    }
   ],
   "source": [
    "''' Step 3 - Create two correlation matrices (Kendall and Spearman) and remove highly correlated features (ie. >= 0.9 )'''\n",
    "\n",
    "# Create correlation matrix with kendall method\n",
    "corr_matrix_kendall = df2.corr(method='kendall').abs()\n",
    "\n",
    "# Create a True/False mask and apply it\n",
    "mask_kendall = np.triu(np.ones_like(corr_matrix_kendall, dtype=bool))\n",
    "tri_df_kendall = corr_matrix_kendall.mask(mask_kendall)\n",
    "\n",
    "# List column names of highly correlated features ( >= 0.90 )\n",
    "kendall_to_drop = [c for c in tri_df_kendall.columns if any(tri_df_kendall[c] >= 0.90)]\n",
    "\n",
    "# Create correlation matrix with spearman method\n",
    "corr_matrix_spearman = df2.corr(method='spearman').abs()\n",
    "\n",
    "# Create a True/False mask and apply it\n",
    "mask_spearman = np.triu(np.ones_like(corr_matrix_spearman, dtype=bool))\n",
    "tri_df_spearman = corr_matrix_spearman.mask(mask_spearman)\n",
    "\n",
    "# List column names of highly correlated features ( >= 0.90 )\n",
    "spearman_to_drop = [c for c in tri_df_spearman.columns if any(tri_df_spearman[c] >= 0.90)]\n",
    "\n",
    "# The two methods show almost the same features, 19 are in common, 1 is not\n",
    "drop_high_corr = []\n",
    "for i in kendall_to_drop:\n",
    "    if i in spearman_to_drop:\n",
    "        drop_high_corr.append(i)\n",
    "\n",
    "# drop the 19 common features with high correlation both with kendall and spearman       \n",
    "df3 = df2.drop(drop_high_corr, axis=1)  \n",
    "\n",
    "# print the common features removed from the dataframe\n",
    "print(drop_high_corr)\n"
   ]
  },
  {
   "cell_type": "code",
   "execution_count": 24,
   "metadata": {},
   "outputs": [
    {
     "name": "stdout",
     "output_type": "stream",
     "text": [
      "44\n",
      "['5' '8' '14' '38' '47' '48' '51' '61' '64' '67' '70' '71' '72' '73' '75'\n",
      " '76' '77' '79' '80' '81' '82' '94' '104' '105' '106' '109' '110' '111'\n",
      " '112' '120' '121' '122' '123' '125' '128' '140' '141' '142' '143' '144'\n",
      " '145' '148' '154' '155']\n"
     ]
    }
   ],
   "source": [
    "''' After this step the dataframe has 45 features and 1 class '''\n",
    "\n",
    "print(len(df3.columns.values))\n",
    "print(df3.columns.values)"
   ]
  },
  {
   "cell_type": "code",
   "execution_count": null,
   "metadata": {},
   "outputs": [],
   "source": [
    "''' Analysis and plotting of the dataframe df3 show that none of the features has a normal form '''\n",
    "\n",
    "# Uncomment to see the plots\n",
    "\n",
    "# skewness\n",
    "#skew = df3.skew()\n",
    "#print(skew)\n",
    "\n",
    "# histogram plot\n",
    "#df3.hist(layout=(9,9), figsize=(30,14))\n",
    "#pyplot.show()\n",
    "\n",
    "# density plot\n",
    "#df3.plot(kind='density', subplots=True, layout=(9,9), sharex=False, figsize=(20,14))\n",
    "#pyplot.show()\n",
    "\n",
    "# Box and Whisker Plot\n",
    "#df3.plot(kind='box', subplots=True, layout=(9,9), sharex=False, sharey=False, figsize=(20,14))\n",
    "#pyplot.show()\n",
    "\n",
    "# Scatterplot Matrix\n",
    "# it takes a lot to run\n",
    "# scatter_matrix(df3, figsize=[20, 20])\n",
    "# pyplot.show()\n"
   ]
  },
  {
   "cell_type": "code",
   "execution_count": 25,
   "metadata": {},
   "outputs": [],
   "source": [
    "''' Step 4 - Standardize the features to give them a normal form: mean = 0, sd = 1 '''\n",
    "\n",
    "# save the features name\n",
    "features_names = df3.columns.values\n",
    "\n",
    "# use the array lenght\n",
    "df3_len = len(df3.columns.values) - 1\n",
    "\n",
    "# extract the values from the dataframe\n",
    "array = df3.values\n",
    "X = array[:, 0:df3_len] # extract the features\n",
    "Y = array[:, df3_len].astype(int) # extract the class\n",
    "\n",
    "# fit and transform the values\n",
    "scaler = StandardScaler().fit(X)\n",
    "rescaledX = scaler.transform(X)\n",
    "\n",
    "# a new dataframe is created with the standardized values\n",
    "df4 = pd.DataFrame(rescaledX, columns=features_names[0:df3_len])\n",
    "\n",
    "# add the class 155\n",
    "df4.insert(df3_len, '155', Y, False)\n"
   ]
  },
  {
   "cell_type": "code",
   "execution_count": null,
   "metadata": {},
   "outputs": [],
   "source": [
    "''' Now we have a dataframe with standardized values '''\n",
    "\n",
    "print(df4.head(5))\n"
   ]
  },
  {
   "cell_type": "code",
   "execution_count": 27,
   "metadata": {},
   "outputs": [
    {
     "data": {
      "image/png": "[encoded data removed]",
      "text/plain": [
       "<Figure size 720x504 with 1 Axes>"
      ]
     },
     "metadata": {
      "needs_background": "light"
     },
     "output_type": "display_data"
    }
   ],
   "source": [
    "''' After standardizing, the features do not show a perfect bell-shaped distribution, but there\n",
    "    is some improvement '''\n",
    "\n",
    "df4[[\"38\", \"71\", \"145\"]].plot.kde(figsize=(10,7), sharex=False )\n",
    "pyplot.show()\n"
   ]
  },
  {
   "cell_type": "code",
   "execution_count": null,
   "metadata": {},
   "outputs": [],
   "source": [
    "''' This function performs the steps previously described '''\n",
    "\n",
    "filename = 'train_imperson_without4n7_balanced_data.csv'\n",
    "\n",
    "def preproc_df(filename):\n",
    "    dataframe = pd.read_csv(filename, header=0, na_values=['nan'])\n",
    "    \n",
    "    # Step 1 - remove features with no values\n",
    "    columnsToDelete = [] \n",
    "    for key, value in dataframe.iteritems():\n",
    "        if dataframe[key].std() == 0:\n",
    "            columnsToDelete.append(key)\n",
    "        \n",
    "    df1 = dataframe.drop(columnsToDelete, axis=1)\n",
    "    \n",
    "    # Step 2 - remove duplicated features, keeping only the first one \n",
    "    df2 = df1.loc[:,~df1.T.duplicated(keep='first')]\n",
    "    \n",
    "    # Step 3 - Compute correlation matrices and drop the features with high correlation \n",
    "    corr_matrix_kendall = df2.corr(method='kendall').abs()\n",
    "    mask_kendall = np.triu(np.ones_like(corr_matrix_kendall, dtype=bool))\n",
    "    tri_df_kendall = corr_matrix_kendall.mask(mask_kendall)\n",
    "    kendall_to_drop = [c for c in tri_df_kendall.columns if any(tri_df_kendall[c] >= 0.90)]\n",
    "\n",
    "    corr_matrix_spearman = df2.corr(method='spearman').abs()\n",
    "    mask_spearman = np.triu(np.ones_like(corr_matrix_spearman, dtype=bool))\n",
    "    tri_df_spearman = corr_matrix_spearman.mask(mask_spearman)\n",
    "    spearman_to_drop = [c for c in tri_df_spearman.columns if any(tri_df_spearman[c] >= 0.90)]\n",
    "    \n",
    "    # list the features having high kendall and spearman correlation\n",
    "    drop_high_corr = []\n",
    "    for i in kendall_to_drop:\n",
    "        if i in spearman_to_drop:\n",
    "            drop_high_corr.append(i)\n",
    "\n",
    "    # drop the common features       \n",
    "    df3 = df2.drop(drop_high_corr, axis=1)  \n",
    "    \n",
    "    # Step 4 - Standardize the features\n",
    "    features_names = df3.columns.values # save the feature names\n",
    "    df3_len = len(df3.columns.values) - 1 # use the array length \n",
    "\n",
    "    # extract the values from the dataframe (features and class)\n",
    "    array = df3.values\n",
    "    X = array[:, 0:df3_len] \n",
    "    Y = array[:, df3_len].astype(int) \n",
    "\n",
    "    # fit and transform the values\n",
    "    scaler = StandardScaler().fit(X)\n",
    "    rescaledX = scaler.transform(X)\n",
    "\n",
    "    # a new dataframe is created with the standardized values\n",
    "    df4 = pd.DataFrame(rescaledX, columns=features_names[0:df3_len])\n",
    "\n",
    "    # add the class 155\n",
    "    df4.insert(df3_len, '155', Y, False)\n",
    "\n",
    "    return df4\n"
   ]
  },
  {
   "cell_type": "code",
   "execution_count": null,
   "metadata": {},
   "outputs": [],
   "source": [
    "''' Before the Feature selection stage the train dataset has 45 features and 1 class\n",
    "\n",
    "['5' '8' '14' '38' '48' '51' '61' '67' '70' '71' '72' '73' '75' '76' '77'\n",
    " '78' '79' '80' '82' '83' '88' '93' '94' '104' '105' '106' '109' '110'\n",
    " '111' '112' '113' '117' '120' '121' '122' '123' '125' '130' '138' '140'\n",
    " '142' '143' '144' '145' '154' '155']\n",
    "\n",
    "\n",
    "while the test dataset has 43 features and 1 class\n",
    "\n",
    "['5' '8' '14' '38' '47' '48' '51' '61' '64' '67' '70' '71' '72' '73' '75'\n",
    " '76' '77' '79' '80' '81' '82' '94' '104' '105' '106' '109' '110' '111'\n",
    " '112' '120' '121' '122' '123' '125' '128' '140' '141' '142' '143' '144'\n",
    " '145' '148' '154' '155']\n",
    " \n",
    "'''\n"
   ]
  }
 ],
 "metadata": {
  "kernelspec": {
   "display_name": "Python 3",
   "language": "python",
   "name": "python3"
  },
  "language_info": {
   "codemirror_mode": {
    "name": "ipython",
    "version": 3
   },
   "file_extension": ".py",
   "mimetype": "text/x-python",
   "name": "python",
   "nbconvert_exporter": "python",
   "pygments_lexer": "ipython3",
   "version": "3.7.0"
  }
 },
 "nbformat": 4,
 "nbformat_minor": 2
}
