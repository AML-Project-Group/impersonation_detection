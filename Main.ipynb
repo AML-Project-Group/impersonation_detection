{
 "cells": [
  {
   "cell_type": "code",
   "execution_count": 1,
   "metadata": {},
   "outputs": [],
   "source": [
    "''' PRE-PROCESSING (INDIVIDUAL 1) '''\n",
    "''' Michelangelo Rubino '''\n",
    "\n",
    "# The function preproc_df(filename) at the end of this stage can be used to perform the following transformations:\n",
    "\n",
    "# Step 1 - delete the features with no values\n",
    "# Step 2 - delete the features with duplicated values \n",
    "# Step 3 - remove highly correlated features (kendall/spearman >= 0.9)\n",
    "# Step 4 - standardize the features to give them a distribution closer to the normal one\n",
    "\n",
    "import csv\n",
    "import numpy as np\n",
    "import pandas as pd\n",
    "from pandas.plotting import scatter_matrix\n",
    "from matplotlib import pyplot\n",
    "from numpy import set_printoptions\n",
    "from sklearn.preprocessing import StandardScaler\n",
    "\n",
    "# uncomment to show every output rows\n",
    "#pd.set_option('display.max_rows', 200) \n",
    "\n",
    "# uncomment to show every output columns\n",
    "#pd.set_option('display.max_columns', 200) \n",
    "\n",
    "set_printoptions(precision=3) # how the floating numbers are shown\n",
    "\n",
    "''' Load the data from the train dataset and create a dataframe '''\n",
    "\n",
    "filename = 'train_imperson_without4n7_balanced_data.csv'\n",
    "\n",
    "# use the code below to load the test dataset\n",
    "# filename = 'test_imperson_without4n7_balanced_data.csv'\n",
    "\n",
    "df = pd.read_csv(filename,\n",
    "                header=0,\n",
    "                na_values=['nan'])\n"
   ]
  },
  {
   "cell_type": "code",
   "execution_count": 2,
   "metadata": {},
   "outputs": [
    {
     "name": "stdout",
     "output_type": "stream",
     "text": [
      "<class 'pandas.core.frame.DataFrame'>\n",
      "RangeIndex: 97044 entries, 0 to 97043\n",
      "Columns: 153 entries, 1 to 155\n",
      "dtypes: float64(48), int64(105)\n",
      "memory usage: 113.3 MB\n",
      "None\n"
     ]
    }
   ],
   "source": [
    "''' View dataframe info '''\n",
    "\n",
    "# the dataframe does not contain null values (it can be verified by using df.isnull().sum())\n",
    "# 97,044 rows, 153 columns\n",
    "# the class is the feature 155\n",
    "print(df.info())\n"
   ]
  },
  {
   "cell_type": "code",
   "execution_count": 3,
   "metadata": {},
   "outputs": [
    {
     "name": "stdout",
     "output_type": "stream",
     "text": [
      "155\n",
      "0    48522\n",
      "1    48522\n",
      "dtype: int64\n"
     ]
    }
   ],
   "source": [
    "''' The observations are perfectly balanced: 50% class 0, 50% class 1 '''\n",
    "class_counts = df.groupby('155').size()\n",
    "print(class_counts)"
   ]
  },
  {
   "cell_type": "code",
   "execution_count": 4,
   "metadata": {},
   "outputs": [
    {
     "data": {
      "text/html": [
       "<div>\n",
       "<style scoped>\n",
       "    .dataframe tbody tr th:only-of-type {\n",
       "        vertical-align: middle;\n",
       "    }\n",
       "\n",
       "    .dataframe tbody tr th {\n",
       "        vertical-align: top;\n",
       "    }\n",
       "\n",
       "    .dataframe thead th {\n",
       "        text-align: right;\n",
       "    }\n",
       "</style>\n",
       "<table border=\"1\" class=\"dataframe\">\n",
       "  <thead>\n",
       "    <tr style=\"text-align: right;\">\n",
       "      <th></th>\n",
       "      <th>1</th>\n",
       "      <th>2</th>\n",
       "      <th>3</th>\n",
       "      <th>5</th>\n",
       "      <th>6</th>\n",
       "      <th>8</th>\n",
       "      <th>9</th>\n",
       "      <th>10</th>\n",
       "      <th>11</th>\n",
       "      <th>12</th>\n",
       "      <th>...</th>\n",
       "      <th>146</th>\n",
       "      <th>147</th>\n",
       "      <th>148</th>\n",
       "      <th>149</th>\n",
       "      <th>150</th>\n",
       "      <th>151</th>\n",
       "      <th>152</th>\n",
       "      <th>153</th>\n",
       "      <th>154</th>\n",
       "      <th>155</th>\n",
       "    </tr>\n",
       "  </thead>\n",
       "  <tbody>\n",
       "    <tr>\n",
       "      <th>0</th>\n",
       "      <td>0</td>\n",
       "      <td>0</td>\n",
       "      <td>0</td>\n",
       "      <td>0.000066</td>\n",
       "      <td>0.000066</td>\n",
       "      <td>0.009150</td>\n",
       "      <td>0.009150</td>\n",
       "      <td>0</td>\n",
       "      <td>0</td>\n",
       "      <td>0</td>\n",
       "      <td>...</td>\n",
       "      <td>0.0</td>\n",
       "      <td>0</td>\n",
       "      <td>0</td>\n",
       "      <td>0</td>\n",
       "      <td>0</td>\n",
       "      <td>0</td>\n",
       "      <td>0</td>\n",
       "      <td>0</td>\n",
       "      <td>0.0</td>\n",
       "      <td>0</td>\n",
       "    </tr>\n",
       "    <tr>\n",
       "      <th>1</th>\n",
       "      <td>0</td>\n",
       "      <td>0</td>\n",
       "      <td>0</td>\n",
       "      <td>0.000014</td>\n",
       "      <td>0.000014</td>\n",
       "      <td>0.000000</td>\n",
       "      <td>0.000000</td>\n",
       "      <td>0</td>\n",
       "      <td>0</td>\n",
       "      <td>0</td>\n",
       "      <td>...</td>\n",
       "      <td>0.0</td>\n",
       "      <td>0</td>\n",
       "      <td>0</td>\n",
       "      <td>0</td>\n",
       "      <td>0</td>\n",
       "      <td>0</td>\n",
       "      <td>0</td>\n",
       "      <td>0</td>\n",
       "      <td>0.0</td>\n",
       "      <td>0</td>\n",
       "    </tr>\n",
       "    <tr>\n",
       "      <th>2</th>\n",
       "      <td>0</td>\n",
       "      <td>0</td>\n",
       "      <td>0</td>\n",
       "      <td>0.035528</td>\n",
       "      <td>0.035528</td>\n",
       "      <td>0.070588</td>\n",
       "      <td>0.070588</td>\n",
       "      <td>0</td>\n",
       "      <td>0</td>\n",
       "      <td>0</td>\n",
       "      <td>...</td>\n",
       "      <td>0.0</td>\n",
       "      <td>0</td>\n",
       "      <td>0</td>\n",
       "      <td>0</td>\n",
       "      <td>0</td>\n",
       "      <td>0</td>\n",
       "      <td>0</td>\n",
       "      <td>0</td>\n",
       "      <td>0.0</td>\n",
       "      <td>0</td>\n",
       "    </tr>\n",
       "    <tr>\n",
       "      <th>3</th>\n",
       "      <td>0</td>\n",
       "      <td>0</td>\n",
       "      <td>0</td>\n",
       "      <td>0.005128</td>\n",
       "      <td>0.005128</td>\n",
       "      <td>0.094771</td>\n",
       "      <td>0.094771</td>\n",
       "      <td>0</td>\n",
       "      <td>0</td>\n",
       "      <td>0</td>\n",
       "      <td>...</td>\n",
       "      <td>0.0</td>\n",
       "      <td>0</td>\n",
       "      <td>0</td>\n",
       "      <td>0</td>\n",
       "      <td>0</td>\n",
       "      <td>0</td>\n",
       "      <td>0</td>\n",
       "      <td>0</td>\n",
       "      <td>0.0</td>\n",
       "      <td>0</td>\n",
       "    </tr>\n",
       "    <tr>\n",
       "      <th>4</th>\n",
       "      <td>0</td>\n",
       "      <td>0</td>\n",
       "      <td>0</td>\n",
       "      <td>0.035116</td>\n",
       "      <td>0.035116</td>\n",
       "      <td>0.070588</td>\n",
       "      <td>0.070588</td>\n",
       "      <td>0</td>\n",
       "      <td>0</td>\n",
       "      <td>0</td>\n",
       "      <td>...</td>\n",
       "      <td>0.0</td>\n",
       "      <td>0</td>\n",
       "      <td>0</td>\n",
       "      <td>0</td>\n",
       "      <td>0</td>\n",
       "      <td>0</td>\n",
       "      <td>0</td>\n",
       "      <td>0</td>\n",
       "      <td>0.0</td>\n",
       "      <td>0</td>\n",
       "    </tr>\n",
       "    <tr>\n",
       "      <th>5</th>\n",
       "      <td>0</td>\n",
       "      <td>0</td>\n",
       "      <td>0</td>\n",
       "      <td>0.005099</td>\n",
       "      <td>0.005099</td>\n",
       "      <td>0.094771</td>\n",
       "      <td>0.094771</td>\n",
       "      <td>0</td>\n",
       "      <td>0</td>\n",
       "      <td>0</td>\n",
       "      <td>...</td>\n",
       "      <td>0.0</td>\n",
       "      <td>0</td>\n",
       "      <td>0</td>\n",
       "      <td>0</td>\n",
       "      <td>0</td>\n",
       "      <td>0</td>\n",
       "      <td>0</td>\n",
       "      <td>0</td>\n",
       "      <td>0.0</td>\n",
       "      <td>0</td>\n",
       "    </tr>\n",
       "    <tr>\n",
       "      <th>6</th>\n",
       "      <td>0</td>\n",
       "      <td>0</td>\n",
       "      <td>0</td>\n",
       "      <td>0.020133</td>\n",
       "      <td>0.020133</td>\n",
       "      <td>0.073203</td>\n",
       "      <td>0.073203</td>\n",
       "      <td>0</td>\n",
       "      <td>0</td>\n",
       "      <td>0</td>\n",
       "      <td>...</td>\n",
       "      <td>0.0</td>\n",
       "      <td>0</td>\n",
       "      <td>0</td>\n",
       "      <td>0</td>\n",
       "      <td>0</td>\n",
       "      <td>0</td>\n",
       "      <td>0</td>\n",
       "      <td>0</td>\n",
       "      <td>0.0</td>\n",
       "      <td>0</td>\n",
       "    </tr>\n",
       "    <tr>\n",
       "      <th>7</th>\n",
       "      <td>0</td>\n",
       "      <td>0</td>\n",
       "      <td>0</td>\n",
       "      <td>0.140800</td>\n",
       "      <td>0.140800</td>\n",
       "      <td>0.144440</td>\n",
       "      <td>0.144440</td>\n",
       "      <td>0</td>\n",
       "      <td>0</td>\n",
       "      <td>0</td>\n",
       "      <td>...</td>\n",
       "      <td>0.0</td>\n",
       "      <td>0</td>\n",
       "      <td>0</td>\n",
       "      <td>0</td>\n",
       "      <td>0</td>\n",
       "      <td>0</td>\n",
       "      <td>0</td>\n",
       "      <td>0</td>\n",
       "      <td>0.0</td>\n",
       "      <td>0</td>\n",
       "    </tr>\n",
       "    <tr>\n",
       "      <th>8</th>\n",
       "      <td>0</td>\n",
       "      <td>0</td>\n",
       "      <td>0</td>\n",
       "      <td>0.004916</td>\n",
       "      <td>0.004916</td>\n",
       "      <td>0.094771</td>\n",
       "      <td>0.094771</td>\n",
       "      <td>0</td>\n",
       "      <td>0</td>\n",
       "      <td>0</td>\n",
       "      <td>...</td>\n",
       "      <td>0.0</td>\n",
       "      <td>0</td>\n",
       "      <td>0</td>\n",
       "      <td>0</td>\n",
       "      <td>0</td>\n",
       "      <td>0</td>\n",
       "      <td>0</td>\n",
       "      <td>0</td>\n",
       "      <td>0.0</td>\n",
       "      <td>0</td>\n",
       "    </tr>\n",
       "    <tr>\n",
       "      <th>9</th>\n",
       "      <td>0</td>\n",
       "      <td>0</td>\n",
       "      <td>0</td>\n",
       "      <td>0.034137</td>\n",
       "      <td>0.034137</td>\n",
       "      <td>0.070588</td>\n",
       "      <td>0.070588</td>\n",
       "      <td>0</td>\n",
       "      <td>0</td>\n",
       "      <td>0</td>\n",
       "      <td>...</td>\n",
       "      <td>0.0</td>\n",
       "      <td>0</td>\n",
       "      <td>0</td>\n",
       "      <td>0</td>\n",
       "      <td>0</td>\n",
       "      <td>0</td>\n",
       "      <td>0</td>\n",
       "      <td>0</td>\n",
       "      <td>0.0</td>\n",
       "      <td>0</td>\n",
       "    </tr>\n",
       "  </tbody>\n",
       "</table>\n",
       "<p>10 rows × 153 columns</p>\n",
       "</div>"
      ],
      "text/plain": [
       "   1  2  3         5         6         8         9  10  11  12  ...  146  147  \\\n",
       "0  0  0  0  0.000066  0.000066  0.009150  0.009150   0   0   0  ...  0.0    0   \n",
       "1  0  0  0  0.000014  0.000014  0.000000  0.000000   0   0   0  ...  0.0    0   \n",
       "2  0  0  0  0.035528  0.035528  0.070588  0.070588   0   0   0  ...  0.0    0   \n",
       "3  0  0  0  0.005128  0.005128  0.094771  0.094771   0   0   0  ...  0.0    0   \n",
       "4  0  0  0  0.035116  0.035116  0.070588  0.070588   0   0   0  ...  0.0    0   \n",
       "5  0  0  0  0.005099  0.005099  0.094771  0.094771   0   0   0  ...  0.0    0   \n",
       "6  0  0  0  0.020133  0.020133  0.073203  0.073203   0   0   0  ...  0.0    0   \n",
       "7  0  0  0  0.140800  0.140800  0.144440  0.144440   0   0   0  ...  0.0    0   \n",
       "8  0  0  0  0.004916  0.004916  0.094771  0.094771   0   0   0  ...  0.0    0   \n",
       "9  0  0  0  0.034137  0.034137  0.070588  0.070588   0   0   0  ...  0.0    0   \n",
       "\n",
       "   148  149  150  151  152  153  154  155  \n",
       "0    0    0    0    0    0    0  0.0    0  \n",
       "1    0    0    0    0    0    0  0.0    0  \n",
       "2    0    0    0    0    0    0  0.0    0  \n",
       "3    0    0    0    0    0    0  0.0    0  \n",
       "4    0    0    0    0    0    0  0.0    0  \n",
       "5    0    0    0    0    0    0  0.0    0  \n",
       "6    0    0    0    0    0    0  0.0    0  \n",
       "7    0    0    0    0    0    0  0.0    0  \n",
       "8    0    0    0    0    0    0  0.0    0  \n",
       "9    0    0    0    0    0    0  0.0    0  \n",
       "\n",
       "[10 rows x 153 columns]"
      ]
     },
     "execution_count": 4,
     "metadata": {},
     "output_type": "execute_result"
    }
   ],
   "source": [
    "''' Check the first 10 rows '''\n",
    "df.head(10)"
   ]
  },
  {
   "cell_type": "code",
   "execution_count": 5,
   "metadata": {},
   "outputs": [
    {
     "name": "stdout",
     "output_type": "stream",
     "text": [
      "             1        2        3             5             6             8  \\\n",
      "count  97044.0  97044.0  97044.0  97044.000000  97044.000000  97044.000000   \n",
      "mean       0.0      0.0      0.0      0.006252      0.006252      0.193837   \n",
      "std        0.0      0.0      0.0      0.015541      0.015541      0.354444   \n",
      "min        0.0      0.0      0.0      0.000003      0.000003      0.000000   \n",
      "25%        0.0      0.0      0.0      0.001442      0.001442      0.037908   \n",
      "50%        0.0      0.0      0.0      0.003706      0.003706      0.037908   \n",
      "75%        0.0      0.0      0.0      0.005916      0.005916      0.054902   \n",
      "max        0.0      0.0      0.0      0.978440      0.978440      1.000000   \n",
      "\n",
      "                  9       10       11       12  ...           146      147  \\\n",
      "count  97044.000000  97044.0  97044.0  97044.0  ...  97044.000000  97044.0   \n",
      "mean       0.193837      0.0      0.0      0.0  ...      0.028436      0.0   \n",
      "std        0.354444      0.0      0.0      0.0  ...      0.062765      0.0   \n",
      "min        0.000000      0.0      0.0      0.0  ...      0.000000      0.0   \n",
      "25%        0.037908      0.0      0.0      0.0  ...      0.000000      0.0   \n",
      "50%        0.037908      0.0      0.0      0.0  ...      0.000000      0.0   \n",
      "75%        0.054902      0.0      0.0      0.0  ...      0.000000      0.0   \n",
      "max        1.000000      0.0      0.0      0.0  ...      1.000000      0.0   \n",
      "\n",
      "           148      149      150      151      152      153           154  \\\n",
      "count  97044.0  97044.0  97044.0  97044.0  97044.0  97044.0  97044.000000   \n",
      "mean       0.0      0.0      0.0      0.0      0.0      0.0      0.178474   \n",
      "std        0.0      0.0      0.0      0.0      0.0      0.0      0.360078   \n",
      "min        0.0      0.0      0.0      0.0      0.0      0.0      0.000000   \n",
      "25%        0.0      0.0      0.0      0.0      0.0      0.0      0.000000   \n",
      "50%        0.0      0.0      0.0      0.0      0.0      0.0      0.023873   \n",
      "75%        0.0      0.0      0.0      0.0      0.0      0.0      0.023873   \n",
      "max        0.0      0.0      0.0      0.0      0.0      0.0      1.000000   \n",
      "\n",
      "                155  \n",
      "count  97044.000000  \n",
      "mean       0.500000  \n",
      "std        0.500003  \n",
      "min        0.000000  \n",
      "25%        0.000000  \n",
      "50%        0.500000  \n",
      "75%        1.000000  \n",
      "max        1.000000  \n",
      "\n",
      "[8 rows x 153 columns]\n"
     ]
    }
   ],
   "source": [
    "''' Descriptive statistics '''\n",
    "print(df.describe())"
   ]
  },
  {
   "cell_type": "code",
   "execution_count": 6,
   "metadata": {},
   "outputs": [
    {
     "name": "stdout",
     "output_type": "stream",
     "text": [
      "['5' '6' '8' '9' '14' '15' '16' '18' '20' '26' '29' '38' '43' '47' '48'\n",
      " '50' '51' '52' '61' '62' '64' '66' '67' '68' '70' '71' '72' '73' '75'\n",
      " '76' '77' '78' '79' '80' '82' '83' '84' '86' '88' '89' '90' '93' '94'\n",
      " '97' '98' '104' '105' '106' '107' '108' '109' '110' '111' '112' '113'\n",
      " '117' '118' '119' '120' '121' '122' '123' '125' '126' '127' '128' '129'\n",
      " '130' '133' '138' '140' '141' '142' '143' '144' '145' '146' '154' '155']\n"
     ]
    }
   ],
   "source": [
    "''' Step 1 - Delete columns with no values '''\n",
    "\n",
    "columnsToDelete = [] \n",
    "\n",
    "# if the feature has std == 0 it means no values or only one value\n",
    "for key, value in df.iteritems():\n",
    "    if df[key].std() == 0:\n",
    "        columnsToDelete.append(key)\n",
    "        \n",
    "df1 = df.drop(columnsToDelete, axis=1) # 74 features have been deleted\n",
    "\n",
    "# the features are now 78 + 1 class\n",
    "print(df1.columns.values)\n"
   ]
  },
  {
   "cell_type": "code",
   "execution_count": 7,
   "metadata": {},
   "outputs": [
    {
     "name": "stdout",
     "output_type": "stream",
     "text": [
      "['5' '8' '14' '38' '47' '48' '50' '51' '61' '64' '66' '67' '68' '70' '71'\n",
      " '72' '73' '75' '76' '77' '78' '79' '80' '82' '83' '84' '86' '88' '90'\n",
      " '93' '94' '97' '98' '104' '105' '106' '107' '108' '109' '110' '111' '112'\n",
      " '113' '117' '118' '119' '120' '121' '122' '123' '125' '126' '127' '128'\n",
      " '129' '130' '138' '140' '141' '142' '143' '144' '145' '154' '155']\n"
     ]
    }
   ],
   "source": [
    "''' Step 2 - Some features are duplicates of other features, then they can be removed keeping only the first column '''\n",
    "\n",
    "# df has 14 duplicated features, then, after removing them, the new dataframe has 64 features + 1 class\n",
    "df2 = df1.loc[:,~df1.T.duplicated(keep='first')]\n",
    "\n",
    "# the features are now 64 + 1 class\n",
    "print(df2.columns.values)\n"
   ]
  },
  {
   "cell_type": "code",
   "execution_count": 8,
   "metadata": {},
   "outputs": [
    {
     "name": "stdout",
     "output_type": "stream",
     "text": [
      "5       8718\n",
      "8        399\n",
      "14         2\n",
      "38     25023\n",
      "47        12\n",
      "48        11\n",
      "50         2\n",
      "51         2\n",
      "61        63\n",
      "64        20\n",
      "66         3\n",
      "67        12\n",
      "68         3\n",
      "70         2\n",
      "71         2\n",
      "72         2\n",
      "73         2\n",
      "75        80\n",
      "76       133\n",
      "77        84\n",
      "78        42\n",
      "79        46\n",
      "80        18\n",
      "82      4096\n",
      "83         2\n",
      "84         2\n",
      "86         2\n",
      "88         4\n",
      "90         2\n",
      "93         2\n",
      "       ...  \n",
      "106        2\n",
      "107     1738\n",
      "108        2\n",
      "109        4\n",
      "110        3\n",
      "111        2\n",
      "112        4\n",
      "113        2\n",
      "117        6\n",
      "118        2\n",
      "119       34\n",
      "120       14\n",
      "121        2\n",
      "122        3\n",
      "123        2\n",
      "125        3\n",
      "126        2\n",
      "127        3\n",
      "128        3\n",
      "129        2\n",
      "130        2\n",
      "138        2\n",
      "140    17320\n",
      "141        4\n",
      "142    20359\n",
      "143     1076\n",
      "144       75\n",
      "145        3\n",
      "154      333\n",
      "155        2\n",
      "Length: 65, dtype: int64\n"
     ]
    }
   ],
   "source": [
    "''' Check the unique values for each feature '''\n",
    "\n",
    "print(df2.nunique()) \n"
   ]
  },
  {
   "cell_type": "code",
   "execution_count": 9,
   "metadata": {},
   "outputs": [
    {
     "data": {
      "image/png": "[encoded data removed]",
      "text/plain": [
       "<Figure size 360x216 with 1 Axes>"
      ]
     },
     "metadata": {
      "needs_background": "light"
     },
     "output_type": "display_data"
    }
   ],
   "source": [
    "'''Plot the distribution for the 3 main groups:\n",
    "\n",
    "    - features with continuous values between 0 and 1 (ex: 38)\n",
    "    - features with only two values, 0 and 1 (ex: 71)\n",
    "    - features with a few values (ex: 145) '''\n",
    "\n",
    "# no feature with a perfect normal distribution\n",
    "df2[[\"38\", \"71\", \"145\"]].plot.kde(figsize=(5,3), sharex=False)\n",
    "pyplot.show()\n"
   ]
  },
  {
   "cell_type": "code",
   "execution_count": 10,
   "metadata": {},
   "outputs": [
    {
     "name": "stdout",
     "output_type": "stream",
     "text": [
      "['47', '50', '64', '66', '68', '84', '86', '90', '97', '98', '107', '108', '118', '119', '126', '127', '128', '129', '141']\n"
     ]
    }
   ],
   "source": [
    "''' Step 3 - Create two correlation matrices (Kendall and Spearman) and remove highly correlated features (ie. >= 0.9 )'''\n",
    "\n",
    "# Create correlation matrix with kendall method\n",
    "corr_matrix_kendall = df2.corr(method='kendall').abs()\n",
    "\n",
    "# Create a True/False mask and apply it\n",
    "mask_kendall = np.triu(np.ones_like(corr_matrix_kendall, dtype=bool))\n",
    "tri_df_kendall = corr_matrix_kendall.mask(mask_kendall)\n",
    "\n",
    "# List column names of highly correlated features ( >= 0.90 )\n",
    "kendall_to_drop = [c for c in tri_df_kendall.columns if any(tri_df_kendall[c] >= 0.90)]\n",
    "\n",
    "# Create correlation matrix with spearman method\n",
    "corr_matrix_spearman = df2.corr(method='spearman').abs()\n",
    "\n",
    "# Create a True/False mask and apply it\n",
    "mask_spearman = np.triu(np.ones_like(corr_matrix_spearman, dtype=bool))\n",
    "tri_df_spearman = corr_matrix_spearman.mask(mask_spearman)\n",
    "\n",
    "# List column names of highly correlated features ( >= 0.90 )\n",
    "spearman_to_drop = [c for c in tri_df_spearman.columns if any(tri_df_spearman[c] >= 0.90)]\n",
    "\n",
    "# The two methods show almost the same features, 19 are in common, 1 is not\n",
    "drop_high_corr = []\n",
    "for i in kendall_to_drop:\n",
    "    if i in spearman_to_drop:\n",
    "        drop_high_corr.append(i)\n",
    "\n",
    "# drop the 19 common features with high correlation both with kendall and spearman       \n",
    "df3 = df2.drop(drop_high_corr, axis=1)  \n",
    "\n",
    "# print the common features removed from the dataframe\n",
    "print(drop_high_corr)\n"
   ]
  },
  {
   "cell_type": "code",
   "execution_count": 11,
   "metadata": {},
   "outputs": [
    {
     "name": "stdout",
     "output_type": "stream",
     "text": [
      "46\n",
      "['5' '8' '14' '38' '48' '51' '61' '67' '70' '71' '72' '73' '75' '76' '77'\n",
      " '78' '79' '80' '82' '83' '88' '93' '94' '104' '105' '106' '109' '110'\n",
      " '111' '112' '113' '117' '120' '121' '122' '123' '125' '130' '138' '140'\n",
      " '142' '143' '144' '145' '154' '155']\n"
     ]
    }
   ],
   "source": [
    "''' After this step the dataframe has 45 features and 1 class '''\n",
    "\n",
    "print(len(df3.columns.values))\n",
    "print(df3.columns.values)"
   ]
  },
  {
   "cell_type": "code",
   "execution_count": 12,
   "metadata": {},
   "outputs": [
    {
     "data": {
      "text/plain": [
       "' Analysis and plotting of the dataframe df3 show that none of the features has a normal form '"
      ]
     },
     "execution_count": 12,
     "metadata": {},
     "output_type": "execute_result"
    }
   ],
   "source": [
    "''' Analysis and plotting of the dataframe df3 show that none of the features has a normal form '''\n",
    "\n",
    "# Uncomment to see the plots\n",
    "\n",
    "# skewness\n",
    "#skew = df3.skew()\n",
    "#print(skew)\n",
    "\n",
    "# histogram plot\n",
    "#df3.hist(layout=(9,9), figsize=(30,14))\n",
    "#pyplot.show()\n",
    "\n",
    "# density plot\n",
    "#df3.plot(kind='density', subplots=True, layout=(9,9), sharex=False, figsize=(20,14))\n",
    "#pyplot.show()\n",
    "\n",
    "# Box and Whisker Plot\n",
    "#df3.plot(kind='box', subplots=True, layout=(9,9), sharex=False, sharey=False, figsize=(20,14))\n",
    "#pyplot.show()\n",
    "\n",
    "# Scatterplot Matrix\n",
    "# it takes a lot to run\n",
    "#scatter_matrix(df3, figsize=[5, 5])\n",
    "#pyplot.show()\n"
   ]
  },
  {
   "cell_type": "code",
   "execution_count": 13,
   "metadata": {},
   "outputs": [],
   "source": [
    "''' Step 4 - Standardize the features to give them a normal form: mean = 0, sd = 1 '''\n",
    "\n",
    "# save the features name\n",
    "features_names = df3.columns.values\n",
    "\n",
    "# use the array lenght\n",
    "df3_len = len(df3.columns.values) - 1\n",
    "\n",
    "# extract the values from the dataframe\n",
    "array = df3.values\n",
    "X = array[:, 0:df3_len] # extract the features\n",
    "Y = array[:, df3_len].astype(int) # extract the class\n",
    "\n",
    "# fit and transform the values\n",
    "scaler = StandardScaler().fit(X)\n",
    "rescaledX = scaler.transform(X)\n",
    "\n",
    "# a new dataframe is created with the standardized values\n",
    "df4 = pd.DataFrame(rescaledX, columns=features_names[0:df3_len])\n",
    "\n",
    "# add the class 155\n",
    "df4.insert(df3_len, '155', Y, False)\n"
   ]
  },
  {
   "cell_type": "code",
   "execution_count": 14,
   "metadata": {},
   "outputs": [
    {
     "name": "stdout",
     "output_type": "stream",
     "text": [
      "          5         8        14        38       48        51        61  \\\n",
      "0 -0.398089 -0.521063  0.014712 -3.142811  0.01475  1.534041  0.708991   \n",
      "1 -0.401396 -0.546879  0.014712 -3.142628  0.01475  1.534041  0.708991   \n",
      "2  1.883791 -0.347726  0.014712 -3.142264  0.01475 -0.651873 -0.254672   \n",
      "3 -0.072373 -0.279498  0.014712 -3.141809  0.01475 -0.651873 -4.109153   \n",
      "4  1.857280 -0.347726  0.014712 -3.141445  0.01475 -0.651873 -0.013756   \n",
      "\n",
      "         67        70        71  ...       125       130      138       140  \\\n",
      "0 -0.175252 -0.285459  1.391247  ... -0.038843 -0.148360 -0.00321 -1.050047   \n",
      "1  1.575793 -0.285459 -0.718780  ... -0.038843 -0.148360 -0.00321 -1.050047   \n",
      "2  0.602982 -0.285459 -0.718780  ... -0.038843 -0.148360 -0.00321 -1.050047   \n",
      "3  0.602982 -0.285459 -0.718780  ... -0.038843  6.740366 -0.00321 -1.050047   \n",
      "4  0.602982 -0.285459 -0.718780  ... -0.038843 -0.148360 -0.00321 -1.050047   \n",
      "\n",
      "        142       143      144       145       154  155  \n",
      "0 -0.995985 -0.091603 -0.02603 -0.453058 -0.495656    0  \n",
      "1 -0.995985 -0.091603 -0.02603 -0.453058 -0.495656    0  \n",
      "2 -0.995985 -0.091603 -0.02603 -0.453058 -0.495656    0  \n",
      "3 -0.995985 -0.091603 -0.02603 -0.453058 -0.495656    0  \n",
      "4 -0.995985 -0.091603 -0.02603 -0.453058 -0.495656    0  \n",
      "\n",
      "[5 rows x 46 columns]\n"
     ]
    }
   ],
   "source": [
    "''' Now we have a dataframe with standardized values '''\n",
    "\n",
    "print(df4.head(5))\n"
   ]
  },
  {
   "cell_type": "code",
   "execution_count": 15,
   "metadata": {},
   "outputs": [
    {
     "data": {
      "image/png": "[encoded data removed]",
      "text/plain": [
       "<Figure size 360x216 with 1 Axes>"
      ]
     },
     "metadata": {
      "needs_background": "light"
     },
     "output_type": "display_data"
    }
   ],
   "source": [
    "''' After standardizing, the features do not show a perfect bell-shaped distribution, but there\n",
    "    is some improvement '''\n",
    "\n",
    "df4[[\"38\", \"71\", \"145\"]].plot.kde(figsize=(5,3), sharex=False )\n",
    "pyplot.show()\n"
   ]
  },
  {
   "cell_type": "code",
   "execution_count": 16,
   "metadata": {},
   "outputs": [],
   "source": [
    "''' This function performs the steps previously described '''\n",
    "\n",
    "filename = 'train_imperson_without4n7_balanced_data.csv'\n",
    "\n",
    "def preproc_df(filename):\n",
    "    dataframe = pd.read_csv(filename, header=0, na_values=['nan'])\n",
    "    \n",
    "    # Step 1 - remove features with no values\n",
    "    columnsToDelete = [] \n",
    "    for key, value in dataframe.iteritems():\n",
    "        if dataframe[key].std() == 0:\n",
    "            columnsToDelete.append(key)\n",
    "        \n",
    "    df1 = dataframe.drop(columnsToDelete, axis=1)\n",
    "    \n",
    "    # Step 2 - remove duplicated features, keeping only the first one \n",
    "    df2 = df1.loc[:,~df1.T.duplicated(keep='first')]\n",
    "    \n",
    "    # Step 3 - Compute correlation matrices and drop the features with high correlation \n",
    "    corr_matrix_kendall = df2.corr(method='kendall').abs()\n",
    "    mask_kendall = np.triu(np.ones_like(corr_matrix_kendall, dtype=bool))\n",
    "    tri_df_kendall = corr_matrix_kendall.mask(mask_kendall)\n",
    "    kendall_to_drop = [c for c in tri_df_kendall.columns if any(tri_df_kendall[c] >= 0.90)]\n",
    "\n",
    "    corr_matrix_spearman = df2.corr(method='spearman').abs()\n",
    "    mask_spearman = np.triu(np.ones_like(corr_matrix_spearman, dtype=bool))\n",
    "    tri_df_spearman = corr_matrix_spearman.mask(mask_spearman)\n",
    "    spearman_to_drop = [c for c in tri_df_spearman.columns if any(tri_df_spearman[c] >= 0.90)]\n",
    "    \n",
    "    # list the features having high kendall and spearman correlation\n",
    "    drop_high_corr = []\n",
    "    for i in kendall_to_drop:\n",
    "        if i in spearman_to_drop:\n",
    "            drop_high_corr.append(i)\n",
    "\n",
    "    # drop the common features       \n",
    "    df3 = df2.drop(drop_high_corr, axis=1)  \n",
    "    \n",
    "    # Step 4 - Standardize the features\n",
    "    features_names = df3.columns.values # save the feature names\n",
    "    df3_len = len(df3.columns.values) - 1 # use the array length \n",
    "\n",
    "    # extract the values from the dataframe (features and class)\n",
    "    array = df3.values\n",
    "    X = array[:, 0:df3_len] \n",
    "    Y = array[:, df3_len].astype(int) \n",
    "\n",
    "    # fit and transform the values\n",
    "    scaler = StandardScaler().fit(X)\n",
    "    rescaledX = scaler.transform(X)\n",
    "\n",
    "    # a new dataframe is created with the standardized values\n",
    "    df4 = pd.DataFrame(rescaledX, columns=features_names[0:df3_len])\n",
    "\n",
    "    # add the class 155\n",
    "    df4.insert(df3_len, '155', Y, False)\n",
    "\n",
    "    return df4\n"
   ]
  },
  {
   "cell_type": "code",
   "execution_count": 17,
   "metadata": {},
   "outputs": [
    {
     "data": {
      "text/plain": [
       "\" Before the Feature selection stage the train dataset has 45 features and 1 class\\n\\n['5' '8' '14' '38' '48' '51' '61' '67' '70' '71' '72' '73' '75' '76' '77'\\n '78' '79' '80' '82' '83' '88' '93' '94' '104' '105' '106' '109' '110'\\n '111' '112' '113' '117' '120' '121' '122' '123' '125' '130' '138' '140'\\n '142' '143' '144' '145' '154' '155']\\n\\n\\nwhile the test dataset has 43 features and 1 class\\n\\n['5' '8' '14' '38' '47' '48' '51' '61' '64' '67' '70' '71' '72' '73' '75'\\n '76' '77' '79' '80' '81' '82' '94' '104' '105' '106' '109' '110' '111'\\n '112' '120' '121' '122' '123' '125' '128' '140' '141' '142' '143' '144'\\n '145' '148' '154' '155']\\n \\n\""
      ]
     },
     "execution_count": 17,
     "metadata": {},
     "output_type": "execute_result"
    }
   ],
   "source": [
    "''' Before the Feature selection stage the train dataset has 45 features and 1 class\n",
    "\n",
    "['5' '8' '14' '38' '48' '51' '61' '67' '70' '71' '72' '73' '75' '76' '77'\n",
    " '78' '79' '80' '82' '83' '88' '93' '94' '104' '105' '106' '109' '110'\n",
    " '111' '112' '113' '117' '120' '121' '122' '123' '125' '130' '138' '140'\n",
    " '142' '143' '144' '145' '154' '155']\n",
    "\n",
    "\n",
    "while the test dataset has 43 features and 1 class\n",
    "\n",
    "['5' '8' '14' '38' '47' '48' '51' '61' '64' '67' '70' '71' '72' '73' '75'\n",
    " '76' '77' '79' '80' '81' '82' '94' '104' '105' '106' '109' '110' '111'\n",
    " '112' '120' '121' '122' '123' '125' '128' '140' '141' '142' '143' '144'\n",
    " '145' '148' '154' '155']\n",
    " \n",
    "'''\n"
   ]
  },
  {
   "cell_type": "code",
   "execution_count": 18,
   "metadata": {},
   "outputs": [],
   "source": [
    "''' Feature Selection (INDIVIDUAL 2) '''\n",
    "''' Ian Dickerson '''\n",
    "from sklearn.feature_selection import mutual_info_classif\n"
   ]
  },
  {
   "cell_type": "code",
   "execution_count": 19,
   "metadata": {},
   "outputs": [
    {
     "data": {
      "text/html": [
       "<div>\n",
       "<style scoped>\n",
       "    .dataframe tbody tr th:only-of-type {\n",
       "        vertical-align: middle;\n",
       "    }\n",
       "\n",
       "    .dataframe tbody tr th {\n",
       "        vertical-align: top;\n",
       "    }\n",
       "\n",
       "    .dataframe thead th {\n",
       "        text-align: right;\n",
       "    }\n",
       "</style>\n",
       "<table border=\"1\" class=\"dataframe\">\n",
       "  <thead>\n",
       "    <tr style=\"text-align: right;\">\n",
       "      <th></th>\n",
       "      <th>5</th>\n",
       "      <th>8</th>\n",
       "      <th>14</th>\n",
       "      <th>38</th>\n",
       "      <th>48</th>\n",
       "      <th>51</th>\n",
       "      <th>61</th>\n",
       "      <th>67</th>\n",
       "      <th>70</th>\n",
       "      <th>71</th>\n",
       "      <th>...</th>\n",
       "      <th>125</th>\n",
       "      <th>130</th>\n",
       "      <th>138</th>\n",
       "      <th>140</th>\n",
       "      <th>142</th>\n",
       "      <th>143</th>\n",
       "      <th>144</th>\n",
       "      <th>145</th>\n",
       "      <th>154</th>\n",
       "      <th>155</th>\n",
       "    </tr>\n",
       "  </thead>\n",
       "  <tbody>\n",
       "    <tr>\n",
       "      <th>0</th>\n",
       "      <td>-0.398089</td>\n",
       "      <td>-0.521063</td>\n",
       "      <td>0.014712</td>\n",
       "      <td>-3.142811</td>\n",
       "      <td>0.01475</td>\n",
       "      <td>1.534041</td>\n",
       "      <td>0.708991</td>\n",
       "      <td>-0.175252</td>\n",
       "      <td>-0.285459</td>\n",
       "      <td>1.391247</td>\n",
       "      <td>...</td>\n",
       "      <td>-0.038843</td>\n",
       "      <td>-0.148360</td>\n",
       "      <td>-0.00321</td>\n",
       "      <td>-1.050047</td>\n",
       "      <td>-0.995985</td>\n",
       "      <td>-0.091603</td>\n",
       "      <td>-0.02603</td>\n",
       "      <td>-0.453058</td>\n",
       "      <td>-0.495656</td>\n",
       "      <td>0</td>\n",
       "    </tr>\n",
       "    <tr>\n",
       "      <th>1</th>\n",
       "      <td>-0.401396</td>\n",
       "      <td>-0.546879</td>\n",
       "      <td>0.014712</td>\n",
       "      <td>-3.142628</td>\n",
       "      <td>0.01475</td>\n",
       "      <td>1.534041</td>\n",
       "      <td>0.708991</td>\n",
       "      <td>1.575793</td>\n",
       "      <td>-0.285459</td>\n",
       "      <td>-0.718780</td>\n",
       "      <td>...</td>\n",
       "      <td>-0.038843</td>\n",
       "      <td>-0.148360</td>\n",
       "      <td>-0.00321</td>\n",
       "      <td>-1.050047</td>\n",
       "      <td>-0.995985</td>\n",
       "      <td>-0.091603</td>\n",
       "      <td>-0.02603</td>\n",
       "      <td>-0.453058</td>\n",
       "      <td>-0.495656</td>\n",
       "      <td>0</td>\n",
       "    </tr>\n",
       "    <tr>\n",
       "      <th>2</th>\n",
       "      <td>1.883791</td>\n",
       "      <td>-0.347726</td>\n",
       "      <td>0.014712</td>\n",
       "      <td>-3.142264</td>\n",
       "      <td>0.01475</td>\n",
       "      <td>-0.651873</td>\n",
       "      <td>-0.254672</td>\n",
       "      <td>0.602982</td>\n",
       "      <td>-0.285459</td>\n",
       "      <td>-0.718780</td>\n",
       "      <td>...</td>\n",
       "      <td>-0.038843</td>\n",
       "      <td>-0.148360</td>\n",
       "      <td>-0.00321</td>\n",
       "      <td>-1.050047</td>\n",
       "      <td>-0.995985</td>\n",
       "      <td>-0.091603</td>\n",
       "      <td>-0.02603</td>\n",
       "      <td>-0.453058</td>\n",
       "      <td>-0.495656</td>\n",
       "      <td>0</td>\n",
       "    </tr>\n",
       "    <tr>\n",
       "      <th>3</th>\n",
       "      <td>-0.072373</td>\n",
       "      <td>-0.279498</td>\n",
       "      <td>0.014712</td>\n",
       "      <td>-3.141809</td>\n",
       "      <td>0.01475</td>\n",
       "      <td>-0.651873</td>\n",
       "      <td>-4.109153</td>\n",
       "      <td>0.602982</td>\n",
       "      <td>-0.285459</td>\n",
       "      <td>-0.718780</td>\n",
       "      <td>...</td>\n",
       "      <td>-0.038843</td>\n",
       "      <td>6.740366</td>\n",
       "      <td>-0.00321</td>\n",
       "      <td>-1.050047</td>\n",
       "      <td>-0.995985</td>\n",
       "      <td>-0.091603</td>\n",
       "      <td>-0.02603</td>\n",
       "      <td>-0.453058</td>\n",
       "      <td>-0.495656</td>\n",
       "      <td>0</td>\n",
       "    </tr>\n",
       "    <tr>\n",
       "      <th>4</th>\n",
       "      <td>1.857280</td>\n",
       "      <td>-0.347726</td>\n",
       "      <td>0.014712</td>\n",
       "      <td>-3.141445</td>\n",
       "      <td>0.01475</td>\n",
       "      <td>-0.651873</td>\n",
       "      <td>-0.013756</td>\n",
       "      <td>0.602982</td>\n",
       "      <td>-0.285459</td>\n",
       "      <td>-0.718780</td>\n",
       "      <td>...</td>\n",
       "      <td>-0.038843</td>\n",
       "      <td>-0.148360</td>\n",
       "      <td>-0.00321</td>\n",
       "      <td>-1.050047</td>\n",
       "      <td>-0.995985</td>\n",
       "      <td>-0.091603</td>\n",
       "      <td>-0.02603</td>\n",
       "      <td>-0.453058</td>\n",
       "      <td>-0.495656</td>\n",
       "      <td>0</td>\n",
       "    </tr>\n",
       "  </tbody>\n",
       "</table>\n",
       "<p>5 rows × 46 columns</p>\n",
       "</div>"
      ],
      "text/plain": [
       "          5         8        14        38       48        51        61  \\\n",
       "0 -0.398089 -0.521063  0.014712 -3.142811  0.01475  1.534041  0.708991   \n",
       "1 -0.401396 -0.546879  0.014712 -3.142628  0.01475  1.534041  0.708991   \n",
       "2  1.883791 -0.347726  0.014712 -3.142264  0.01475 -0.651873 -0.254672   \n",
       "3 -0.072373 -0.279498  0.014712 -3.141809  0.01475 -0.651873 -4.109153   \n",
       "4  1.857280 -0.347726  0.014712 -3.141445  0.01475 -0.651873 -0.013756   \n",
       "\n",
       "         67        70        71  ...       125       130      138       140  \\\n",
       "0 -0.175252 -0.285459  1.391247  ... -0.038843 -0.148360 -0.00321 -1.050047   \n",
       "1  1.575793 -0.285459 -0.718780  ... -0.038843 -0.148360 -0.00321 -1.050047   \n",
       "2  0.602982 -0.285459 -0.718780  ... -0.038843 -0.148360 -0.00321 -1.050047   \n",
       "3  0.602982 -0.285459 -0.718780  ... -0.038843  6.740366 -0.00321 -1.050047   \n",
       "4  0.602982 -0.285459 -0.718780  ... -0.038843 -0.148360 -0.00321 -1.050047   \n",
       "\n",
       "        142       143      144       145       154  155  \n",
       "0 -0.995985 -0.091603 -0.02603 -0.453058 -0.495656    0  \n",
       "1 -0.995985 -0.091603 -0.02603 -0.453058 -0.495656    0  \n",
       "2 -0.995985 -0.091603 -0.02603 -0.453058 -0.495656    0  \n",
       "3 -0.995985 -0.091603 -0.02603 -0.453058 -0.495656    0  \n",
       "4 -0.995985 -0.091603 -0.02603 -0.453058 -0.495656    0  \n",
       "\n",
       "[5 rows x 46 columns]"
      ]
     },
     "execution_count": 19,
     "metadata": {},
     "output_type": "execute_result"
    }
   ],
   "source": [
    "processed_df = preproc_df(\"./train_imperson_without4n7_balanced_data.csv\")\n",
    "processed_df.head()"
   ]
  },
  {
   "cell_type": "markdown",
   "metadata": {},
   "source": [
    "### Filtering\n",
    "\n",
    "Build a separate dataframe to track information about the features"
   ]
  },
  {
   "cell_type": "code",
   "execution_count": 20,
   "metadata": {},
   "outputs": [],
   "source": [
    "features = pd.DataFrame(index = processed_df.columns[:-1])\n"
   ]
  },
  {
   "cell_type": "code",
   "execution_count": 21,
   "metadata": {},
   "outputs": [],
   "source": [
    "features[\"MI\"] = mutual_info_classif(processed_df.iloc[:,:-1],processed_df[\"155\"])"
   ]
  },
  {
   "cell_type": "code",
   "execution_count": 22,
   "metadata": {},
   "outputs": [],
   "source": [
    "features[\"absrho\"] = [abs(processed_df[f].corr(processed_df[\"155\"],method='pearson' )) for f in features.index]\n",
    "features[\"abstau\"] = [abs(processed_df[f].corr(processed_df[\"155\"],method='kendall' )) for f in features.index]"
   ]
  },
  {
   "cell_type": "markdown",
   "metadata": {},
   "source": [
    "Then the features with high MI, rho or tau can be identified with:"
   ]
  },
  {
   "cell_type": "code",
   "execution_count": 23,
   "metadata": {},
   "outputs": [
    {
     "data": {
      "text/html": [
       "<div>\n",
       "<style scoped>\n",
       "    .dataframe tbody tr th:only-of-type {\n",
       "        vertical-align: middle;\n",
       "    }\n",
       "\n",
       "    .dataframe tbody tr th {\n",
       "        vertical-align: top;\n",
       "    }\n",
       "\n",
       "    .dataframe thead th {\n",
       "        text-align: right;\n",
       "    }\n",
       "</style>\n",
       "<table border=\"1\" class=\"dataframe\">\n",
       "  <thead>\n",
       "    <tr style=\"text-align: right;\">\n",
       "      <th></th>\n",
       "      <th>MI</th>\n",
       "      <th>absrho</th>\n",
       "      <th>abstau</th>\n",
       "    </tr>\n",
       "  </thead>\n",
       "  <tbody>\n",
       "    <tr>\n",
       "      <th>5</th>\n",
       "      <td>0.446103</td>\n",
       "      <td>0.058410</td>\n",
       "      <td>0.517106</td>\n",
       "    </tr>\n",
       "    <tr>\n",
       "      <th>8</th>\n",
       "      <td>0.635981</td>\n",
       "      <td>0.438183</td>\n",
       "      <td>0.119957</td>\n",
       "    </tr>\n",
       "    <tr>\n",
       "      <th>38</th>\n",
       "      <td>0.648695</td>\n",
       "      <td>0.496848</td>\n",
       "      <td>0.448580</td>\n",
       "    </tr>\n",
       "    <tr>\n",
       "      <th>51</th>\n",
       "      <td>0.275384</td>\n",
       "      <td>0.651828</td>\n",
       "      <td>0.651828</td>\n",
       "    </tr>\n",
       "    <tr>\n",
       "      <th>67</th>\n",
       "      <td>0.476068</td>\n",
       "      <td>0.838937</td>\n",
       "      <td>0.783199</td>\n",
       "    </tr>\n",
       "    <tr>\n",
       "      <th>71</th>\n",
       "      <td>0.319016</td>\n",
       "      <td>0.708561</td>\n",
       "      <td>0.708561</td>\n",
       "    </tr>\n",
       "    <tr>\n",
       "      <th>73</th>\n",
       "      <td>0.131529</td>\n",
       "      <td>0.477183</td>\n",
       "      <td>0.477183</td>\n",
       "    </tr>\n",
       "    <tr>\n",
       "      <th>75</th>\n",
       "      <td>0.274798</td>\n",
       "      <td>0.296245</td>\n",
       "      <td>0.620754</td>\n",
       "    </tr>\n",
       "    <tr>\n",
       "      <th>76</th>\n",
       "      <td>0.478523</td>\n",
       "      <td>0.099870</td>\n",
       "      <td>0.747373</td>\n",
       "    </tr>\n",
       "    <tr>\n",
       "      <th>77</th>\n",
       "      <td>0.488204</td>\n",
       "      <td>0.201783</td>\n",
       "      <td>0.289967</td>\n",
       "    </tr>\n",
       "    <tr>\n",
       "      <th>79</th>\n",
       "      <td>0.525573</td>\n",
       "      <td>0.081860</td>\n",
       "      <td>0.725743</td>\n",
       "    </tr>\n",
       "    <tr>\n",
       "      <th>80</th>\n",
       "      <td>0.154528</td>\n",
       "      <td>0.030155</td>\n",
       "      <td>0.452988</td>\n",
       "    </tr>\n",
       "    <tr>\n",
       "      <th>82</th>\n",
       "      <td>0.582380</td>\n",
       "      <td>0.493602</td>\n",
       "      <td>0.234276</td>\n",
       "    </tr>\n",
       "    <tr>\n",
       "      <th>140</th>\n",
       "      <td>0.577050</td>\n",
       "      <td>0.180674</td>\n",
       "      <td>0.245990</td>\n",
       "    </tr>\n",
       "    <tr>\n",
       "      <th>142</th>\n",
       "      <td>0.575847</td>\n",
       "      <td>0.115751</td>\n",
       "      <td>0.230346</td>\n",
       "    </tr>\n",
       "    <tr>\n",
       "      <th>145</th>\n",
       "      <td>0.140865</td>\n",
       "      <td>0.453058</td>\n",
       "      <td>0.453468</td>\n",
       "    </tr>\n",
       "    <tr>\n",
       "      <th>154</th>\n",
       "      <td>0.525952</td>\n",
       "      <td>0.434536</td>\n",
       "      <td>0.006752</td>\n",
       "    </tr>\n",
       "  </tbody>\n",
       "</table>\n",
       "</div>"
      ],
      "text/plain": [
       "           MI    absrho    abstau\n",
       "5    0.446103  0.058410  0.517106\n",
       "8    0.635981  0.438183  0.119957\n",
       "38   0.648695  0.496848  0.448580\n",
       "51   0.275384  0.651828  0.651828\n",
       "67   0.476068  0.838937  0.783199\n",
       "71   0.319016  0.708561  0.708561\n",
       "73   0.131529  0.477183  0.477183\n",
       "75   0.274798  0.296245  0.620754\n",
       "76   0.478523  0.099870  0.747373\n",
       "77   0.488204  0.201783  0.289967\n",
       "79   0.525573  0.081860  0.725743\n",
       "80   0.154528  0.030155  0.452988\n",
       "82   0.582380  0.493602  0.234276\n",
       "140  0.577050  0.180674  0.245990\n",
       "142  0.575847  0.115751  0.230346\n",
       "145  0.140865  0.453058  0.453468\n",
       "154  0.525952  0.434536  0.006752"
      ]
     },
     "execution_count": 23,
     "metadata": {},
     "output_type": "execute_result"
    }
   ],
   "source": [
    "features.loc[(features.MI > 0.4)|(features.absrho > 0.4)|(features.abstau > 0.4)]"
   ]
  },
  {
   "cell_type": "markdown",
   "metadata": {},
   "source": [
    "### PCA"
   ]
  },
  {
   "cell_type": "code",
   "execution_count": 24,
   "metadata": {},
   "outputs": [],
   "source": [
    "from sklearn.decomposition import PCA"
   ]
  },
  {
   "cell_type": "code",
   "execution_count": 25,
   "metadata": {},
   "outputs": [],
   "source": [
    "pca = PCA(n_components=5)\n",
    "pcaX = pca.fit_transform(processed_df.iloc[:,:-1])"
   ]
  },
  {
   "cell_type": "markdown",
   "metadata": {},
   "source": [
    "Add the PCs to the processed dataframe"
   ]
  },
  {
   "cell_type": "code",
   "execution_count": null,
   "metadata": {},
   "outputs": [],
   "source": [
    "processed_with_pcs = pd.DataFrame(pcaX,columns=[f\"PC{i}\" for i in range(1,6)]).join(processed_df)\n",
    "processed_with_pcs.head()"
   ]
  },
  {
   "cell_type": "markdown",
   "metadata": {},
   "source": [
    "## Feature selection function"
   ]
  },
  {
   "cell_type": "code",
   "execution_count": null,
   "metadata": {},
   "outputs": [],
   "source": [
    "def get_df(filename, rho=0.4, tau=0.4, mi=0.4, pcs=5):\n",
    "    \n",
    "    # Preprocessing\n",
    "    processed_data = preproc_df(filename)\n",
    "    # Feature information tracking\n",
    "    features = pd.DataFrame(index = processed_data.columns[:-1])\n",
    "    features[\"MI\"] = mutual_info_classif(processed_data.iloc[:,:-1],processed_data[\"155\"])\n",
    "    features[\"absrho\"] = [abs(processed_data[f].corr(processed_data[\"155\"],method='pearson' )) for f in features.index]\n",
    "    features[\"abstau\"] = [abs(processed_data[f].corr(processed_data[\"155\"],method='kendall' )) for f in features.index]\n",
    "    # Principal component analysis\n",
    "    pca = PCA(n_components=pcs)\n",
    "    pcaX = pca.fit_transform(processed_data.iloc[:,:-1])\n",
    "    pc_names = [f\"PC{i}\" for i in range(1,pcs+1)]\n",
    "    # Select features that meet the thresholds, plus PCs\n",
    "    feature_names = list(features.loc[(features.MI > mi)|(features.absrho > rho)|(features.abstau > tau)].index)\n",
    "    return pd.DataFrame(pcaX,columns=pc_names).join(processed_data[feature_names+[\"155\"]])"
   ]
  },
  {
   "cell_type": "code",
   "execution_count": null,
   "metadata": {
    "scrolled": true
   },
   "outputs": [],
   "source": [
    "data_for_training = get_df(\"./train_imperson_without4n7_balanced_data.csv\")\n",
    "data_for_training.head()"
   ]
  },
  {
   "cell_type": "code",
   "execution_count": 36,
   "metadata": {
    "scrolled": true
   },
   "outputs": [],
   "source": [
    "''' PRE-PROCESSING (INDIVIDUAL 3) '''\n",
    "''' Timothy Chan '''\n",
    "\n",
    "'''Import Models and create the training sets'''\n",
    "from sklearn.model_selection import train_test_split\n",
    "from sklearn.neural_network import MLPClassifier\n",
    "from sklearn.metrics import classification_report, confusion_matrix\n",
    "\n",
    "from sklearn.ensemble import RandomForestClassifier\n",
    "from sklearn.tree import export_graphviz\n",
    "from sklearn.cluster import KMeans\n",
    "\n",
    "from sklearn.feature_selection import chi2\n",
    "\n",
    "from sklearn.decomposition import PCA\n",
    "from sklearn.linear_model import LogisticRegression\n",
    "from sklearn.linear_model import Lasso\n",
    "from sklearn import metrics\n",
    "import matplotlib.pyplot as plt\n",
    "from sklearn.neighbors import KNeighborsClassifier\n",
    "\n",
    "X = data_for_training.iloc[:,:-1]\n",
    "y = data_for_training.iloc[:,-1]\n",
    "\n",
    "columnnames = list(data_for_training)\n",
    "\n",
    "\n",
    "##Creates training and test data\n",
    "\n",
    "X_train, X_test, y_train, y_test = train_test_split(X, y, test_size = 0.25) #75% training data, 25% test data\n",
    "\n",
    "\n"
   ]
  },
  {
   "cell_type": "markdown",
   "metadata": {},
   "source": [
    "## Create initial randomforest model\n"
   ]
  },
  {
   "cell_type": "code",
   "execution_count": 37,
   "metadata": {},
   "outputs": [
    {
     "name": "stdout",
     "output_type": "stream",
     "text": [
      "[[12062     1]\n",
      " [    2 12196]]\n",
      "              precision    recall  f1-score   support\n",
      "\n",
      "           0       1.00      1.00      1.00     12063\n",
      "           1       1.00      1.00      1.00     12198\n",
      "\n",
      "    accuracy                           1.00     24261\n",
      "   macro avg       1.00      1.00      1.00     24261\n",
      "weighted avg       1.00      1.00      1.00     24261\n",
      "\n"
     ]
    }
   ],
   "source": [
    "\n",
    "#Create model with 1000 trees to start. This includes bagging. Set bootstrap = False to turn off\n",
    "\n",
    "randf = RandomForestClassifier(n_estimators = 100, random_state = 22)\n",
    "randf.fit(X_train, y_train)\n",
    "\n",
    "yhat = randf.predict(X_test)\n",
    "\n",
    "\n",
    "#Metrics and variable importance\n",
    "print(confusion_matrix(y_test,yhat))\n",
    "print(classification_report(y_test,yhat))\n",
    "\n",
    "##Nothing really stands out...We get very good accuracy"
   ]
  },
  {
   "cell_type": "code",
   "execution_count": 38,
   "metadata": {},
   "outputs": [
    {
     "name": "stdout",
     "output_type": "stream",
     "text": [
      "RESULTS FOR RANDOM FOREST \n",
      "\n",
      "[[12059     4]\n",
      " [   15 12183]]\n",
      "              precision    recall  f1-score   support\n",
      "\n",
      "           0       1.00      1.00      1.00     12063\n",
      "           1       1.00      1.00      1.00     12198\n",
      "\n",
      "    accuracy                           1.00     24261\n",
      "   macro avg       1.00      1.00      1.00     24261\n",
      "weighted avg       1.00      1.00      1.00     24261\n",
      "\n",
      "RANDOMFOREST FEATURE IMPORTANCE \n",
      "\n",
      "[('67', 0.1385973608753008), ('76', 0.13304610979837894), ('79', 0.12426580707348343), ('PC2', 0.10963698137094252), ('38', 0.09624454648768453), ('5', 0.0706424332832176), ('71', 0.05241685809707678), ('75', 0.03914839011073828), ('77', 0.035912337648599614), ('80', 0.03523772260562352), ('82', 0.033052777069605375), ('PC3', 0.023770817898767276), ('8', 0.022435806800451562), ('PC1', 0.01798056423184889), ('73', 0.012655502655817854), ('51', 0.011329720080562563), ('142', 0.010826372670798575), ('140', 0.009896512222561321), ('PC4', 0.009673081688855584), ('PC5', 0.008669624803227787), ('154', 0.004547367529154063), ('145', 1.3304997303250559e-05)]\n"
     ]
    }
   ],
   "source": [
    "##Let's limit the depth to 6\n",
    "\n",
    "\n",
    "randfs = RandomForestClassifier(n_estimators = 100, random_state = 22, max_depth=6 )\n",
    "\n",
    "randfs.fit(X_train, y_train)\n",
    "\n",
    "yhats = randfs.predict(X_test)\n",
    "\n",
    "##Results Metrics\n",
    "\n",
    "print(\"RESULTS FOR RANDOM FOREST \\n\")\n",
    "print(confusion_matrix(y_test,yhats))\n",
    "print(classification_report(y_test,yhats))\n",
    "LRimportance = [(feature,importance) for feature, importance in zip(columnnames,randfs.feature_importances_)]\n",
    "LRimportance.sort(key = lambda x:x[1], reverse=True) #returns a list of most important features\n",
    "\n",
    "print(\"RANDOMFOREST FEATURE IMPORTANCE \\n\")\n",
    "print(LRimportance)\n",
    "\n",
    "\n",
    "##19 misclassficiations very good"
   ]
  },
  {
   "cell_type": "markdown",
   "metadata": {},
   "source": [
    "## Binary Linear Logistic Regression Model\n"
   ]
  },
  {
   "cell_type": "code",
   "execution_count": 39,
   "metadata": {
    "scrolled": false
   },
   "outputs": [
    {
     "name": "stderr",
     "output_type": "stream",
     "text": [
      "c:\\users\\timot\\appdata\\local\\programs\\python\\python37-32\\lib\\site-packages\\sklearn\\linear_model\\logistic.py:432: FutureWarning: Default solver will be changed to 'lbfgs' in 0.22. Specify a solver to silence this warning.\n",
      "  FutureWarning)\n",
      "c:\\users\\timot\\appdata\\local\\programs\\python\\python37-32\\lib\\site-packages\\sklearn\\svm\\base.py:929: ConvergenceWarning: Liblinear failed to converge, increase the number of iterations.\n",
      "  \"the number of iterations.\", ConvergenceWarning)\n"
     ]
    },
    {
     "name": "stdout",
     "output_type": "stream",
     "text": [
      "RESULTS FOR LOGISTIC REGRESSION \n",
      "\n",
      "[[11770   293]\n",
      " [  211 11987]]\n",
      " LR Accuracy: 0.9792259181402251\n",
      "LR Precision: 0.9761400651465798\n",
      "LR Recall: 0.9827020823085751\n"
     ]
    },
    {
     "data": {
      "image/png": "[encoded data removed]",
      "text/plain": [
       "<Figure size 432x288 with 1 Axes>"
      ]
     },
     "metadata": {
      "needs_background": "light"
     },
     "output_type": "display_data"
    }
   ],
   "source": [
    "logreg = LogisticRegression(random_state=0)\n",
    "\n",
    "logreg.fit(X_train,y_train)\n",
    "\n",
    "yhat= logreg.predict(X_test)\n",
    "\n",
    "cnf_matrix = metrics.confusion_matrix(y_test, yhat)\n",
    "\n",
    "print(\"RESULTS FOR LOGISTIC REGRESSION \\n\")\n",
    "\n",
    "print(cnf_matrix)\n",
    "\n",
    "\n",
    "print(\" LR Accuracy:\",metrics.accuracy_score(y_test, yhat))\n",
    "print(\"LR Precision:\",metrics.precision_score(y_test, yhat))\n",
    "print(\"LR Recall:\",metrics.recall_score(y_test, yhat))\n",
    "\n",
    "\n",
    "feature_importance = abs(logreg.coef_[0])\n",
    "feature_importance = 100.0 * (feature_importance / feature_importance.max())\n",
    "sorted_idx = np.argsort(feature_importance)\n",
    "pos = np.arange(sorted_idx.shape[0]) + .5\n",
    "\n",
    "\n",
    "featfig = plt.figure()\n",
    "featax = featfig.add_subplot(1, 1, 1)\n",
    "featax.barh(pos, feature_importance[sorted_idx], align='center')\n",
    "featax.set_yticks(pos)\n",
    "featax.set_yticklabels(np.array(X.columns)[sorted_idx], fontsize=8)\n",
    "featax.set_xlabel('Relative Feature Importance')\n",
    "\n",
    "plt.tight_layout()\n",
    "plt.show()\n",
    "\n",
    "##Large number of misclassifications"
   ]
  },
  {
   "cell_type": "code",
   "execution_count": 40,
   "metadata": {},
   "outputs": [
    {
     "data": {
      "image/png": "[encoded data removed]",
      "text/plain": [
       "<Figure size 432x288 with 1 Axes>"
      ]
     },
     "metadata": {
      "needs_background": "light"
     },
     "output_type": "display_data"
    }
   ],
   "source": [
    "\n",
    "##Create an ROC curve. ROC score is high 0.99. Seems classifer is good.\n",
    "\n",
    "y_pred_proba = logreg.predict_proba(X_test)[::,1]\n",
    "fpr, tpr, _ = metrics.roc_curve(y_test,  y_pred_proba)\n",
    "auc = metrics.roc_auc_score(y_test, y_pred_proba)\n",
    "plt.plot(fpr,tpr,label=\"data 1, auc=\"+str(auc))\n",
    "plt.legend(loc=4)\n",
    "plt.show()"
   ]
  },
  {
   "cell_type": "markdown",
   "metadata": {},
   "source": [
    "## Create K-NN model. With Euclidean distance and 5 neighbours.\n"
   ]
  },
  {
   "cell_type": "code",
   "execution_count": 42,
   "metadata": {},
   "outputs": [
    {
     "name": "stdout",
     "output_type": "stream",
     "text": [
      "RESULTS FOR KNN K=5 \n",
      "\n",
      "[[12036    27]\n",
      " [    4 12194]]\n",
      " KNN #3 Accuracy: 0.9987222290919583\n",
      "KNN #3 Precision: 0.997790688159725\n",
      "KNN #3 Recall: 0.9996720773897361\n"
     ]
    }
   ],
   "source": [
    "\n",
    "\n",
    "knn = KNeighborsClassifier(n_neighbors=5)\n",
    "\n",
    "#Fit\n",
    "knn.fit(X_train,y_train)\n",
    "\n",
    "#Predict\n",
    "\n",
    "knnpredict = knn.predict(X_test)\n",
    "\n",
    "cnf_matrix = metrics.confusion_matrix(y_test, knnpredict)\n",
    "\n",
    "\n",
    "print(\"RESULTS FOR KNN K=5 \\n\")\n",
    "print(cnf_matrix)\n",
    "\n",
    "\n",
    "print(\" KNN #3 Accuracy:\",metrics.accuracy_score(y_test, knnpredict))\n",
    "print(\"KNN #3 Precision:\",metrics.precision_score(y_test, knnpredict))\n",
    "print(\"KNN #3 Recall:\",metrics.recall_score(y_test, knnpredict))\n",
    "\n",
    "##Very good accuracy\n"
   ]
  },
  {
   "cell_type": "markdown",
   "metadata": {},
   "source": [
    "## Neural Network with 2 layers with 5 Neurons. 1000 iterations of backprop"
   ]
  },
  {
   "cell_type": "code",
   "execution_count": 43,
   "metadata": {},
   "outputs": [
    {
     "name": "stdout",
     "output_type": "stream",
     "text": [
      "[[12044    19]\n",
      " [    6 12192]]\n",
      "              precision    recall  f1-score   support\n",
      "\n",
      "           0       1.00      1.00      1.00     12063\n",
      "           1       1.00      1.00      1.00     12198\n",
      "\n",
      "    accuracy                           1.00     24261\n",
      "   macro avg       1.00      1.00      1.00     24261\n",
      "weighted avg       1.00      1.00      1.00     24261\n",
      "\n"
     ]
    }
   ],
   "source": [
    "\n",
    "mlp = MLPClassifier(hidden_layer_sizes=(5, 5), max_iter=1000) #two layers of 5 neurons, 1000 of backprop\n",
    "mlp.fit(X_train, y_train.values.ravel()) #train the algo\n",
    "\n",
    "predictions = mlp.predict(X_test) #make predictions on the xtest set\n",
    "\n",
    "print(confusion_matrix(y_test,predictions)) #results are good\n",
    "print(classification_report(y_test,predictions))"
   ]
  },
  {
   "cell_type": "markdown",
   "metadata": {},
   "source": [
    "## SVM with RBF kernel, gamma = 1/n, and relatively low Cost\n"
   ]
  },
  {
   "cell_type": "code",
   "execution_count": 46,
   "metadata": {},
   "outputs": [
    {
     "name": "stdout",
     "output_type": "stream",
     "text": [
      "[[12035    28]\n",
      " [   12 12186]]\n",
      "              precision    recall  f1-score   support\n",
      "\n",
      "           0       1.00      1.00      1.00     12063\n",
      "           1       1.00      1.00      1.00     12198\n",
      "\n",
      "    accuracy                           1.00     24261\n",
      "   macro avg       1.00      1.00      1.00     24261\n",
      "weighted avg       1.00      1.00      1.00     24261\n",
      "\n"
     ]
    }
   ],
   "source": [
    "from sklearn.svm import SVC\n",
    "svclassifier = SVC(kernel='rbf',gamma='auto',C=1)\n",
    "svclassifier.fit(X_train, y_train)\n",
    "\n",
    "y_pred = svclassifier.predict(X_test)\n",
    "\n",
    "print(confusion_matrix(y_test, y_pred))\n",
    "print(classification_report(y_test, y_pred))\n"
   ]
  },
  {
   "cell_type": "code",
   "execution_count": 47,
   "metadata": {},
   "outputs": [
    {
     "data": {
      "text/plain": [
       "' Cosmin Stanciu '"
      ]
     },
     "execution_count": 47,
     "metadata": {},
     "output_type": "execute_result"
    }
   ],
   "source": [
    "''' PRE-PROCESSING (INDIVIDUAL 4) '''\n",
    "''' Cosmin Stanciu '''\n"
   ]
  },
  {
   "cell_type": "code",
   "execution_count": null,
   "metadata": {},
   "outputs": [],
   "source": [
    "''' PRE-PROCESSING (INDIVIDUAL 5) '''\n",
    "''' Mike Jun Ming'''\n"
   ]
  },
  {
   "cell_type": "code",
   "execution_count": null,
   "metadata": {},
   "outputs": [],
   "source": []
  },
  {
   "cell_type": "code",
   "execution_count": null,
   "metadata": {},
   "outputs": [],
   "source": []
  }
 ],
 "metadata": {
  "kernelspec": {
   "display_name": "Python 3",
   "language": "python",
   "name": "python3"
  },
  "language_info": {
   "codemirror_mode": {
    "name": "ipython",
    "version": 3
   },
   "file_extension": ".py",
   "mimetype": "text/x-python",
   "name": "python",
   "nbconvert_exporter": "python",
   "pygments_lexer": "ipython3",
   "version": "3.7.1"
  }
 },
 "nbformat": 4,
 "nbformat_minor": 2
}
