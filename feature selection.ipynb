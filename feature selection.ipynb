{
 "cells": [
  {
   "cell_type": "code",
   "execution_count": 1,
   "metadata": {},
   "outputs": [],
   "source": [
    "import pandas as pd"
   ]
  },
  {
   "cell_type": "code",
   "execution_count": 2,
   "metadata": {},
   "outputs": [],
   "source": [
    "train = pd.read_csv(\"train_imperson_without4n7_balanced_data.csv\")"
   ]
  },
  {
   "cell_type": "markdown",
   "metadata": {},
   "source": [
    "Delete columns that have zero variance"
   ]
  },
  {
   "cell_type": "code",
   "execution_count": 3,
   "metadata": {},
   "outputs": [],
   "source": [
    "col_to_delete = [k for k in train.columns if train[k].std()==0]"
   ]
  },
  {
   "cell_type": "markdown",
   "metadata": {},
   "source": [
    "Of which there are"
   ]
  },
  {
   "cell_type": "code",
   "execution_count": 4,
   "metadata": {},
   "outputs": [
    {
     "data": {
      "text/plain": [
       "74"
      ]
     },
     "execution_count": 4,
     "metadata": {},
     "output_type": "execute_result"
    }
   ],
   "source": [
    "len(col_to_delete)"
   ]
  },
  {
   "cell_type": "code",
   "execution_count": 5,
   "metadata": {},
   "outputs": [],
   "source": [
    "train = train.drop(col_to_delete,axis=1)"
   ]
  },
  {
   "cell_type": "markdown",
   "metadata": {},
   "source": [
    "Build a data table to hold information regarding the remaining variables\n",
    "\n",
    "(Some `pandas` operations are easier if the factor name is a regular column but it's nice for that to be the index too)"
   ]
  },
  {
   "cell_type": "code",
   "execution_count": 45,
   "metadata": {},
   "outputs": [],
   "source": [
    "factors = pd.DataFrame(data = train.columns[:-1], columns = ['factor'], index = train.columns[:-1])"
   ]
  },
  {
   "cell_type": "code",
   "execution_count": 46,
   "metadata": {},
   "outputs": [
    {
     "data": {
      "text/html": [
       "<div>\n",
       "<style scoped>\n",
       "    .dataframe tbody tr th:only-of-type {\n",
       "        vertical-align: middle;\n",
       "    }\n",
       "\n",
       "    .dataframe tbody tr th {\n",
       "        vertical-align: top;\n",
       "    }\n",
       "\n",
       "    .dataframe thead th {\n",
       "        text-align: right;\n",
       "    }\n",
       "</style>\n",
       "<table border=\"1\" class=\"dataframe\">\n",
       "  <thead>\n",
       "    <tr style=\"text-align: right;\">\n",
       "      <th></th>\n",
       "      <th>factor</th>\n",
       "      <th>mu</th>\n",
       "      <th>sigma</th>\n",
       "      <th>rho</th>\n",
       "    </tr>\n",
       "  </thead>\n",
       "  <tbody>\n",
       "    <tr>\n",
       "      <th>5</th>\n",
       "      <td>5</td>\n",
       "      <td>0.006252</td>\n",
       "      <td>0.015541</td>\n",
       "      <td>0.058410</td>\n",
       "    </tr>\n",
       "    <tr>\n",
       "      <th>6</th>\n",
       "      <td>6</td>\n",
       "      <td>0.006252</td>\n",
       "      <td>0.015541</td>\n",
       "      <td>0.058410</td>\n",
       "    </tr>\n",
       "    <tr>\n",
       "      <th>8</th>\n",
       "      <td>8</td>\n",
       "      <td>0.193837</td>\n",
       "      <td>0.354444</td>\n",
       "      <td>-0.438183</td>\n",
       "    </tr>\n",
       "    <tr>\n",
       "      <th>9</th>\n",
       "      <td>9</td>\n",
       "      <td>0.193837</td>\n",
       "      <td>0.354444</td>\n",
       "      <td>-0.438183</td>\n",
       "    </tr>\n",
       "    <tr>\n",
       "      <th>14</th>\n",
       "      <td>14</td>\n",
       "      <td>0.999784</td>\n",
       "      <td>0.014709</td>\n",
       "      <td>0.014712</td>\n",
       "    </tr>\n",
       "  </tbody>\n",
       "</table>\n",
       "</div>"
      ],
      "text/plain": [
       "   factor        mu     sigma       rho\n",
       "5       5  0.006252  0.015541  0.058410\n",
       "6       6  0.006252  0.015541  0.058410\n",
       "8       8  0.193837  0.354444 -0.438183\n",
       "9       9  0.193837  0.354444 -0.438183\n",
       "14     14  0.999784  0.014709  0.014712"
      ]
     },
     "execution_count": 46,
     "metadata": {},
     "output_type": "execute_result"
    }
   ],
   "source": [
    "factors[\"mu\"] = factors.factor.apply(lambda f: train[f].mean())\n",
    "\n",
    "factors[\"sigma\"] = factors.factor.apply(lambda f: train[f].std())\n",
    "\n",
    "factors[\"rho\"] = factors.factor.apply(lambda f: train[f].corr(train[\"155\"]))\n",
    "\n",
    "factors.head()"
   ]
  },
  {
   "cell_type": "markdown",
   "metadata": {},
   "source": [
    "Conduct t-tests to establish the probability that the distribution of each factor is the same under the two conditions"
   ]
  },
  {
   "cell_type": "code",
   "execution_count": 31,
   "metadata": {},
   "outputs": [],
   "source": [
    "from scipy.stats import ttest_ind"
   ]
  },
  {
   "cell_type": "code",
   "execution_count": 47,
   "metadata": {},
   "outputs": [
    {
     "data": {
      "text/html": [
       "<div>\n",
       "<style scoped>\n",
       "    .dataframe tbody tr th:only-of-type {\n",
       "        vertical-align: middle;\n",
       "    }\n",
       "\n",
       "    .dataframe tbody tr th {\n",
       "        vertical-align: top;\n",
       "    }\n",
       "\n",
       "    .dataframe thead th {\n",
       "        text-align: right;\n",
       "    }\n",
       "</style>\n",
       "<table border=\"1\" class=\"dataframe\">\n",
       "  <thead>\n",
       "    <tr style=\"text-align: right;\">\n",
       "      <th></th>\n",
       "      <th>factor</th>\n",
       "      <th>mu</th>\n",
       "      <th>sigma</th>\n",
       "      <th>rho</th>\n",
       "      <th>t-test p</th>\n",
       "    </tr>\n",
       "  </thead>\n",
       "  <tbody>\n",
       "    <tr>\n",
       "      <th>5</th>\n",
       "      <td>5</td>\n",
       "      <td>0.006252</td>\n",
       "      <td>0.015541</td>\n",
       "      <td>0.058410</td>\n",
       "      <td>4.460255e-74</td>\n",
       "    </tr>\n",
       "    <tr>\n",
       "      <th>6</th>\n",
       "      <td>6</td>\n",
       "      <td>0.006252</td>\n",
       "      <td>0.015541</td>\n",
       "      <td>0.058410</td>\n",
       "      <td>4.460255e-74</td>\n",
       "    </tr>\n",
       "    <tr>\n",
       "      <th>8</th>\n",
       "      <td>8</td>\n",
       "      <td>0.193837</td>\n",
       "      <td>0.354444</td>\n",
       "      <td>-0.438183</td>\n",
       "      <td>0.000000e+00</td>\n",
       "    </tr>\n",
       "    <tr>\n",
       "      <th>9</th>\n",
       "      <td>9</td>\n",
       "      <td>0.193837</td>\n",
       "      <td>0.354444</td>\n",
       "      <td>-0.438183</td>\n",
       "      <td>0.000000e+00</td>\n",
       "    </tr>\n",
       "    <tr>\n",
       "      <th>14</th>\n",
       "      <td>14</td>\n",
       "      <td>0.999784</td>\n",
       "      <td>0.014709</td>\n",
       "      <td>0.014712</td>\n",
       "      <td>4.583503e-06</td>\n",
       "    </tr>\n",
       "  </tbody>\n",
       "</table>\n",
       "</div>"
      ],
      "text/plain": [
       "   factor        mu     sigma       rho      t-test p\n",
       "5       5  0.006252  0.015541  0.058410  4.460255e-74\n",
       "6       6  0.006252  0.015541  0.058410  4.460255e-74\n",
       "8       8  0.193837  0.354444 -0.438183  0.000000e+00\n",
       "9       9  0.193837  0.354444 -0.438183  0.000000e+00\n",
       "14     14  0.999784  0.014709  0.014712  4.583503e-06"
      ]
     },
     "execution_count": 47,
     "metadata": {},
     "output_type": "execute_result"
    }
   ],
   "source": [
    "factors[\"t-test p\"] = factors.factor.apply(\n",
    "    lambda f: ttest_ind(train[f].loc[train[\"155\"]==0],\n",
    "                        train[f].loc[train[\"155\"]==1],\n",
    "                        equal_var=False)[1]\n",
    ")\n",
    "factors.head()"
   ]
  },
  {
   "cell_type": "markdown",
   "metadata": {},
   "source": [
    "Sort from lowest probability"
   ]
  },
  {
   "cell_type": "code",
   "execution_count": 48,
   "metadata": {},
   "outputs": [
    {
     "data": {
      "text/html": [
       "<div>\n",
       "<style scoped>\n",
       "    .dataframe tbody tr th:only-of-type {\n",
       "        vertical-align: middle;\n",
       "    }\n",
       "\n",
       "    .dataframe tbody tr th {\n",
       "        vertical-align: top;\n",
       "    }\n",
       "\n",
       "    .dataframe thead th {\n",
       "        text-align: right;\n",
       "    }\n",
       "</style>\n",
       "<table border=\"1\" class=\"dataframe\">\n",
       "  <thead>\n",
       "    <tr style=\"text-align: right;\">\n",
       "      <th></th>\n",
       "      <th>factor</th>\n",
       "      <th>mu</th>\n",
       "      <th>sigma</th>\n",
       "      <th>rho</th>\n",
       "      <th>t-test p</th>\n",
       "    </tr>\n",
       "  </thead>\n",
       "  <tbody>\n",
       "    <tr>\n",
       "      <th>154</th>\n",
       "      <td>154</td>\n",
       "      <td>0.178474</td>\n",
       "      <td>0.360078</td>\n",
       "      <td>-0.434536</td>\n",
       "      <td>0.0</td>\n",
       "    </tr>\n",
       "    <tr>\n",
       "      <th>94</th>\n",
       "      <td>94</td>\n",
       "      <td>0.028070</td>\n",
       "      <td>0.165173</td>\n",
       "      <td>-0.168196</td>\n",
       "      <td>0.0</td>\n",
       "    </tr>\n",
       "    <tr>\n",
       "      <th>77</th>\n",
       "      <td>77</td>\n",
       "      <td>0.023891</td>\n",
       "      <td>0.074530</td>\n",
       "      <td>-0.201783</td>\n",
       "      <td>0.0</td>\n",
       "    </tr>\n",
       "    <tr>\n",
       "      <th>75</th>\n",
       "      <td>75</td>\n",
       "      <td>0.002858</td>\n",
       "      <td>0.008669</td>\n",
       "      <td>-0.296245</td>\n",
       "      <td>0.0</td>\n",
       "    </tr>\n",
       "    <tr>\n",
       "      <th>73</th>\n",
       "      <td>73</td>\n",
       "      <td>0.704052</td>\n",
       "      <td>0.456470</td>\n",
       "      <td>0.477183</td>\n",
       "      <td>0.0</td>\n",
       "    </tr>\n",
       "  </tbody>\n",
       "</table>\n",
       "</div>"
      ],
      "text/plain": [
       "    factor        mu     sigma       rho  t-test p\n",
       "154    154  0.178474  0.360078 -0.434536       0.0\n",
       "94      94  0.028070  0.165173 -0.168196       0.0\n",
       "77      77  0.023891  0.074530 -0.201783       0.0\n",
       "75      75  0.002858  0.008669 -0.296245       0.0\n",
       "73      73  0.704052  0.456470  0.477183       0.0"
      ]
     },
     "execution_count": 48,
     "metadata": {},
     "output_type": "execute_result"
    }
   ],
   "source": [
    "factors.sort_values(by=\"t-test p\").head()"
   ]
  },
  {
   "cell_type": "markdown",
   "metadata": {},
   "source": [
    "How many factors have $p<0.01$?"
   ]
  },
  {
   "cell_type": "code",
   "execution_count": 49,
   "metadata": {},
   "outputs": [
    {
     "data": {
      "text/plain": [
       "68"
      ]
     },
     "execution_count": 49,
     "metadata": {},
     "output_type": "execute_result"
    }
   ],
   "source": [
    "len(factors[factors[\"t-test p\"] < 0.01])"
   ]
  },
  {
   "cell_type": "markdown",
   "metadata": {},
   "source": [
    "$p<0.000000001$?"
   ]
  },
  {
   "cell_type": "code",
   "execution_count": 56,
   "metadata": {},
   "outputs": [
    {
     "data": {
      "text/plain": [
       "51"
      ]
     },
     "execution_count": 56,
     "metadata": {},
     "output_type": "execute_result"
    }
   ],
   "source": [
    "len(factors[factors[\"t-test p\"] < 0.000000001])"
   ]
  },
  {
   "cell_type": "code",
   "execution_count": 57,
   "metadata": {},
   "outputs": [],
   "source": [
    "from sklearn.linear_model import LogisticRegression"
   ]
  },
  {
   "cell_type": "code",
   "execution_count": 58,
   "metadata": {},
   "outputs": [
    {
     "name": "stderr",
     "output_type": "stream",
     "text": [
      "/home/ian/jupyter/env3.6/lib/python3.6/site-packages/sklearn/linear_model/logistic.py:432: FutureWarning: Default solver will be changed to 'lbfgs' in 0.22. Specify a solver to silence this warning.\n",
      "  FutureWarning)\n"
     ]
    }
   ],
   "source": [
    "lr = LogisticRegression().fit(train[train.columns[:-1]],train[\"155\"])"
   ]
  },
  {
   "cell_type": "code",
   "execution_count": 59,
   "metadata": {},
   "outputs": [
    {
     "data": {
      "text/plain": [
       "0.9924879436132064"
      ]
     },
     "execution_count": 59,
     "metadata": {},
     "output_type": "execute_result"
    }
   ],
   "source": [
    "lr.score(train[train.columns[:-1]], train[\"155\"])"
   ]
  },
  {
   "cell_type": "code",
   "execution_count": 60,
   "metadata": {},
   "outputs": [],
   "source": [
    "test = pd.read_csv(\"test_imperson_without4n7_balanced_data.csv\")"
   ]
  },
  {
   "cell_type": "code",
   "execution_count": 61,
   "metadata": {},
   "outputs": [],
   "source": [
    "test = test.drop(col_to_delete,axis=1)"
   ]
  },
  {
   "cell_type": "code",
   "execution_count": 62,
   "metadata": {},
   "outputs": [
    {
     "data": {
      "text/plain": [
       "0.7348722545943523"
      ]
     },
     "execution_count": 62,
     "metadata": {},
     "output_type": "execute_result"
    }
   ],
   "source": [
    "lr.score(test[test.columns[:-1]], test[\"155\"])"
   ]
  },
  {
   "cell_type": "markdown",
   "metadata": {},
   "source": [
    "So we have 73% accuracy from using all the non-constant columns in a default `sklearn` logistic regression, which includes some regularization.\n",
    "\n",
    "Let's try only the 51 factors with extremely low t-test p-values"
   ]
  },
  {
   "cell_type": "code",
   "execution_count": 66,
   "metadata": {
    "scrolled": true
   },
   "outputs": [
    {
     "data": {
      "text/plain": [
       "array(['5', '6', '8', '9', '38', '47', '50', '51', '61', '64', '66', '67',\n",
       "       '68', '70', '71', '72', '73', '75', '76', '77', '79', '80', '82',\n",
       "       '90', '93', '94', '98', '104', '106', '107', '109', '110', '112',\n",
       "       '118', '121', '122', '123', '125', '126', '127', '128', '129',\n",
       "       '130', '140', '141', '142', '143', '144', '145', '146', '154'],\n",
       "      dtype=object)"
      ]
     },
     "execution_count": 66,
     "metadata": {},
     "output_type": "execute_result"
    }
   ],
   "source": [
    "lowp = factors[factors[\"t-test p\"] < 0.000000001].factor.values\n",
    "lowp"
   ]
  },
  {
   "cell_type": "code",
   "execution_count": 67,
   "metadata": {
    "scrolled": true
   },
   "outputs": [
    {
     "name": "stderr",
     "output_type": "stream",
     "text": [
      "/home/ian/jupyter/env3.6/lib/python3.6/site-packages/sklearn/linear_model/logistic.py:432: FutureWarning: Default solver will be changed to 'lbfgs' in 0.22. Specify a solver to silence this warning.\n",
      "  FutureWarning)\n"
     ]
    }
   ],
   "source": [
    "lr = LogisticRegression().fit(train[lowp],train[\"155\"])"
   ]
  },
  {
   "cell_type": "code",
   "execution_count": 68,
   "metadata": {},
   "outputs": [
    {
     "data": {
      "text/plain": [
       "0.5979630459684248"
      ]
     },
     "execution_count": 68,
     "metadata": {},
     "output_type": "execute_result"
    }
   ],
   "source": [
    "lr.score(test[lowp],test[\"155\"])"
   ]
  },
  {
   "cell_type": "markdown",
   "metadata": {},
   "source": [
    "We can see if there is a threshold below which we get better accuracy"
   ]
  },
  {
   "cell_type": "code",
   "execution_count": 83,
   "metadata": {},
   "outputs": [
    {
     "data": {
      "text/plain": [
       "0.6113850291349171"
      ]
     },
     "execution_count": 83,
     "metadata": {},
     "output_type": "execute_result"
    }
   ],
   "source": [
    "def p_threshold_to_lr_score(p):\n",
    "    lowp = factors[factors[\"t-test p\"] < p].factor.values\n",
    "    lr = LogisticRegression(solver=\"liblinear\").fit(train[lowp],train[\"155\"])\n",
    "    return lr.score(test[lowp],test[\"155\"])\n",
    "p_threshold_to_lr_score(0.01)"
   ]
  },
  {
   "cell_type": "code",
   "execution_count": 70,
   "metadata": {},
   "outputs": [],
   "source": [
    "import matplotlib.pyplot as plt"
   ]
  },
  {
   "cell_type": "code",
   "execution_count": 84,
   "metadata": {},
   "outputs": [
    {
     "data": {
      "text/plain": [
       "[<matplotlib.lines.Line2D at 0x7f7e8f430048>]"
      ]
     },
     "execution_count": 84,
     "metadata": {},
     "output_type": "execute_result"
    },
    {
     "data": {
      "image/png": "[encoded data removed]",
      "text/plain": [
       "<Figure size 432x288 with 1 Axes>"
      ]
     },
     "metadata": {
      "needs_background": "light"
     },
     "output_type": "display_data"
    }
   ],
   "source": [
    "ps = [0.5, 0.3, 0.2, 0.1, 0.005, 0.001]\n",
    "ss = [p_threshold_to_lr_score(p) for p in ps]\n",
    "plt.plot(ps,ss)"
   ]
  },
  {
   "cell_type": "markdown",
   "metadata": {},
   "source": [
    "Maybe some of the factors with higher p-values are actually better predictors..?"
   ]
  },
  {
   "cell_type": "code",
   "execution_count": null,
   "metadata": {},
   "outputs": [],
   "source": [
    "lr = LogisticRegression().fit(train[train.columns[:-1]],train[\"155\"])"
   ]
  },
  {
   "cell_type": "code",
   "execution_count": 87,
   "metadata": {
    "scrolled": true
   },
   "outputs": [
    {
     "data": {
      "text/plain": [
       "array([[-2.97188982e+00, -2.97188982e+00, -5.70423456e+00,\n",
       "        -5.70423456e+00, -1.22188121e-01, -1.22188121e-01,\n",
       "        -1.22188121e-01, -1.22188121e-01, -1.22188121e-01,\n",
       "        -1.22188121e-01, -1.22188121e-01,  2.03462960e+00,\n",
       "        -1.22188121e-01, -4.11851068e+00, -1.33828724e-01,\n",
       "         1.03891618e+00, -1.16110430e+00, -1.22188121e-01,\n",
       "         4.85871320e+00, -1.22188121e-01, -2.71606819e+00,\n",
       "        -1.93423606e+00, -4.43167205e+00,  3.45810678e+00,\n",
       "        -5.12423306e+00,  5.76116444e+00, -2.53150651e+00,\n",
       "         4.16397375e+00,  6.05664910e-01,  7.85671962e-01,\n",
       "         2.97773819e+00, -2.51923253e+00, -2.38570489e+00,\n",
       "        -1.40349367e-01, -1.02270764e+01, -1.10047661e-04,\n",
       "        -6.62944508e-04, -7.72992169e-04, -6.68604534e-05,\n",
       "        -1.22188121e-01,  4.56870105e+00, -3.74304433e+00,\n",
       "        -7.62789765e+00, -3.29112960e-05,  4.57385972e+00,\n",
       "        -2.57598852e+00, -4.16488299e-04,  1.37102794e-01,\n",
       "        -1.13304933e+01,  2.77876475e-02, -1.46395677e+00,\n",
       "        -9.30267874e-05,  4.36938878e+00,  5.90160411e+00,\n",
       "        -1.18531844e-06, -7.62974392e-05,  1.05543444e+00,\n",
       "        -1.48875217e-01,  3.30699419e+00, -4.29433929e-01,\n",
       "        -1.56353411e+00, -2.41218912e+00, -1.94453263e-02,\n",
       "        -7.13154995e-05, -3.63206863e-02, -1.42185628e-04,\n",
       "        -7.31678501e-05, -4.63087659e+00, -3.29112960e-05,\n",
       "        -1.86129976e+00,  4.24304983e+00, -4.96960603e+00,\n",
       "        -2.69025225e+00, -3.95982366e+00, -3.42704696e-02,\n",
       "        -2.62688373e-02, -2.62688373e-02, -3.94125763e-01]])"
      ]
     },
     "execution_count": 87,
     "metadata": {},
     "output_type": "execute_result"
    }
   ],
   "source": [
    "lr.coef_"
   ]
  },
  {
   "cell_type": "markdown",
   "metadata": {},
   "source": [
    "Could look at size of coefficients as an indicator of importance..? Maybe something to pursue. Or could use random forest to get relative importances."
   ]
  },
  {
   "cell_type": "markdown",
   "metadata": {},
   "source": [
    "Looks like some factors are highly correlated, so perhaps PCA or clustering on factors first."
   ]
  },
  {
   "cell_type": "code",
   "execution_count": 90,
   "metadata": {},
   "outputs": [],
   "source": [
    "from sklearn.decomposition import PCA"
   ]
  },
  {
   "cell_type": "code",
   "execution_count": 92,
   "metadata": {},
   "outputs": [],
   "source": [
    "pca = PCA(n_components=20)"
   ]
  },
  {
   "cell_type": "code",
   "execution_count": 93,
   "metadata": {},
   "outputs": [
    {
     "data": {
      "text/plain": [
       "PCA(copy=True, iterated_power='auto', n_components=20, random_state=None,\n",
       "    svd_solver='auto', tol=0.0, whiten=False)"
      ]
     },
     "execution_count": 93,
     "metadata": {},
     "output_type": "execute_result"
    }
   ],
   "source": [
    "pca.fit(train[train.columns[:-1]])"
   ]
  },
  {
   "cell_type": "code",
   "execution_count": 94,
   "metadata": {},
   "outputs": [
    {
     "data": {
      "text/plain": [
       "array([1.02098232, 0.86131361, 0.2540735 , 0.12245628, 0.1020006 ,\n",
       "       0.06261603, 0.03867685, 0.03298436, 0.02661625, 0.02474394,\n",
       "       0.02087587, 0.01080953, 0.0084663 , 0.00714234, 0.00627585,\n",
       "       0.00611999, 0.00459349, 0.0039681 , 0.00341409, 0.00329887])"
      ]
     },
     "execution_count": 94,
     "metadata": {},
     "output_type": "execute_result"
    }
   ],
   "source": [
    "pca.explained_variance_"
   ]
  },
  {
   "cell_type": "code",
   "execution_count": 97,
   "metadata": {},
   "outputs": [],
   "source": [
    "pca_train = pca.fit_transform(train[train.columns[:-1]])"
   ]
  },
  {
   "cell_type": "code",
   "execution_count": 98,
   "metadata": {},
   "outputs": [
    {
     "name": "stderr",
     "output_type": "stream",
     "text": [
      "/home/ian/jupyter/env3.6/lib/python3.6/site-packages/sklearn/linear_model/logistic.py:432: FutureWarning: Default solver will be changed to 'lbfgs' in 0.22. Specify a solver to silence this warning.\n",
      "  FutureWarning)\n"
     ]
    }
   ],
   "source": [
    "lr = LogisticRegression().fit(pca_train,train[\"155\"])"
   ]
  },
  {
   "cell_type": "code",
   "execution_count": 99,
   "metadata": {},
   "outputs": [],
   "source": [
    "pca_test = pca.transform(test[test.columns[:-1]])"
   ]
  },
  {
   "cell_type": "code",
   "execution_count": 100,
   "metadata": {},
   "outputs": [
    {
     "data": {
      "text/plain": [
       "0.8595049554260671"
      ]
     },
     "execution_count": 100,
     "metadata": {},
     "output_type": "execute_result"
    }
   ],
   "source": [
    "lr.score(pca_test,test[\"155\"])"
   ]
  },
  {
   "cell_type": "markdown",
   "metadata": {},
   "source": [
    "Twenty component PCA does relatively well.\n",
    "\n",
    "Let's look at a few more or fewer components. We can do that by taking say fifty and then keeping the first 5, 10, 20, 50 of them"
   ]
  },
  {
   "cell_type": "code",
   "execution_count": 107,
   "metadata": {},
   "outputs": [],
   "source": [
    "pca = PCA(n_components=50)"
   ]
  },
  {
   "cell_type": "code",
   "execution_count": 101,
   "metadata": {},
   "outputs": [],
   "source": [
    "pca_train = pca.fit_transform(train[train.columns[:-1]])\n",
    "pca_test = pca.transform(test[test.columns[:-1]])"
   ]
  },
  {
   "cell_type": "code",
   "execution_count": 104,
   "metadata": {},
   "outputs": [
    {
     "name": "stdout",
     "output_type": "stream",
     "text": [
      "1:\t0.8479007918721052\n",
      "5:\t0.9719358533791523\n",
      "10:\t0.9775885253249664\n",
      "20:\t0.8595049554260671\n",
      "50:\t0.8595049554260671\n"
     ]
    }
   ],
   "source": [
    "for pcs in [1,5,10,20,50]:\n",
    "    lr = LogisticRegression(solver='liblinear').fit(pca_train[:,:pcs],train[\"155\"])\n",
    "    score = lr.score(pca_test[:,:pcs], test[\"155\"])\n",
    "    print(f\"{pcs}:\\t{score}\")"
   ]
  },
  {
   "cell_type": "markdown",
   "metadata": {},
   "source": [
    "Looking closer at 1 to 20:"
   ]
  },
  {
   "cell_type": "code",
   "execution_count": 108,
   "metadata": {},
   "outputs": [],
   "source": [
    "def principalcomponents_lrscore(n):\n",
    "    lr = LogisticRegression(solver='liblinear').fit(pca_train[:,:n],train[\"155\"])\n",
    "    score = lr.score(pca_test[:,:n], test[\"155\"])\n",
    "    return score"
   ]
  },
  {
   "cell_type": "code",
   "execution_count": null,
   "metadata": {},
   "outputs": [],
   "source": [
    "pcs = list(range(1,20))\n",
    "lrs = [principalcomponents_lrscore(n) for n in pcs]"
   ]
  },
  {
   "cell_type": "code",
   "execution_count": 109,
   "metadata": {},
   "outputs": [
    {
     "data": {
      "text/plain": [
       "[<matplotlib.lines.Line2D at 0x7f7e8e8ad828>]"
      ]
     },
     "execution_count": 109,
     "metadata": {},
     "output_type": "execute_result"
    },
    {
     "data": {
      "image/png": "[encoded data removed]",
      "text/plain": [
       "<Figure size 432x288 with 1 Axes>"
      ]
     },
     "metadata": {
      "needs_background": "light"
     },
     "output_type": "display_data"
    }
   ],
   "source": [
    "plt.plot(pcs, lrs)"
   ]
  },
  {
   "cell_type": "markdown",
   "metadata": {},
   "source": [
    "Seems 10 is a good choice of principal components"
   ]
  },
  {
   "cell_type": "code",
   "execution_count": 113,
   "metadata": {},
   "outputs": [
    {
     "data": {
      "text/plain": [
       "[<matplotlib.lines.Line2D at 0x7f7e88568470>]"
      ]
     },
     "execution_count": 113,
     "metadata": {},
     "output_type": "execute_result"
    },
    {
     "data": {
      "image/png": "[encoded data removed]",
      "text/plain": [
       "<Figure size 432x288 with 1 Axes>"
      ]
     },
     "metadata": {
      "needs_background": "light"
     },
     "output_type": "display_data"
    }
   ],
   "source": [
    "pca = PCA(n_components=19)\n",
    "pca.fit(train[train.columns[:-1]])\n",
    "plt.plot(pcs,pca.explained_variance_)"
   ]
  }
 ],
 "metadata": {
  "kernelspec": {
   "display_name": "Python 3",
   "language": "python",
   "name": "python3"
  },
  "language_info": {
   "codemirror_mode": {
    "name": "ipython",
    "version": 3
   },
   "file_extension": ".py",
   "mimetype": "text/x-python",
   "name": "python",
   "nbconvert_exporter": "python",
   "pygments_lexer": "ipython3",
   "version": "3.6.8"
  }
 },
 "nbformat": 4,
 "nbformat_minor": 2
}
