{
 "cells": [
  {
   "cell_type": "code",
   "execution_count": 2,
   "metadata": {
    "scrolled": true
   },
   "outputs": [
    {
     "name": "stderr",
     "output_type": "stream",
     "text": [
      "/home/ian/jupyter/env3.6/lib/python3.6/importlib/_bootstrap.py:219: RuntimeWarning: numpy.ufunc size changed, may indicate binary incompatibility. Expected 192 from C header, got 216 from PyObject\n",
      "  return f(*args, **kwds)\n",
      "/home/ian/jupyter/env3.6/lib/python3.6/importlib/_bootstrap.py:219: RuntimeWarning: numpy.ufunc size changed, may indicate binary incompatibility. Expected 192 from C header, got 216 from PyObject\n",
      "  return f(*args, **kwds)\n"
     ]
    }
   ],
   "source": [
    "import pandas as pd"
   ]
  },
  {
   "cell_type": "code",
   "execution_count": 8,
   "metadata": {},
   "outputs": [],
   "source": [
    "train = pd.read_csv(\"train_imperson_without4n7_balanced_data.csv\")"
   ]
  },
  {
   "cell_type": "markdown",
   "metadata": {},
   "source": [
    "Delete columns that have zero variance"
   ]
  },
  {
   "cell_type": "code",
   "execution_count": 9,
   "metadata": {},
   "outputs": [],
   "source": [
    "col_to_delete = [k for k in train.columns if train[k].std()==0]"
   ]
  },
  {
   "cell_type": "markdown",
   "metadata": {},
   "source": [
    "Of which there are"
   ]
  },
  {
   "cell_type": "code",
   "execution_count": 10,
   "metadata": {},
   "outputs": [
    {
     "data": {
      "text/plain": [
       "74"
      ]
     },
     "execution_count": 10,
     "metadata": {},
     "output_type": "execute_result"
    }
   ],
   "source": [
    "len(col_to_delete)"
   ]
  },
  {
   "cell_type": "code",
   "execution_count": 11,
   "metadata": {},
   "outputs": [],
   "source": [
    "train = train.drop(col_to_delete,axis=1)\n",
    "trainX = train[train.columns[:-1]]\n",
    "trainY = train[\"155\"]"
   ]
  },
  {
   "cell_type": "code",
   "execution_count": 18,
   "metadata": {},
   "outputs": [],
   "source": [
    "trainX0 = trainX[trainY==0]\n",
    "trainX1 = trainX[trainY>0]"
   ]
  },
  {
   "cell_type": "code",
   "execution_count": 22,
   "metadata": {
    "scrolled": true
   },
   "outputs": [
    {
     "data": {
      "text/plain": [
       "97044"
      ]
     },
     "execution_count": 22,
     "metadata": {},
     "output_type": "execute_result"
    }
   ],
   "source": [
    "len(trainX)"
   ]
  },
  {
   "cell_type": "markdown",
   "metadata": {},
   "source": [
    "# Feature selection"
   ]
  },
  {
   "cell_type": "markdown",
   "metadata": {},
   "source": [
    "Build a data table to hold information regarding the remaining variables\n",
    "\n",
    "(Some `pandas` operations are easier if the feature name is a regular column but it's nice for that to be the index too)"
   ]
  },
  {
   "cell_type": "code",
   "execution_count": 35,
   "metadata": {},
   "outputs": [],
   "source": [
    "features = pd.DataFrame(data = trainX.columns, columns = ['feature'], index = train.columns[:-1])"
   ]
  },
  {
   "cell_type": "code",
   "execution_count": 36,
   "metadata": {
    "scrolled": true
   },
   "outputs": [
    {
     "data": {
      "text/html": [
       "<div>\n",
       "<style scoped>\n",
       "    .dataframe tbody tr th:only-of-type {\n",
       "        vertical-align: middle;\n",
       "    }\n",
       "\n",
       "    .dataframe tbody tr th {\n",
       "        vertical-align: top;\n",
       "    }\n",
       "\n",
       "    .dataframe thead th {\n",
       "        text-align: right;\n",
       "    }\n",
       "</style>\n",
       "<table border=\"1\" class=\"dataframe\">\n",
       "  <thead>\n",
       "    <tr style=\"text-align: right;\">\n",
       "      <th></th>\n",
       "      <th>factor</th>\n",
       "      <th>mu0</th>\n",
       "      <th>mu1</th>\n",
       "      <th>sigma0</th>\n",
       "      <th>sigma1</th>\n",
       "      <th>rho</th>\n",
       "    </tr>\n",
       "  </thead>\n",
       "  <tbody>\n",
       "    <tr>\n",
       "      <th>5</th>\n",
       "      <td>5</td>\n",
       "      <td>0.005345</td>\n",
       "      <td>0.007160</td>\n",
       "      <td>0.018728</td>\n",
       "      <td>0.011431</td>\n",
       "      <td>0.058410</td>\n",
       "    </tr>\n",
       "    <tr>\n",
       "      <th>6</th>\n",
       "      <td>6</td>\n",
       "      <td>0.005345</td>\n",
       "      <td>0.007160</td>\n",
       "      <td>0.018728</td>\n",
       "      <td>0.011431</td>\n",
       "      <td>0.058410</td>\n",
       "    </tr>\n",
       "    <tr>\n",
       "      <th>8</th>\n",
       "      <td>8</td>\n",
       "      <td>0.349147</td>\n",
       "      <td>0.038526</td>\n",
       "      <td>0.450527</td>\n",
       "      <td>0.006735</td>\n",
       "      <td>-0.438183</td>\n",
       "    </tr>\n",
       "    <tr>\n",
       "      <th>9</th>\n",
       "      <td>9</td>\n",
       "      <td>0.349147</td>\n",
       "      <td>0.038526</td>\n",
       "      <td>0.450527</td>\n",
       "      <td>0.006735</td>\n",
       "      <td>-0.438183</td>\n",
       "    </tr>\n",
       "    <tr>\n",
       "      <th>14</th>\n",
       "      <td>14</td>\n",
       "      <td>0.999567</td>\n",
       "      <td>1.000000</td>\n",
       "      <td>0.020799</td>\n",
       "      <td>0.000000</td>\n",
       "      <td>0.014712</td>\n",
       "    </tr>\n",
       "  </tbody>\n",
       "</table>\n",
       "</div>"
      ],
      "text/plain": [
       "   factor       mu0       mu1    sigma0    sigma1       rho\n",
       "5       5  0.005345  0.007160  0.018728  0.011431  0.058410\n",
       "6       6  0.005345  0.007160  0.018728  0.011431  0.058410\n",
       "8       8  0.349147  0.038526  0.450527  0.006735 -0.438183\n",
       "9       9  0.349147  0.038526  0.450527  0.006735 -0.438183\n",
       "14     14  0.999567  1.000000  0.020799  0.000000  0.014712"
      ]
     },
     "execution_count": 36,
     "metadata": {},
     "output_type": "execute_result"
    }
   ],
   "source": [
    "features[\"mu0\"] = features.feature.apply(lambda f: trainX0[f].mean())\n",
    "features[\"mu1\"] = features.feature.apply(lambda f: trainX1[f].mean())\n",
    "\n",
    "features[\"sigma0\"] = features.feature.apply(lambda f: trainX0[f].std())\n",
    "features[\"sigma1\"] = features.feature.apply(lambda f: trainX1[f].std())\n",
    "\n",
    "features[\"rho\"] = features.feature.apply(lambda f: train[f].corr(train[\"155\"]))\n",
    "\n",
    "features.head()"
   ]
  },
  {
   "cell_type": "markdown",
   "metadata": {},
   "source": [
    "## correlation"
   ]
  },
  {
   "cell_type": "markdown",
   "metadata": {},
   "source": [
    "Sorting features by the absolute value of $\\rho$, since a negative correlation is as predictive as a postive one"
   ]
  },
  {
   "cell_type": "code",
   "execution_count": 37,
   "metadata": {},
   "outputs": [],
   "source": [
    "features[\"absrho\"]=abs(features[\"rho\"])"
   ]
  },
  {
   "cell_type": "code",
   "execution_count": 38,
   "metadata": {},
   "outputs": [
    {
     "data": {
      "text/html": [
       "<div>\n",
       "<style scoped>\n",
       "    .dataframe tbody tr th:only-of-type {\n",
       "        vertical-align: middle;\n",
       "    }\n",
       "\n",
       "    .dataframe tbody tr th {\n",
       "        vertical-align: top;\n",
       "    }\n",
       "\n",
       "    .dataframe thead th {\n",
       "        text-align: right;\n",
       "    }\n",
       "</style>\n",
       "<table border=\"1\" class=\"dataframe\">\n",
       "  <thead>\n",
       "    <tr style=\"text-align: right;\">\n",
       "      <th></th>\n",
       "      <th>factor</th>\n",
       "      <th>mu0</th>\n",
       "      <th>mu1</th>\n",
       "      <th>sigma0</th>\n",
       "      <th>sigma1</th>\n",
       "      <th>rho</th>\n",
       "      <th>absrho</th>\n",
       "    </tr>\n",
       "  </thead>\n",
       "  <tbody>\n",
       "    <tr>\n",
       "      <th>67</th>\n",
       "      <td>67</td>\n",
       "      <td>7.086695e-01</td>\n",
       "      <td>0.045289</td>\n",
       "      <td>0.260226</td>\n",
       "      <td>0.157740</td>\n",
       "      <td>-0.838937</td>\n",
       "      <td>0.838937</td>\n",
       "    </tr>\n",
       "    <tr>\n",
       "      <th>71</th>\n",
       "      <td>71</td>\n",
       "      <td>4.843164e-03</td>\n",
       "      <td>0.676456</td>\n",
       "      <td>0.069425</td>\n",
       "      <td>0.467833</td>\n",
       "      <td>0.708561</td>\n",
       "      <td>0.708561</td>\n",
       "    </tr>\n",
       "    <tr>\n",
       "      <th>50</th>\n",
       "      <td>50</td>\n",
       "      <td>4.031573e-01</td>\n",
       "      <td>0.999979</td>\n",
       "      <td>0.490537</td>\n",
       "      <td>0.004540</td>\n",
       "      <td>0.652165</td>\n",
       "      <td>0.652165</td>\n",
       "    </tr>\n",
       "    <tr>\n",
       "      <th>51</th>\n",
       "      <td>51</td>\n",
       "      <td>5.964099e-01</td>\n",
       "      <td>0.000021</td>\n",
       "      <td>0.490622</td>\n",
       "      <td>0.004540</td>\n",
       "      <td>-0.651828</td>\n",
       "      <td>0.651828</td>\n",
       "    </tr>\n",
       "    <tr>\n",
       "      <th>47</th>\n",
       "      <td>47</td>\n",
       "      <td>5.018176e-01</td>\n",
       "      <td>0.000022</td>\n",
       "      <td>0.450187</td>\n",
       "      <td>0.004542</td>\n",
       "      <td>-0.618997</td>\n",
       "      <td>0.618997</td>\n",
       "    </tr>\n",
       "    <tr>\n",
       "      <th>68</th>\n",
       "      <td>68</td>\n",
       "      <td>4.490540e-01</td>\n",
       "      <td>0.921829</td>\n",
       "      <td>0.470411</td>\n",
       "      <td>0.268404</td>\n",
       "      <td>0.525254</td>\n",
       "      <td>0.525254</td>\n",
       "    </tr>\n",
       "    <tr>\n",
       "      <th>38</th>\n",
       "      <td>38</td>\n",
       "      <td>6.591980e-01</td>\n",
       "      <td>0.768314</td>\n",
       "      <td>0.132439</td>\n",
       "      <td>0.024954</td>\n",
       "      <td>0.496848</td>\n",
       "      <td>0.496848</td>\n",
       "    </tr>\n",
       "    <tr>\n",
       "      <th>82</th>\n",
       "      <td>82</td>\n",
       "      <td>3.597495e-01</td>\n",
       "      <td>0.091727</td>\n",
       "      <td>0.329202</td>\n",
       "      <td>0.055956</td>\n",
       "      <td>-0.493602</td>\n",
       "      <td>0.493602</td>\n",
       "    </tr>\n",
       "    <tr>\n",
       "      <th>73</th>\n",
       "      <td>73</td>\n",
       "      <td>4.862330e-01</td>\n",
       "      <td>0.921870</td>\n",
       "      <td>0.499816</td>\n",
       "      <td>0.268378</td>\n",
       "      <td>0.477183</td>\n",
       "      <td>0.477183</td>\n",
       "    </tr>\n",
       "    <tr>\n",
       "      <th>146</th>\n",
       "      <td>146</td>\n",
       "      <td>5.687225e-02</td>\n",
       "      <td>0.000000</td>\n",
       "      <td>0.079131</td>\n",
       "      <td>0.000000</td>\n",
       "      <td>-0.453058</td>\n",
       "      <td>0.453058</td>\n",
       "    </tr>\n",
       "    <tr>\n",
       "      <th>145</th>\n",
       "      <td>145</td>\n",
       "      <td>5.687225e-02</td>\n",
       "      <td>0.000000</td>\n",
       "      <td>0.079131</td>\n",
       "      <td>0.000000</td>\n",
       "      <td>-0.453058</td>\n",
       "      <td>0.453058</td>\n",
       "    </tr>\n",
       "    <tr>\n",
       "      <th>8</th>\n",
       "      <td>8</td>\n",
       "      <td>3.491472e-01</td>\n",
       "      <td>0.038526</td>\n",
       "      <td>0.450527</td>\n",
       "      <td>0.006735</td>\n",
       "      <td>-0.438183</td>\n",
       "      <td>0.438183</td>\n",
       "    </tr>\n",
       "    <tr>\n",
       "      <th>9</th>\n",
       "      <td>9</td>\n",
       "      <td>3.491472e-01</td>\n",
       "      <td>0.038526</td>\n",
       "      <td>0.450527</td>\n",
       "      <td>0.006735</td>\n",
       "      <td>-0.438183</td>\n",
       "      <td>0.438183</td>\n",
       "    </tr>\n",
       "    <tr>\n",
       "      <th>154</th>\n",
       "      <td>154</td>\n",
       "      <td>3.349401e-01</td>\n",
       "      <td>0.022008</td>\n",
       "      <td>0.458596</td>\n",
       "      <td>0.006407</td>\n",
       "      <td>-0.434536</td>\n",
       "      <td>0.434536</td>\n",
       "    </tr>\n",
       "    <tr>\n",
       "      <th>66</th>\n",
       "      <td>66</td>\n",
       "      <td>6.336301e-01</td>\n",
       "      <td>0.921870</td>\n",
       "      <td>0.407407</td>\n",
       "      <td>0.268378</td>\n",
       "      <td>0.385492</td>\n",
       "      <td>0.385492</td>\n",
       "    </tr>\n",
       "    <tr>\n",
       "      <th>75</th>\n",
       "      <td>75</td>\n",
       "      <td>5.426613e-03</td>\n",
       "      <td>0.000290</td>\n",
       "      <td>0.011442</td>\n",
       "      <td>0.002490</td>\n",
       "      <td>-0.296245</td>\n",
       "      <td>0.296245</td>\n",
       "    </tr>\n",
       "    <tr>\n",
       "      <th>70</th>\n",
       "      <td>70</td>\n",
       "      <td>1.506739e-01</td>\n",
       "      <td>0.000021</td>\n",
       "      <td>0.357734</td>\n",
       "      <td>0.004540</td>\n",
       "      <td>-0.285381</td>\n",
       "      <td>0.285381</td>\n",
       "    </tr>\n",
       "    <tr>\n",
       "      <th>110</th>\n",
       "      <td>110</td>\n",
       "      <td>1.527235e-05</td>\n",
       "      <td>0.000000</td>\n",
       "      <td>0.000041</td>\n",
       "      <td>0.000000</td>\n",
       "      <td>-0.256507</td>\n",
       "      <td>0.256507</td>\n",
       "    </tr>\n",
       "    <tr>\n",
       "      <th>77</th>\n",
       "      <td>77</td>\n",
       "      <td>3.892950e-02</td>\n",
       "      <td>0.008852</td>\n",
       "      <td>0.095921</td>\n",
       "      <td>0.038162</td>\n",
       "      <td>-0.201783</td>\n",
       "      <td>0.201783</td>\n",
       "    </tr>\n",
       "    <tr>\n",
       "      <th>122</th>\n",
       "      <td>122</td>\n",
       "      <td>3.645072e-04</td>\n",
       "      <td>0.000000</td>\n",
       "      <td>0.001388</td>\n",
       "      <td>0.000000</td>\n",
       "      <td>-0.182614</td>\n",
       "      <td>0.182614</td>\n",
       "    </tr>\n",
       "    <tr>\n",
       "      <th>140</th>\n",
       "      <td>140</td>\n",
       "      <td>2.261501e-01</td>\n",
       "      <td>0.320148</td>\n",
       "      <td>0.301992</td>\n",
       "      <td>0.199302</td>\n",
       "      <td>0.180674</td>\n",
       "      <td>0.180674</td>\n",
       "    </tr>\n",
       "    <tr>\n",
       "      <th>94</th>\n",
       "      <td>94</td>\n",
       "      <td>5.585095e-02</td>\n",
       "      <td>0.000289</td>\n",
       "      <td>0.229636</td>\n",
       "      <td>0.016984</td>\n",
       "      <td>-0.168196</td>\n",
       "      <td>0.168196</td>\n",
       "    </tr>\n",
       "    <tr>\n",
       "      <th>107</th>\n",
       "      <td>107</td>\n",
       "      <td>4.734967e-03</td>\n",
       "      <td>0.000000</td>\n",
       "      <td>0.021979</td>\n",
       "      <td>0.000000</td>\n",
       "      <td>-0.150600</td>\n",
       "      <td>0.150600</td>\n",
       "    </tr>\n",
       "    <tr>\n",
       "      <th>130</th>\n",
       "      <td>130</td>\n",
       "      <td>4.307325e-02</td>\n",
       "      <td>0.000000</td>\n",
       "      <td>0.203024</td>\n",
       "      <td>0.000000</td>\n",
       "      <td>-0.148360</td>\n",
       "      <td>0.148360</td>\n",
       "    </tr>\n",
       "    <tr>\n",
       "      <th>126</th>\n",
       "      <td>126</td>\n",
       "      <td>6.633280e-07</td>\n",
       "      <td>0.000000</td>\n",
       "      <td>0.000003</td>\n",
       "      <td>0.000000</td>\n",
       "      <td>-0.148360</td>\n",
       "      <td>0.148360</td>\n",
       "    </tr>\n",
       "    <tr>\n",
       "      <th>129</th>\n",
       "      <td>129</td>\n",
       "      <td>6.805573e-07</td>\n",
       "      <td>0.000000</td>\n",
       "      <td>0.000003</td>\n",
       "      <td>0.000000</td>\n",
       "      <td>-0.148360</td>\n",
       "      <td>0.148360</td>\n",
       "    </tr>\n",
       "    <tr>\n",
       "      <th>127</th>\n",
       "      <td>127</td>\n",
       "      <td>3.379894e-04</td>\n",
       "      <td>0.000000</td>\n",
       "      <td>0.001593</td>\n",
       "      <td>0.000000</td>\n",
       "      <td>-0.148324</td>\n",
       "      <td>0.148324</td>\n",
       "    </tr>\n",
       "    <tr>\n",
       "      <th>128</th>\n",
       "      <td>128</td>\n",
       "      <td>1.284308e-06</td>\n",
       "      <td>0.000000</td>\n",
       "      <td>0.000006</td>\n",
       "      <td>0.000000</td>\n",
       "      <td>-0.147055</td>\n",
       "      <td>0.147055</td>\n",
       "    </tr>\n",
       "    <tr>\n",
       "      <th>61</th>\n",
       "      <td>61</td>\n",
       "      <td>6.077220e-01</td>\n",
       "      <td>0.634935</td>\n",
       "      <td>0.146420</td>\n",
       "      <td>0.074405</td>\n",
       "      <td>0.116366</td>\n",
       "      <td>0.116366</td>\n",
       "    </tr>\n",
       "    <tr>\n",
       "      <th>142</th>\n",
       "      <td>142</td>\n",
       "      <td>2.310503e-01</td>\n",
       "      <td>0.291817</td>\n",
       "      <td>0.317456</td>\n",
       "      <td>0.187557</td>\n",
       "      <td>0.115751</td>\n",
       "      <td>0.115751</td>\n",
       "    </tr>\n",
       "    <tr>\n",
       "      <th>141</th>\n",
       "      <td>141</td>\n",
       "      <td>7.549768e-03</td>\n",
       "      <td>0.000000</td>\n",
       "      <td>0.051051</td>\n",
       "      <td>0.000000</td>\n",
       "      <td>-0.104006</td>\n",
       "      <td>0.104006</td>\n",
       "    </tr>\n",
       "  </tbody>\n",
       "</table>\n",
       "</div>"
      ],
      "text/plain": [
       "    factor           mu0       mu1    sigma0    sigma1       rho    absrho\n",
       "67      67  7.086695e-01  0.045289  0.260226  0.157740 -0.838937  0.838937\n",
       "71      71  4.843164e-03  0.676456  0.069425  0.467833  0.708561  0.708561\n",
       "50      50  4.031573e-01  0.999979  0.490537  0.004540  0.652165  0.652165\n",
       "51      51  5.964099e-01  0.000021  0.490622  0.004540 -0.651828  0.651828\n",
       "47      47  5.018176e-01  0.000022  0.450187  0.004542 -0.618997  0.618997\n",
       "68      68  4.490540e-01  0.921829  0.470411  0.268404  0.525254  0.525254\n",
       "38      38  6.591980e-01  0.768314  0.132439  0.024954  0.496848  0.496848\n",
       "82      82  3.597495e-01  0.091727  0.329202  0.055956 -0.493602  0.493602\n",
       "73      73  4.862330e-01  0.921870  0.499816  0.268378  0.477183  0.477183\n",
       "146    146  5.687225e-02  0.000000  0.079131  0.000000 -0.453058  0.453058\n",
       "145    145  5.687225e-02  0.000000  0.079131  0.000000 -0.453058  0.453058\n",
       "8        8  3.491472e-01  0.038526  0.450527  0.006735 -0.438183  0.438183\n",
       "9        9  3.491472e-01  0.038526  0.450527  0.006735 -0.438183  0.438183\n",
       "154    154  3.349401e-01  0.022008  0.458596  0.006407 -0.434536  0.434536\n",
       "66      66  6.336301e-01  0.921870  0.407407  0.268378  0.385492  0.385492\n",
       "75      75  5.426613e-03  0.000290  0.011442  0.002490 -0.296245  0.296245\n",
       "70      70  1.506739e-01  0.000021  0.357734  0.004540 -0.285381  0.285381\n",
       "110    110  1.527235e-05  0.000000  0.000041  0.000000 -0.256507  0.256507\n",
       "77      77  3.892950e-02  0.008852  0.095921  0.038162 -0.201783  0.201783\n",
       "122    122  3.645072e-04  0.000000  0.001388  0.000000 -0.182614  0.182614\n",
       "140    140  2.261501e-01  0.320148  0.301992  0.199302  0.180674  0.180674\n",
       "94      94  5.585095e-02  0.000289  0.229636  0.016984 -0.168196  0.168196\n",
       "107    107  4.734967e-03  0.000000  0.021979  0.000000 -0.150600  0.150600\n",
       "130    130  4.307325e-02  0.000000  0.203024  0.000000 -0.148360  0.148360\n",
       "126    126  6.633280e-07  0.000000  0.000003  0.000000 -0.148360  0.148360\n",
       "129    129  6.805573e-07  0.000000  0.000003  0.000000 -0.148360  0.148360\n",
       "127    127  3.379894e-04  0.000000  0.001593  0.000000 -0.148324  0.148324\n",
       "128    128  1.284308e-06  0.000000  0.000006  0.000000 -0.147055  0.147055\n",
       "61      61  6.077220e-01  0.634935  0.146420  0.074405  0.116366  0.116366\n",
       "142    142  2.310503e-01  0.291817  0.317456  0.187557  0.115751  0.115751\n",
       "141    141  7.549768e-03  0.000000  0.051051  0.000000 -0.104006  0.104006"
      ]
     },
     "execution_count": 38,
     "metadata": {},
     "output_type": "execute_result"
    }
   ],
   "source": [
    "features.sort_values(by=\"absrho\", ascending=False).loc[features[\"absrho\"]>0.1]"
   ]
  },
  {
   "cell_type": "markdown",
   "metadata": {},
   "source": [
    "## t-tests"
   ]
  },
  {
   "cell_type": "markdown",
   "metadata": {},
   "source": [
    "t-tests establish the probability $p$ that we see a least that difference in the mean of a feature for the two conditions under the null hypothesis that they come from the same distribution"
   ]
  },
  {
   "cell_type": "code",
   "execution_count": 39,
   "metadata": {},
   "outputs": [],
   "source": [
    "from scipy.stats import ttest_ind"
   ]
  },
  {
   "cell_type": "code",
   "execution_count": 40,
   "metadata": {},
   "outputs": [
    {
     "data": {
      "text/html": [
       "<div>\n",
       "<style scoped>\n",
       "    .dataframe tbody tr th:only-of-type {\n",
       "        vertical-align: middle;\n",
       "    }\n",
       "\n",
       "    .dataframe tbody tr th {\n",
       "        vertical-align: top;\n",
       "    }\n",
       "\n",
       "    .dataframe thead th {\n",
       "        text-align: right;\n",
       "    }\n",
       "</style>\n",
       "<table border=\"1\" class=\"dataframe\">\n",
       "  <thead>\n",
       "    <tr style=\"text-align: right;\">\n",
       "      <th></th>\n",
       "      <th>factor</th>\n",
       "      <th>mu0</th>\n",
       "      <th>mu1</th>\n",
       "      <th>sigma0</th>\n",
       "      <th>sigma1</th>\n",
       "      <th>rho</th>\n",
       "      <th>absrho</th>\n",
       "      <th>t-test p</th>\n",
       "    </tr>\n",
       "  </thead>\n",
       "  <tbody>\n",
       "    <tr>\n",
       "      <th>5</th>\n",
       "      <td>5</td>\n",
       "      <td>0.005345</td>\n",
       "      <td>0.007160</td>\n",
       "      <td>0.018728</td>\n",
       "      <td>0.011431</td>\n",
       "      <td>0.058410</td>\n",
       "      <td>0.058410</td>\n",
       "      <td>4.460255e-74</td>\n",
       "    </tr>\n",
       "    <tr>\n",
       "      <th>6</th>\n",
       "      <td>6</td>\n",
       "      <td>0.005345</td>\n",
       "      <td>0.007160</td>\n",
       "      <td>0.018728</td>\n",
       "      <td>0.011431</td>\n",
       "      <td>0.058410</td>\n",
       "      <td>0.058410</td>\n",
       "      <td>4.460255e-74</td>\n",
       "    </tr>\n",
       "    <tr>\n",
       "      <th>8</th>\n",
       "      <td>8</td>\n",
       "      <td>0.349147</td>\n",
       "      <td>0.038526</td>\n",
       "      <td>0.450527</td>\n",
       "      <td>0.006735</td>\n",
       "      <td>-0.438183</td>\n",
       "      <td>0.438183</td>\n",
       "      <td>0.000000e+00</td>\n",
       "    </tr>\n",
       "    <tr>\n",
       "      <th>9</th>\n",
       "      <td>9</td>\n",
       "      <td>0.349147</td>\n",
       "      <td>0.038526</td>\n",
       "      <td>0.450527</td>\n",
       "      <td>0.006735</td>\n",
       "      <td>-0.438183</td>\n",
       "      <td>0.438183</td>\n",
       "      <td>0.000000e+00</td>\n",
       "    </tr>\n",
       "    <tr>\n",
       "      <th>14</th>\n",
       "      <td>14</td>\n",
       "      <td>0.999567</td>\n",
       "      <td>1.000000</td>\n",
       "      <td>0.020799</td>\n",
       "      <td>0.000000</td>\n",
       "      <td>0.014712</td>\n",
       "      <td>0.014712</td>\n",
       "      <td>4.583503e-06</td>\n",
       "    </tr>\n",
       "  </tbody>\n",
       "</table>\n",
       "</div>"
      ],
      "text/plain": [
       "   factor       mu0       mu1    sigma0    sigma1       rho    absrho  \\\n",
       "5       5  0.005345  0.007160  0.018728  0.011431  0.058410  0.058410   \n",
       "6       6  0.005345  0.007160  0.018728  0.011431  0.058410  0.058410   \n",
       "8       8  0.349147  0.038526  0.450527  0.006735 -0.438183  0.438183   \n",
       "9       9  0.349147  0.038526  0.450527  0.006735 -0.438183  0.438183   \n",
       "14     14  0.999567  1.000000  0.020799  0.000000  0.014712  0.014712   \n",
       "\n",
       "        t-test p  \n",
       "5   4.460255e-74  \n",
       "6   4.460255e-74  \n",
       "8   0.000000e+00  \n",
       "9   0.000000e+00  \n",
       "14  4.583503e-06  "
      ]
     },
     "execution_count": 40,
     "metadata": {},
     "output_type": "execute_result"
    }
   ],
   "source": [
    "features[\"t-test p\"] = features.feature.apply(\n",
    "    lambda f: ttest_ind(trainX0[f],\n",
    "                        trainX1[f],\n",
    "                        equal_var=False)[1]\n",
    ")\n",
    "features.head()"
   ]
  },
  {
   "cell_type": "markdown",
   "metadata": {},
   "source": [
    "Sort from lowest probability"
   ]
  },
  {
   "cell_type": "code",
   "execution_count": 41,
   "metadata": {},
   "outputs": [
    {
     "data": {
      "text/html": [
       "<div>\n",
       "<style scoped>\n",
       "    .dataframe tbody tr th:only-of-type {\n",
       "        vertical-align: middle;\n",
       "    }\n",
       "\n",
       "    .dataframe tbody tr th {\n",
       "        vertical-align: top;\n",
       "    }\n",
       "\n",
       "    .dataframe thead th {\n",
       "        text-align: right;\n",
       "    }\n",
       "</style>\n",
       "<table border=\"1\" class=\"dataframe\">\n",
       "  <thead>\n",
       "    <tr style=\"text-align: right;\">\n",
       "      <th></th>\n",
       "      <th>factor</th>\n",
       "      <th>mu0</th>\n",
       "      <th>mu1</th>\n",
       "      <th>sigma0</th>\n",
       "      <th>sigma1</th>\n",
       "      <th>rho</th>\n",
       "      <th>absrho</th>\n",
       "      <th>t-test p</th>\n",
       "    </tr>\n",
       "  </thead>\n",
       "  <tbody>\n",
       "    <tr>\n",
       "      <th>154</th>\n",
       "      <td>154</td>\n",
       "      <td>0.334940</td>\n",
       "      <td>0.022008</td>\n",
       "      <td>0.458596</td>\n",
       "      <td>0.006407</td>\n",
       "      <td>-0.434536</td>\n",
       "      <td>0.434536</td>\n",
       "      <td>0.000000</td>\n",
       "    </tr>\n",
       "    <tr>\n",
       "      <th>94</th>\n",
       "      <td>94</td>\n",
       "      <td>0.055851</td>\n",
       "      <td>0.000289</td>\n",
       "      <td>0.229636</td>\n",
       "      <td>0.016984</td>\n",
       "      <td>-0.168196</td>\n",
       "      <td>0.168196</td>\n",
       "      <td>0.000000</td>\n",
       "    </tr>\n",
       "    <tr>\n",
       "      <th>77</th>\n",
       "      <td>77</td>\n",
       "      <td>0.038930</td>\n",
       "      <td>0.008852</td>\n",
       "      <td>0.095921</td>\n",
       "      <td>0.038162</td>\n",
       "      <td>-0.201783</td>\n",
       "      <td>0.201783</td>\n",
       "      <td>0.000000</td>\n",
       "    </tr>\n",
       "    <tr>\n",
       "      <th>75</th>\n",
       "      <td>75</td>\n",
       "      <td>0.005427</td>\n",
       "      <td>0.000290</td>\n",
       "      <td>0.011442</td>\n",
       "      <td>0.002490</td>\n",
       "      <td>-0.296245</td>\n",
       "      <td>0.296245</td>\n",
       "      <td>0.000000</td>\n",
       "    </tr>\n",
       "    <tr>\n",
       "      <th>73</th>\n",
       "      <td>73</td>\n",
       "      <td>0.486233</td>\n",
       "      <td>0.921870</td>\n",
       "      <td>0.499816</td>\n",
       "      <td>0.268378</td>\n",
       "      <td>0.477183</td>\n",
       "      <td>0.477183</td>\n",
       "      <td>0.000000</td>\n",
       "    </tr>\n",
       "    <tr>\n",
       "      <th>...</th>\n",
       "      <td>...</td>\n",
       "      <td>...</td>\n",
       "      <td>...</td>\n",
       "      <td>...</td>\n",
       "      <td>...</td>\n",
       "      <td>...</td>\n",
       "      <td>...</td>\n",
       "      <td>...</td>\n",
       "    </tr>\n",
       "    <tr>\n",
       "      <th>105</th>\n",
       "      <td>105</td>\n",
       "      <td>0.000021</td>\n",
       "      <td>0.000000</td>\n",
       "      <td>0.002780</td>\n",
       "      <td>0.000000</td>\n",
       "      <td>-0.005242</td>\n",
       "      <td>0.005242</td>\n",
       "      <td>0.102471</td>\n",
       "    </tr>\n",
       "    <tr>\n",
       "      <th>83</th>\n",
       "      <td>83</td>\n",
       "      <td>0.000041</td>\n",
       "      <td>0.000000</td>\n",
       "      <td>0.006420</td>\n",
       "      <td>0.000000</td>\n",
       "      <td>-0.004540</td>\n",
       "      <td>0.004540</td>\n",
       "      <td>0.157301</td>\n",
       "    </tr>\n",
       "    <tr>\n",
       "      <th>138</th>\n",
       "      <td>138</td>\n",
       "      <td>0.500008</td>\n",
       "      <td>0.500000</td>\n",
       "      <td>0.001725</td>\n",
       "      <td>0.000000</td>\n",
       "      <td>-0.003210</td>\n",
       "      <td>0.003210</td>\n",
       "      <td>0.317315</td>\n",
       "    </tr>\n",
       "    <tr>\n",
       "      <th>133</th>\n",
       "      <td>133</td>\n",
       "      <td>0.000021</td>\n",
       "      <td>0.000000</td>\n",
       "      <td>0.004540</td>\n",
       "      <td>0.000000</td>\n",
       "      <td>-0.003210</td>\n",
       "      <td>0.003210</td>\n",
       "      <td>0.317315</td>\n",
       "    </tr>\n",
       "    <tr>\n",
       "      <th>97</th>\n",
       "      <td>97</td>\n",
       "      <td>0.000021</td>\n",
       "      <td>0.000000</td>\n",
       "      <td>0.004540</td>\n",
       "      <td>0.000000</td>\n",
       "      <td>-0.003210</td>\n",
       "      <td>0.003210</td>\n",
       "      <td>0.317315</td>\n",
       "    </tr>\n",
       "  </tbody>\n",
       "</table>\n",
       "<p>78 rows × 8 columns</p>\n",
       "</div>"
      ],
      "text/plain": [
       "    factor       mu0       mu1    sigma0    sigma1       rho    absrho  \\\n",
       "154    154  0.334940  0.022008  0.458596  0.006407 -0.434536  0.434536   \n",
       "94      94  0.055851  0.000289  0.229636  0.016984 -0.168196  0.168196   \n",
       "77      77  0.038930  0.008852  0.095921  0.038162 -0.201783  0.201783   \n",
       "75      75  0.005427  0.000290  0.011442  0.002490 -0.296245  0.296245   \n",
       "73      73  0.486233  0.921870  0.499816  0.268378  0.477183  0.477183   \n",
       "..     ...       ...       ...       ...       ...       ...       ...   \n",
       "105    105  0.000021  0.000000  0.002780  0.000000 -0.005242  0.005242   \n",
       "83      83  0.000041  0.000000  0.006420  0.000000 -0.004540  0.004540   \n",
       "138    138  0.500008  0.500000  0.001725  0.000000 -0.003210  0.003210   \n",
       "133    133  0.000021  0.000000  0.004540  0.000000 -0.003210  0.003210   \n",
       "97      97  0.000021  0.000000  0.004540  0.000000 -0.003210  0.003210   \n",
       "\n",
       "     t-test p  \n",
       "154  0.000000  \n",
       "94   0.000000  \n",
       "77   0.000000  \n",
       "75   0.000000  \n",
       "73   0.000000  \n",
       "..        ...  \n",
       "105  0.102471  \n",
       "83   0.157301  \n",
       "138  0.317315  \n",
       "133  0.317315  \n",
       "97   0.317315  \n",
       "\n",
       "[78 rows x 8 columns]"
      ]
     },
     "execution_count": 41,
     "metadata": {},
     "output_type": "execute_result"
    }
   ],
   "source": [
    "features.sort_values(by=\"t-test p\")"
   ]
  },
  {
   "cell_type": "markdown",
   "metadata": {},
   "source": [
    "How many features have $p<0.05$?"
   ]
  },
  {
   "cell_type": "code",
   "execution_count": 28,
   "metadata": {},
   "outputs": [
    {
     "data": {
      "text/plain": [
       "70"
      ]
     },
     "execution_count": 28,
     "metadata": {},
     "output_type": "execute_result"
    }
   ],
   "source": [
    "len(features[features[\"t-test p\"] < 0.05])"
   ]
  },
  {
   "cell_type": "markdown",
   "metadata": {},
   "source": [
    "$p<0.000000001$?"
   ]
  },
  {
   "cell_type": "code",
   "execution_count": 56,
   "metadata": {},
   "outputs": [
    {
     "data": {
      "text/plain": [
       "51"
      ]
     },
     "execution_count": 56,
     "metadata": {},
     "output_type": "execute_result"
    }
   ],
   "source": [
    "len(features[features[\"t-test p\"] < 0.000000001])"
   ]
  },
  {
   "cell_type": "markdown",
   "metadata": {},
   "source": [
    "So most of the features have a significantly different mean under the two conditions"
   ]
  },
  {
   "cell_type": "markdown",
   "metadata": {},
   "source": [
    "## unique values"
   ]
  },
  {
   "cell_type": "markdown",
   "metadata": {},
   "source": [
    "Some features appear to only have a few values, eg"
   ]
  },
  {
   "cell_type": "code",
   "execution_count": 57,
   "metadata": {},
   "outputs": [
    {
     "data": {
      "text/plain": [
       "2"
      ]
     },
     "execution_count": 57,
     "metadata": {},
     "output_type": "execute_result"
    }
   ],
   "source": [
    "len(train[\"133\"].unique())"
   ]
  },
  {
   "cell_type": "markdown",
   "metadata": {},
   "source": [
    "Add a column to track the number of unique values a feature takes"
   ]
  },
  {
   "cell_type": "code",
   "execution_count": 58,
   "metadata": {},
   "outputs": [],
   "source": [
    "features[\"vals\"] = features.feature.apply(lambda f: len(train[f].unique()))"
   ]
  },
  {
   "cell_type": "code",
   "execution_count": 64,
   "metadata": {},
   "outputs": [
    {
     "data": {
      "text/html": [
       "<div>\n",
       "<style scoped>\n",
       "    .dataframe tbody tr th:only-of-type {\n",
       "        vertical-align: middle;\n",
       "    }\n",
       "\n",
       "    .dataframe tbody tr th {\n",
       "        vertical-align: top;\n",
       "    }\n",
       "\n",
       "    .dataframe thead th {\n",
       "        text-align: right;\n",
       "    }\n",
       "</style>\n",
       "<table border=\"1\" class=\"dataframe\">\n",
       "  <thead>\n",
       "    <tr style=\"text-align: right;\">\n",
       "      <th></th>\n",
       "      <th>factor</th>\n",
       "      <th>mu0</th>\n",
       "      <th>mu1</th>\n",
       "      <th>sigma0</th>\n",
       "      <th>sigma1</th>\n",
       "      <th>rho</th>\n",
       "      <th>absrho</th>\n",
       "      <th>t-test p</th>\n",
       "      <th>vals</th>\n",
       "    </tr>\n",
       "  </thead>\n",
       "  <tbody>\n",
       "    <tr>\n",
       "      <th>129</th>\n",
       "      <td>129</td>\n",
       "      <td>6.805573e-07</td>\n",
       "      <td>0.000000</td>\n",
       "      <td>0.000003</td>\n",
       "      <td>0.000000</td>\n",
       "      <td>-0.148360</td>\n",
       "      <td>0.148360</td>\n",
       "      <td>0.000000e+00</td>\n",
       "      <td>2</td>\n",
       "    </tr>\n",
       "    <tr>\n",
       "      <th>106</th>\n",
       "      <td>106</td>\n",
       "      <td>1.482495e-03</td>\n",
       "      <td>0.000018</td>\n",
       "      <td>0.035814</td>\n",
       "      <td>0.003934</td>\n",
       "      <td>-0.028733</td>\n",
       "      <td>0.028733</td>\n",
       "      <td>3.530465e-19</td>\n",
       "      <td>2</td>\n",
       "    </tr>\n",
       "    <tr>\n",
       "      <th>71</th>\n",
       "      <td>71</td>\n",
       "      <td>4.843164e-03</td>\n",
       "      <td>0.676456</td>\n",
       "      <td>0.069425</td>\n",
       "      <td>0.467833</td>\n",
       "      <td>0.708561</td>\n",
       "      <td>0.708561</td>\n",
       "      <td>0.000000e+00</td>\n",
       "      <td>2</td>\n",
       "    </tr>\n",
       "    <tr>\n",
       "      <th>72</th>\n",
       "      <td>72</td>\n",
       "      <td>1.978484e-03</td>\n",
       "      <td>0.000082</td>\n",
       "      <td>0.044437</td>\n",
       "      <td>0.009079</td>\n",
       "      <td>-0.029548</td>\n",
       "      <td>0.029548</td>\n",
       "      <td>3.419408e-20</td>\n",
       "      <td>2</td>\n",
       "    </tr>\n",
       "    <tr>\n",
       "      <th>73</th>\n",
       "      <td>73</td>\n",
       "      <td>4.862330e-01</td>\n",
       "      <td>0.921870</td>\n",
       "      <td>0.499816</td>\n",
       "      <td>0.268378</td>\n",
       "      <td>0.477183</td>\n",
       "      <td>0.477183</td>\n",
       "      <td>0.000000e+00</td>\n",
       "      <td>2</td>\n",
       "    </tr>\n",
       "    <tr>\n",
       "      <th>113</th>\n",
       "      <td>113</td>\n",
       "      <td>2.649747e-05</td>\n",
       "      <td>0.000000</td>\n",
       "      <td>0.003370</td>\n",
       "      <td>0.000000</td>\n",
       "      <td>-0.005560</td>\n",
       "      <td>0.005560</td>\n",
       "      <td>8.326452e-02</td>\n",
       "      <td>2</td>\n",
       "    </tr>\n",
       "    <tr>\n",
       "      <th>111</th>\n",
       "      <td>111</td>\n",
       "      <td>3.297473e-04</td>\n",
       "      <td>0.000577</td>\n",
       "      <td>0.018156</td>\n",
       "      <td>0.024015</td>\n",
       "      <td>0.005809</td>\n",
       "      <td>0.005809</td>\n",
       "      <td>7.037820e-02</td>\n",
       "      <td>2</td>\n",
       "    </tr>\n",
       "    <tr>\n",
       "      <th>133</th>\n",
       "      <td>133</td>\n",
       "      <td>2.060921e-05</td>\n",
       "      <td>0.000000</td>\n",
       "      <td>0.004540</td>\n",
       "      <td>0.000000</td>\n",
       "      <td>-0.003210</td>\n",
       "      <td>0.003210</td>\n",
       "      <td>3.173155e-01</td>\n",
       "      <td>2</td>\n",
       "    </tr>\n",
       "    <tr>\n",
       "      <th>83</th>\n",
       "      <td>83</td>\n",
       "      <td>4.121842e-05</td>\n",
       "      <td>0.000000</td>\n",
       "      <td>0.006420</td>\n",
       "      <td>0.000000</td>\n",
       "      <td>-0.004540</td>\n",
       "      <td>0.004540</td>\n",
       "      <td>1.573013e-01</td>\n",
       "      <td>2</td>\n",
       "    </tr>\n",
       "    <tr>\n",
       "      <th>84</th>\n",
       "      <td>84</td>\n",
       "      <td>1.236552e-04</td>\n",
       "      <td>0.000000</td>\n",
       "      <td>0.011119</td>\n",
       "      <td>0.000000</td>\n",
       "      <td>-0.007863</td>\n",
       "      <td>0.007863</td>\n",
       "      <td>1.430437e-02</td>\n",
       "      <td>2</td>\n",
       "    </tr>\n",
       "    <tr>\n",
       "      <th>86</th>\n",
       "      <td>86</td>\n",
       "      <td>1.648737e-04</td>\n",
       "      <td>0.000000</td>\n",
       "      <td>0.012839</td>\n",
       "      <td>0.000000</td>\n",
       "      <td>-0.009080</td>\n",
       "      <td>0.009080</td>\n",
       "      <td>4.676670e-03</td>\n",
       "      <td>2</td>\n",
       "    </tr>\n",
       "    <tr>\n",
       "      <th>89</th>\n",
       "      <td>89</td>\n",
       "      <td>9.995672e-01</td>\n",
       "      <td>1.000000</td>\n",
       "      <td>0.020799</td>\n",
       "      <td>0.000000</td>\n",
       "      <td>0.014712</td>\n",
       "      <td>0.014712</td>\n",
       "      <td>4.583503e-06</td>\n",
       "      <td>2</td>\n",
       "    </tr>\n",
       "    <tr>\n",
       "      <th>90</th>\n",
       "      <td>90</td>\n",
       "      <td>9.636866e-02</td>\n",
       "      <td>0.077305</td>\n",
       "      <td>0.295099</td>\n",
       "      <td>0.267078</td>\n",
       "      <td>-0.033849</td>\n",
       "      <td>0.033849</td>\n",
       "      <td>5.217817e-26</td>\n",
       "      <td>2</td>\n",
       "    </tr>\n",
       "    <tr>\n",
       "      <th>93</th>\n",
       "      <td>93</td>\n",
       "      <td>6.535180e-02</td>\n",
       "      <td>0.041012</td>\n",
       "      <td>0.247148</td>\n",
       "      <td>0.198321</td>\n",
       "      <td>-0.054233</td>\n",
       "      <td>0.054233</td>\n",
       "      <td>4.042413e-64</td>\n",
       "      <td>2</td>\n",
       "    </tr>\n",
       "    <tr>\n",
       "      <th>94</th>\n",
       "      <td>94</td>\n",
       "      <td>5.585095e-02</td>\n",
       "      <td>0.000289</td>\n",
       "      <td>0.229636</td>\n",
       "      <td>0.016984</td>\n",
       "      <td>-0.168196</td>\n",
       "      <td>0.168196</td>\n",
       "      <td>0.000000e+00</td>\n",
       "      <td>2</td>\n",
       "    </tr>\n",
       "    <tr>\n",
       "      <th>97</th>\n",
       "      <td>97</td>\n",
       "      <td>2.060921e-05</td>\n",
       "      <td>0.000000</td>\n",
       "      <td>0.004540</td>\n",
       "      <td>0.000000</td>\n",
       "      <td>-0.003210</td>\n",
       "      <td>0.003210</td>\n",
       "      <td>3.173155e-01</td>\n",
       "      <td>2</td>\n",
       "    </tr>\n",
       "    <tr>\n",
       "      <th>98</th>\n",
       "      <td>98</td>\n",
       "      <td>9.408104e-02</td>\n",
       "      <td>0.077305</td>\n",
       "      <td>0.291944</td>\n",
       "      <td>0.267078</td>\n",
       "      <td>-0.029967</td>\n",
       "      <td>0.029967</td>\n",
       "      <td>9.900238e-21</td>\n",
       "      <td>2</td>\n",
       "    </tr>\n",
       "    <tr>\n",
       "      <th>108</th>\n",
       "      <td>108</td>\n",
       "      <td>1.250960e-04</td>\n",
       "      <td>0.000118</td>\n",
       "      <td>0.000419</td>\n",
       "      <td>0.000408</td>\n",
       "      <td>-0.008767</td>\n",
       "      <td>0.008767</td>\n",
       "      <td>6.312788e-03</td>\n",
       "      <td>2</td>\n",
       "    </tr>\n",
       "    <tr>\n",
       "      <th>118</th>\n",
       "      <td>118</td>\n",
       "      <td>1.021598e-01</td>\n",
       "      <td>0.077965</td>\n",
       "      <td>0.302862</td>\n",
       "      <td>0.268119</td>\n",
       "      <td>-0.042259</td>\n",
       "      <td>0.042259</td>\n",
       "      <td>1.302655e-39</td>\n",
       "      <td>2</td>\n",
       "    </tr>\n",
       "    <tr>\n",
       "      <th>121</th>\n",
       "      <td>121</td>\n",
       "      <td>4.253581e-05</td>\n",
       "      <td>0.000000</td>\n",
       "      <td>0.000439</td>\n",
       "      <td>0.000000</td>\n",
       "      <td>-0.068407</td>\n",
       "      <td>0.068407</td>\n",
       "      <td>9.223437e-101</td>\n",
       "      <td>2</td>\n",
       "    </tr>\n",
       "    <tr>\n",
       "      <th>70</th>\n",
       "      <td>70</td>\n",
       "      <td>1.506739e-01</td>\n",
       "      <td>0.000021</td>\n",
       "      <td>0.357734</td>\n",
       "      <td>0.004540</td>\n",
       "      <td>-0.285381</td>\n",
       "      <td>0.285381</td>\n",
       "      <td>0.000000e+00</td>\n",
       "      <td>2</td>\n",
       "    </tr>\n",
       "    <tr>\n",
       "      <th>138</th>\n",
       "      <td>138</td>\n",
       "      <td>5.000078e-01</td>\n",
       "      <td>0.500000</td>\n",
       "      <td>0.001725</td>\n",
       "      <td>0.000000</td>\n",
       "      <td>-0.003210</td>\n",
       "      <td>0.003210</td>\n",
       "      <td>3.173155e-01</td>\n",
       "      <td>2</td>\n",
       "    </tr>\n",
       "    <tr>\n",
       "      <th>126</th>\n",
       "      <td>126</td>\n",
       "      <td>6.633280e-07</td>\n",
       "      <td>0.000000</td>\n",
       "      <td>0.000003</td>\n",
       "      <td>0.000000</td>\n",
       "      <td>-0.148360</td>\n",
       "      <td>0.148360</td>\n",
       "      <td>0.000000e+00</td>\n",
       "      <td>2</td>\n",
       "    </tr>\n",
       "    <tr>\n",
       "      <th>14</th>\n",
       "      <td>14</td>\n",
       "      <td>9.995672e-01</td>\n",
       "      <td>1.000000</td>\n",
       "      <td>0.020799</td>\n",
       "      <td>0.000000</td>\n",
       "      <td>0.014712</td>\n",
       "      <td>0.014712</td>\n",
       "      <td>4.583503e-06</td>\n",
       "      <td>2</td>\n",
       "    </tr>\n",
       "    <tr>\n",
       "      <th>15</th>\n",
       "      <td>15</td>\n",
       "      <td>9.995672e-01</td>\n",
       "      <td>1.000000</td>\n",
       "      <td>0.020799</td>\n",
       "      <td>0.000000</td>\n",
       "      <td>0.014712</td>\n",
       "      <td>0.014712</td>\n",
       "      <td>4.583503e-06</td>\n",
       "      <td>2</td>\n",
       "    </tr>\n",
       "    <tr>\n",
       "      <th>16</th>\n",
       "      <td>16</td>\n",
       "      <td>9.995672e-01</td>\n",
       "      <td>1.000000</td>\n",
       "      <td>0.020799</td>\n",
       "      <td>0.000000</td>\n",
       "      <td>0.014712</td>\n",
       "      <td>0.014712</td>\n",
       "      <td>4.583503e-06</td>\n",
       "      <td>2</td>\n",
       "    </tr>\n",
       "    <tr>\n",
       "      <th>18</th>\n",
       "      <td>18</td>\n",
       "      <td>9.995672e-01</td>\n",
       "      <td>1.000000</td>\n",
       "      <td>0.020799</td>\n",
       "      <td>0.000000</td>\n",
       "      <td>0.014712</td>\n",
       "      <td>0.014712</td>\n",
       "      <td>4.583503e-06</td>\n",
       "      <td>2</td>\n",
       "    </tr>\n",
       "    <tr>\n",
       "      <th>20</th>\n",
       "      <td>20</td>\n",
       "      <td>9.995672e-01</td>\n",
       "      <td>1.000000</td>\n",
       "      <td>0.020799</td>\n",
       "      <td>0.000000</td>\n",
       "      <td>0.014712</td>\n",
       "      <td>0.014712</td>\n",
       "      <td>4.583503e-06</td>\n",
       "      <td>2</td>\n",
       "    </tr>\n",
       "    <tr>\n",
       "      <th>26</th>\n",
       "      <td>26</td>\n",
       "      <td>9.995672e-01</td>\n",
       "      <td>1.000000</td>\n",
       "      <td>0.020799</td>\n",
       "      <td>0.000000</td>\n",
       "      <td>0.014712</td>\n",
       "      <td>0.014712</td>\n",
       "      <td>4.583503e-06</td>\n",
       "      <td>2</td>\n",
       "    </tr>\n",
       "    <tr>\n",
       "      <th>29</th>\n",
       "      <td>29</td>\n",
       "      <td>9.995672e-01</td>\n",
       "      <td>1.000000</td>\n",
       "      <td>0.020799</td>\n",
       "      <td>0.000000</td>\n",
       "      <td>0.014712</td>\n",
       "      <td>0.014712</td>\n",
       "      <td>4.583503e-06</td>\n",
       "      <td>2</td>\n",
       "    </tr>\n",
       "    <tr>\n",
       "      <th>62</th>\n",
       "      <td>62</td>\n",
       "      <td>9.995672e-01</td>\n",
       "      <td>1.000000</td>\n",
       "      <td>0.020799</td>\n",
       "      <td>0.000000</td>\n",
       "      <td>0.014712</td>\n",
       "      <td>0.014712</td>\n",
       "      <td>4.583503e-06</td>\n",
       "      <td>2</td>\n",
       "    </tr>\n",
       "    <tr>\n",
       "      <th>130</th>\n",
       "      <td>130</td>\n",
       "      <td>4.307325e-02</td>\n",
       "      <td>0.000000</td>\n",
       "      <td>0.203024</td>\n",
       "      <td>0.000000</td>\n",
       "      <td>-0.148360</td>\n",
       "      <td>0.148360</td>\n",
       "      <td>0.000000e+00</td>\n",
       "      <td>2</td>\n",
       "    </tr>\n",
       "    <tr>\n",
       "      <th>51</th>\n",
       "      <td>51</td>\n",
       "      <td>5.964099e-01</td>\n",
       "      <td>0.000021</td>\n",
       "      <td>0.490622</td>\n",
       "      <td>0.004540</td>\n",
       "      <td>-0.651828</td>\n",
       "      <td>0.651828</td>\n",
       "      <td>0.000000e+00</td>\n",
       "      <td>2</td>\n",
       "    </tr>\n",
       "    <tr>\n",
       "      <th>43</th>\n",
       "      <td>43</td>\n",
       "      <td>9.995672e-01</td>\n",
       "      <td>1.000000</td>\n",
       "      <td>0.020799</td>\n",
       "      <td>0.000000</td>\n",
       "      <td>0.014712</td>\n",
       "      <td>0.014712</td>\n",
       "      <td>4.583503e-06</td>\n",
       "      <td>2</td>\n",
       "    </tr>\n",
       "    <tr>\n",
       "      <th>123</th>\n",
       "      <td>123</td>\n",
       "      <td>1.236552e-03</td>\n",
       "      <td>0.000000</td>\n",
       "      <td>0.035143</td>\n",
       "      <td>0.000000</td>\n",
       "      <td>-0.024873</td>\n",
       "      <td>0.024873</td>\n",
       "      <td>9.317263e-15</td>\n",
       "      <td>2</td>\n",
       "    </tr>\n",
       "    <tr>\n",
       "      <th>50</th>\n",
       "      <td>50</td>\n",
       "      <td>4.031573e-01</td>\n",
       "      <td>0.999979</td>\n",
       "      <td>0.490537</td>\n",
       "      <td>0.004540</td>\n",
       "      <td>0.652165</td>\n",
       "      <td>0.652165</td>\n",
       "      <td>0.000000e+00</td>\n",
       "      <td>2</td>\n",
       "    </tr>\n",
       "    <tr>\n",
       "      <th>52</th>\n",
       "      <td>52</td>\n",
       "      <td>9.995672e-01</td>\n",
       "      <td>1.000000</td>\n",
       "      <td>0.020799</td>\n",
       "      <td>0.000000</td>\n",
       "      <td>0.014712</td>\n",
       "      <td>0.014712</td>\n",
       "      <td>4.583503e-06</td>\n",
       "      <td>2</td>\n",
       "    </tr>\n",
       "    <tr>\n",
       "      <th>105</th>\n",
       "      <td>105</td>\n",
       "      <td>2.060921e-05</td>\n",
       "      <td>0.000000</td>\n",
       "      <td>0.002780</td>\n",
       "      <td>0.000000</td>\n",
       "      <td>-0.005242</td>\n",
       "      <td>0.005242</td>\n",
       "      <td>1.024710e-01</td>\n",
       "      <td>3</td>\n",
       "    </tr>\n",
       "    <tr>\n",
       "      <th>145</th>\n",
       "      <td>145</td>\n",
       "      <td>5.687225e-02</td>\n",
       "      <td>0.000000</td>\n",
       "      <td>0.079131</td>\n",
       "      <td>0.000000</td>\n",
       "      <td>-0.453058</td>\n",
       "      <td>0.453058</td>\n",
       "      <td>0.000000e+00</td>\n",
       "      <td>3</td>\n",
       "    </tr>\n",
       "    <tr>\n",
       "      <th>127</th>\n",
       "      <td>127</td>\n",
       "      <td>3.379894e-04</td>\n",
       "      <td>0.000000</td>\n",
       "      <td>0.001593</td>\n",
       "      <td>0.000000</td>\n",
       "      <td>-0.148324</td>\n",
       "      <td>0.148324</td>\n",
       "      <td>0.000000e+00</td>\n",
       "      <td>3</td>\n",
       "    </tr>\n",
       "  </tbody>\n",
       "</table>\n",
       "</div>"
      ],
      "text/plain": [
       "    factor           mu0       mu1    sigma0    sigma1       rho    absrho  \\\n",
       "129    129  6.805573e-07  0.000000  0.000003  0.000000 -0.148360  0.148360   \n",
       "106    106  1.482495e-03  0.000018  0.035814  0.003934 -0.028733  0.028733   \n",
       "71      71  4.843164e-03  0.676456  0.069425  0.467833  0.708561  0.708561   \n",
       "72      72  1.978484e-03  0.000082  0.044437  0.009079 -0.029548  0.029548   \n",
       "73      73  4.862330e-01  0.921870  0.499816  0.268378  0.477183  0.477183   \n",
       "113    113  2.649747e-05  0.000000  0.003370  0.000000 -0.005560  0.005560   \n",
       "111    111  3.297473e-04  0.000577  0.018156  0.024015  0.005809  0.005809   \n",
       "133    133  2.060921e-05  0.000000  0.004540  0.000000 -0.003210  0.003210   \n",
       "83      83  4.121842e-05  0.000000  0.006420  0.000000 -0.004540  0.004540   \n",
       "84      84  1.236552e-04  0.000000  0.011119  0.000000 -0.007863  0.007863   \n",
       "86      86  1.648737e-04  0.000000  0.012839  0.000000 -0.009080  0.009080   \n",
       "89      89  9.995672e-01  1.000000  0.020799  0.000000  0.014712  0.014712   \n",
       "90      90  9.636866e-02  0.077305  0.295099  0.267078 -0.033849  0.033849   \n",
       "93      93  6.535180e-02  0.041012  0.247148  0.198321 -0.054233  0.054233   \n",
       "94      94  5.585095e-02  0.000289  0.229636  0.016984 -0.168196  0.168196   \n",
       "97      97  2.060921e-05  0.000000  0.004540  0.000000 -0.003210  0.003210   \n",
       "98      98  9.408104e-02  0.077305  0.291944  0.267078 -0.029967  0.029967   \n",
       "108    108  1.250960e-04  0.000118  0.000419  0.000408 -0.008767  0.008767   \n",
       "118    118  1.021598e-01  0.077965  0.302862  0.268119 -0.042259  0.042259   \n",
       "121    121  4.253581e-05  0.000000  0.000439  0.000000 -0.068407  0.068407   \n",
       "70      70  1.506739e-01  0.000021  0.357734  0.004540 -0.285381  0.285381   \n",
       "138    138  5.000078e-01  0.500000  0.001725  0.000000 -0.003210  0.003210   \n",
       "126    126  6.633280e-07  0.000000  0.000003  0.000000 -0.148360  0.148360   \n",
       "14      14  9.995672e-01  1.000000  0.020799  0.000000  0.014712  0.014712   \n",
       "15      15  9.995672e-01  1.000000  0.020799  0.000000  0.014712  0.014712   \n",
       "16      16  9.995672e-01  1.000000  0.020799  0.000000  0.014712  0.014712   \n",
       "18      18  9.995672e-01  1.000000  0.020799  0.000000  0.014712  0.014712   \n",
       "20      20  9.995672e-01  1.000000  0.020799  0.000000  0.014712  0.014712   \n",
       "26      26  9.995672e-01  1.000000  0.020799  0.000000  0.014712  0.014712   \n",
       "29      29  9.995672e-01  1.000000  0.020799  0.000000  0.014712  0.014712   \n",
       "62      62  9.995672e-01  1.000000  0.020799  0.000000  0.014712  0.014712   \n",
       "130    130  4.307325e-02  0.000000  0.203024  0.000000 -0.148360  0.148360   \n",
       "51      51  5.964099e-01  0.000021  0.490622  0.004540 -0.651828  0.651828   \n",
       "43      43  9.995672e-01  1.000000  0.020799  0.000000  0.014712  0.014712   \n",
       "123    123  1.236552e-03  0.000000  0.035143  0.000000 -0.024873  0.024873   \n",
       "50      50  4.031573e-01  0.999979  0.490537  0.004540  0.652165  0.652165   \n",
       "52      52  9.995672e-01  1.000000  0.020799  0.000000  0.014712  0.014712   \n",
       "105    105  2.060921e-05  0.000000  0.002780  0.000000 -0.005242  0.005242   \n",
       "145    145  5.687225e-02  0.000000  0.079131  0.000000 -0.453058  0.453058   \n",
       "127    127  3.379894e-04  0.000000  0.001593  0.000000 -0.148324  0.148324   \n",
       "\n",
       "          t-test p  vals  \n",
       "129   0.000000e+00     2  \n",
       "106   3.530465e-19     2  \n",
       "71    0.000000e+00     2  \n",
       "72    3.419408e-20     2  \n",
       "73    0.000000e+00     2  \n",
       "113   8.326452e-02     2  \n",
       "111   7.037820e-02     2  \n",
       "133   3.173155e-01     2  \n",
       "83    1.573013e-01     2  \n",
       "84    1.430437e-02     2  \n",
       "86    4.676670e-03     2  \n",
       "89    4.583503e-06     2  \n",
       "90    5.217817e-26     2  \n",
       "93    4.042413e-64     2  \n",
       "94    0.000000e+00     2  \n",
       "97    3.173155e-01     2  \n",
       "98    9.900238e-21     2  \n",
       "108   6.312788e-03     2  \n",
       "118   1.302655e-39     2  \n",
       "121  9.223437e-101     2  \n",
       "70    0.000000e+00     2  \n",
       "138   3.173155e-01     2  \n",
       "126   0.000000e+00     2  \n",
       "14    4.583503e-06     2  \n",
       "15    4.583503e-06     2  \n",
       "16    4.583503e-06     2  \n",
       "18    4.583503e-06     2  \n",
       "20    4.583503e-06     2  \n",
       "26    4.583503e-06     2  \n",
       "29    4.583503e-06     2  \n",
       "62    4.583503e-06     2  \n",
       "130   0.000000e+00     2  \n",
       "51    0.000000e+00     2  \n",
       "43    4.583503e-06     2  \n",
       "123   9.317263e-15     2  \n",
       "50    0.000000e+00     2  \n",
       "52    4.583503e-06     2  \n",
       "105   1.024710e-01     3  \n",
       "145   0.000000e+00     3  \n",
       "127   0.000000e+00     3  "
      ]
     },
     "execution_count": 64,
     "metadata": {},
     "output_type": "execute_result"
    }
   ],
   "source": [
    "features.sort_values(by=\"vals\").head(40)"
   ]
  },
  {
   "cell_type": "markdown",
   "metadata": {},
   "source": [
    "There are a quite a few 2-value features, it might be worth looking at what proportion of the values for a feature are non-zero overall, and under each class"
   ]
  },
  {
   "cell_type": "code",
   "execution_count": 78,
   "metadata": {},
   "outputs": [],
   "source": [
    "l = len(trainX)\n",
    "l0 = len(trainX0)\n",
    "l1 = len(trainX1)\n",
    "features[\"nonzero\"] = features.feature.apply(lambda f: len(trainX.loc[trainX[f]!=0])/l)\n",
    "features[\"nonzero0\"] = features.feature.apply(lambda f: len(trainX0.loc[trainX0[f]!=0])/l0)\n",
    "features[\"nonzero1\"] = features.feature.apply(lambda f: len(trainX1.loc[trainX1[f]!=0])/l1)"
   ]
  },
  {
   "cell_type": "code",
   "execution_count": 82,
   "metadata": {
    "scrolled": false
   },
   "outputs": [
    {
     "data": {
      "text/html": [
       "<div>\n",
       "<style scoped>\n",
       "    .dataframe tbody tr th:only-of-type {\n",
       "        vertical-align: middle;\n",
       "    }\n",
       "\n",
       "    .dataframe tbody tr th {\n",
       "        vertical-align: top;\n",
       "    }\n",
       "\n",
       "    .dataframe thead th {\n",
       "        text-align: right;\n",
       "    }\n",
       "</style>\n",
       "<table border=\"1\" class=\"dataframe\">\n",
       "  <thead>\n",
       "    <tr style=\"text-align: right;\">\n",
       "      <th></th>\n",
       "      <th>factor</th>\n",
       "      <th>mu0</th>\n",
       "      <th>mu1</th>\n",
       "      <th>sigma0</th>\n",
       "      <th>sigma1</th>\n",
       "      <th>rho</th>\n",
       "      <th>absrho</th>\n",
       "      <th>t-test p</th>\n",
       "      <th>vals</th>\n",
       "      <th>nonzero</th>\n",
       "      <th>nonzero0</th>\n",
       "      <th>nonzero1</th>\n",
       "    </tr>\n",
       "  </thead>\n",
       "  <tbody>\n",
       "    <tr>\n",
       "      <th>97</th>\n",
       "      <td>97</td>\n",
       "      <td>0.000021</td>\n",
       "      <td>0.000000</td>\n",
       "      <td>0.004540</td>\n",
       "      <td>0.000000</td>\n",
       "      <td>-0.003210</td>\n",
       "      <td>0.003210</td>\n",
       "      <td>3.173155e-01</td>\n",
       "      <td>2</td>\n",
       "      <td>0.000010</td>\n",
       "      <td>0.000021</td>\n",
       "      <td>0.000000</td>\n",
       "    </tr>\n",
       "    <tr>\n",
       "      <th>133</th>\n",
       "      <td>133</td>\n",
       "      <td>0.000021</td>\n",
       "      <td>0.000000</td>\n",
       "      <td>0.004540</td>\n",
       "      <td>0.000000</td>\n",
       "      <td>-0.003210</td>\n",
       "      <td>0.003210</td>\n",
       "      <td>3.173155e-01</td>\n",
       "      <td>2</td>\n",
       "      <td>0.000010</td>\n",
       "      <td>0.000021</td>\n",
       "      <td>0.000000</td>\n",
       "    </tr>\n",
       "    <tr>\n",
       "      <th>83</th>\n",
       "      <td>83</td>\n",
       "      <td>0.000041</td>\n",
       "      <td>0.000000</td>\n",
       "      <td>0.006420</td>\n",
       "      <td>0.000000</td>\n",
       "      <td>-0.004540</td>\n",
       "      <td>0.004540</td>\n",
       "      <td>1.573013e-01</td>\n",
       "      <td>2</td>\n",
       "      <td>0.000021</td>\n",
       "      <td>0.000041</td>\n",
       "      <td>0.000000</td>\n",
       "    </tr>\n",
       "    <tr>\n",
       "      <th>105</th>\n",
       "      <td>105</td>\n",
       "      <td>0.000021</td>\n",
       "      <td>0.000000</td>\n",
       "      <td>0.002780</td>\n",
       "      <td>0.000000</td>\n",
       "      <td>-0.005242</td>\n",
       "      <td>0.005242</td>\n",
       "      <td>1.024710e-01</td>\n",
       "      <td>3</td>\n",
       "      <td>0.000031</td>\n",
       "      <td>0.000062</td>\n",
       "      <td>0.000000</td>\n",
       "    </tr>\n",
       "    <tr>\n",
       "      <th>113</th>\n",
       "      <td>113</td>\n",
       "      <td>0.000026</td>\n",
       "      <td>0.000000</td>\n",
       "      <td>0.003370</td>\n",
       "      <td>0.000000</td>\n",
       "      <td>-0.005560</td>\n",
       "      <td>0.005560</td>\n",
       "      <td>8.326452e-02</td>\n",
       "      <td>2</td>\n",
       "      <td>0.000031</td>\n",
       "      <td>0.000062</td>\n",
       "      <td>0.000000</td>\n",
       "    </tr>\n",
       "    <tr>\n",
       "      <th>88</th>\n",
       "      <td>88</td>\n",
       "      <td>0.000029</td>\n",
       "      <td>0.000000</td>\n",
       "      <td>0.003466</td>\n",
       "      <td>0.000000</td>\n",
       "      <td>-0.005912</td>\n",
       "      <td>0.005912</td>\n",
       "      <td>6.551449e-02</td>\n",
       "      <td>4</td>\n",
       "      <td>0.000062</td>\n",
       "      <td>0.000124</td>\n",
       "      <td>0.000000</td>\n",
       "    </tr>\n",
       "    <tr>\n",
       "      <th>84</th>\n",
       "      <td>84</td>\n",
       "      <td>0.000124</td>\n",
       "      <td>0.000000</td>\n",
       "      <td>0.011119</td>\n",
       "      <td>0.000000</td>\n",
       "      <td>-0.007863</td>\n",
       "      <td>0.007863</td>\n",
       "      <td>1.430437e-02</td>\n",
       "      <td>2</td>\n",
       "      <td>0.000062</td>\n",
       "      <td>0.000124</td>\n",
       "      <td>0.000000</td>\n",
       "    </tr>\n",
       "    <tr>\n",
       "      <th>86</th>\n",
       "      <td>86</td>\n",
       "      <td>0.000165</td>\n",
       "      <td>0.000000</td>\n",
       "      <td>0.012839</td>\n",
       "      <td>0.000000</td>\n",
       "      <td>-0.009080</td>\n",
       "      <td>0.009080</td>\n",
       "      <td>4.676670e-03</td>\n",
       "      <td>2</td>\n",
       "      <td>0.000082</td>\n",
       "      <td>0.000165</td>\n",
       "      <td>0.000000</td>\n",
       "    </tr>\n",
       "    <tr>\n",
       "      <th>117</th>\n",
       "      <td>117</td>\n",
       "      <td>0.000013</td>\n",
       "      <td>0.000000</td>\n",
       "      <td>0.001288</td>\n",
       "      <td>0.000000</td>\n",
       "      <td>-0.007129</td>\n",
       "      <td>0.007129</td>\n",
       "      <td>2.637066e-02</td>\n",
       "      <td>6</td>\n",
       "      <td>0.000082</td>\n",
       "      <td>0.000165</td>\n",
       "      <td>0.000000</td>\n",
       "    </tr>\n",
       "    <tr>\n",
       "      <th>111</th>\n",
       "      <td>111</td>\n",
       "      <td>0.000330</td>\n",
       "      <td>0.000577</td>\n",
       "      <td>0.018156</td>\n",
       "      <td>0.024015</td>\n",
       "      <td>0.005809</td>\n",
       "      <td>0.005809</td>\n",
       "      <td>7.037820e-02</td>\n",
       "      <td>2</td>\n",
       "      <td>0.000453</td>\n",
       "      <td>0.000330</td>\n",
       "      <td>0.000577</td>\n",
       "    </tr>\n",
       "    <tr>\n",
       "      <th>123</th>\n",
       "      <td>123</td>\n",
       "      <td>0.001237</td>\n",
       "      <td>0.000000</td>\n",
       "      <td>0.035143</td>\n",
       "      <td>0.000000</td>\n",
       "      <td>-0.024873</td>\n",
       "      <td>0.024873</td>\n",
       "      <td>9.317263e-15</td>\n",
       "      <td>2</td>\n",
       "      <td>0.000618</td>\n",
       "      <td>0.001237</td>\n",
       "      <td>0.000000</td>\n",
       "    </tr>\n",
       "    <tr>\n",
       "      <th>144</th>\n",
       "      <td>144</td>\n",
       "      <td>0.000693</td>\n",
       "      <td>0.000000</td>\n",
       "      <td>0.018810</td>\n",
       "      <td>0.000000</td>\n",
       "      <td>-0.026030</td>\n",
       "      <td>0.026030</td>\n",
       "      <td>5.116166e-16</td>\n",
       "      <td>75</td>\n",
       "      <td>0.000824</td>\n",
       "      <td>0.001649</td>\n",
       "      <td>0.000000</td>\n",
       "    </tr>\n",
       "    <tr>\n",
       "      <th>106</th>\n",
       "      <td>106</td>\n",
       "      <td>0.001482</td>\n",
       "      <td>0.000018</td>\n",
       "      <td>0.035814</td>\n",
       "      <td>0.003934</td>\n",
       "      <td>-0.028733</td>\n",
       "      <td>0.028733</td>\n",
       "      <td>3.530465e-19</td>\n",
       "      <td>2</td>\n",
       "      <td>0.000866</td>\n",
       "      <td>0.001711</td>\n",
       "      <td>0.000021</td>\n",
       "    </tr>\n",
       "  </tbody>\n",
       "</table>\n",
       "</div>"
      ],
      "text/plain": [
       "    factor       mu0       mu1    sigma0    sigma1       rho    absrho  \\\n",
       "97      97  0.000021  0.000000  0.004540  0.000000 -0.003210  0.003210   \n",
       "133    133  0.000021  0.000000  0.004540  0.000000 -0.003210  0.003210   \n",
       "83      83  0.000041  0.000000  0.006420  0.000000 -0.004540  0.004540   \n",
       "105    105  0.000021  0.000000  0.002780  0.000000 -0.005242  0.005242   \n",
       "113    113  0.000026  0.000000  0.003370  0.000000 -0.005560  0.005560   \n",
       "88      88  0.000029  0.000000  0.003466  0.000000 -0.005912  0.005912   \n",
       "84      84  0.000124  0.000000  0.011119  0.000000 -0.007863  0.007863   \n",
       "86      86  0.000165  0.000000  0.012839  0.000000 -0.009080  0.009080   \n",
       "117    117  0.000013  0.000000  0.001288  0.000000 -0.007129  0.007129   \n",
       "111    111  0.000330  0.000577  0.018156  0.024015  0.005809  0.005809   \n",
       "123    123  0.001237  0.000000  0.035143  0.000000 -0.024873  0.024873   \n",
       "144    144  0.000693  0.000000  0.018810  0.000000 -0.026030  0.026030   \n",
       "106    106  0.001482  0.000018  0.035814  0.003934 -0.028733  0.028733   \n",
       "\n",
       "         t-test p  vals   nonzero  nonzero0  nonzero1  \n",
       "97   3.173155e-01     2  0.000010  0.000021  0.000000  \n",
       "133  3.173155e-01     2  0.000010  0.000021  0.000000  \n",
       "83   1.573013e-01     2  0.000021  0.000041  0.000000  \n",
       "105  1.024710e-01     3  0.000031  0.000062  0.000000  \n",
       "113  8.326452e-02     2  0.000031  0.000062  0.000000  \n",
       "88   6.551449e-02     4  0.000062  0.000124  0.000000  \n",
       "84   1.430437e-02     2  0.000062  0.000124  0.000000  \n",
       "86   4.676670e-03     2  0.000082  0.000165  0.000000  \n",
       "117  2.637066e-02     6  0.000082  0.000165  0.000000  \n",
       "111  7.037820e-02     2  0.000453  0.000330  0.000577  \n",
       "123  9.317263e-15     2  0.000618  0.001237  0.000000  \n",
       "144  5.116166e-16    75  0.000824  0.001649  0.000000  \n",
       "106  3.530465e-19     2  0.000866  0.001711  0.000021  "
      ]
     },
     "execution_count": 82,
     "metadata": {},
     "output_type": "execute_result"
    }
   ],
   "source": [
    "features.sort_values(by=\"nonzero\").loc[features[\"nonzero\"]<0.001]"
   ]
  },
  {
   "cell_type": "markdown",
   "metadata": {},
   "source": [
    "These features are extremely sparse, so may be noise."
   ]
  },
  {
   "cell_type": "markdown",
   "metadata": {},
   "source": [
    "Which features have good distribution, some correlation, and low p value?"
   ]
  },
  {
   "cell_type": "code",
   "execution_count": 168,
   "metadata": {
    "scrolled": true
   },
   "outputs": [
    {
     "data": {
      "text/plain": [
       "array(['8', '9', '38', '47', '50', '51', '66', '67', '68', '70', '71',\n",
       "       '73', '75', '77', '82', '110', '145', '146', '154'], dtype=object)"
      ]
     },
     "execution_count": 168,
     "metadata": {},
     "output_type": "execute_result"
    }
   ],
   "source": [
    "features.loc[(features[\"nonzero\"]>0.01) & (features[\"absrho\"]>0.2) & (features[\"t-test p\"]<0.01)].feature.values\n"
   ]
  },
  {
   "cell_type": "markdown",
   "metadata": {},
   "source": [
    "Parameterise this for ease of comparison later:"
   ]
  },
  {
   "cell_type": "code",
   "execution_count": 166,
   "metadata": {},
   "outputs": [],
   "source": [
    "def feature_select(nonzero=0, absrho=0, ttestp=1):\n",
    "    return features.loc[(features[\"nonzero\"]>=nonzero) & (features[\"absrho\"]>=absrho) & (features[\"t-test p\"]<=ttestp)].feature.values"
   ]
  },
  {
   "cell_type": "code",
   "execution_count": 169,
   "metadata": {},
   "outputs": [
    {
     "data": {
      "text/plain": [
       "array(['8', '9', '38', '47', '50', '51', '66', '67', '68', '70', '71',\n",
       "       '73', '75', '77', '82', '110', '145', '146', '154'], dtype=object)"
      ]
     },
     "execution_count": 169,
     "metadata": {},
     "output_type": "execute_result"
    }
   ],
   "source": [
    "feature_set1 = feature_select(nonzero=0.01, absrho=0.2, ttestp=0.01)\n",
    "feature_set1"
   ]
  },
  {
   "cell_type": "markdown",
   "metadata": {},
   "source": [
    "## baselining with logistic regression"
   ]
  },
  {
   "cell_type": "markdown",
   "metadata": {},
   "source": [
    "Try this set of features in a logistic regression to get a baseline metric for evaluation.\n",
    "\n",
    "Need to consider what is the most appropriate metric.\n",
    "\n",
    "Is it more important to detect as many instrusions as possible (recall) or minimise false alarms (precision), or a balance like f1?"
   ]
  },
  {
   "cell_type": "code",
   "execution_count": 136,
   "metadata": {},
   "outputs": [],
   "source": [
    "from sklearn.linear_model import LogisticRegression\n",
    "from sklearn.model_selection import train_test_split\n",
    "from sklearn.metrics import confusion_matrix, f1_score, recall_score, precision_score"
   ]
  },
  {
   "cell_type": "markdown",
   "metadata": {},
   "source": [
    "Split the training data 60/40 into training and validation data"
   ]
  },
  {
   "cell_type": "code",
   "execution_count": 170,
   "metadata": {},
   "outputs": [],
   "source": [
    "X_train, X_test, Y_train, Y_test = train_test_split(trainX[feature_set1], trainY, test_size=0.4)"
   ]
  },
  {
   "cell_type": "code",
   "execution_count": 245,
   "metadata": {},
   "outputs": [
    {
     "name": "stderr",
     "output_type": "stream",
     "text": [
      "/home/ian/jupyter/env3.6/lib/python3.6/site-packages/sklearn/linear_model/sag.py:337: ConvergenceWarning: The max_iter was reached which means the coef_ did not converge\n",
      "  \"the coef_ did not converge\", ConvergenceWarning)\n"
     ]
    }
   ],
   "source": [
    "# no regularisation at this point\n",
    "lr = LogisticRegression(solver=\"sag\", penalty='none').fit(X_train,Y_train)"
   ]
  },
  {
   "cell_type": "code",
   "execution_count": 176,
   "metadata": {
    "scrolled": true
   },
   "outputs": [
    {
     "data": {
      "text/plain": [
       "array([[18853,   461],\n",
       "       [  172, 19332]])"
      ]
     },
     "execution_count": 176,
     "metadata": {},
     "output_type": "execute_result"
    }
   ],
   "source": [
    "confusion_matrix(Y_test,lr.predict(X_test))"
   ]
  },
  {
   "cell_type": "code",
   "execution_count": 210,
   "metadata": {},
   "outputs": [],
   "source": [
    "def evaluate(model, ytest, xtest):\n",
    "    pred = model.predict(xtest)\n",
    "    p = precision_score(ytest,pred)\n",
    "    r = recall_score(ytest,pred)\n",
    "    f = f1_score(ytest,pred)\n",
    "    return p,r,f"
   ]
  },
  {
   "cell_type": "code",
   "execution_count": 206,
   "metadata": {},
   "outputs": [
    {
     "name": "stdout",
     "output_type": "stream",
     "text": [
      "(0.9767089375031577, 0.9911812961443807, 0.9838919001450492, 1)\n"
     ]
    }
   ],
   "source": [
    "print(evaluate(lr, Y_test, X_test))"
   ]
  },
  {
   "cell_type": "code",
   "execution_count": 212,
   "metadata": {},
   "outputs": [],
   "source": [
    "def thresholds_to_metrics(nonzero=0, absrho=0, ttestp=1):\n",
    "    selection = feature_select(nonzero=nonzero, absrho=absrho, ttestp=ttestp)\n",
    "    X_train, X_test, Y_train, Y_test = train_test_split(trainX[selection], trainY, test_size=0.4)\n",
    "    lr = LogisticRegression(solver=\"sag\", penalty='none').fit(X_train,Y_train)\n",
    "    p,r,f = evaluate(lr, Y_test, X_test)\n",
    "    return p,r,f,len(selection)"
   ]
  },
  {
   "cell_type": "code",
   "execution_count": 213,
   "metadata": {
    "scrolled": false
   },
   "outputs": [
    {
     "name": "stderr",
     "output_type": "stream",
     "text": [
      "/home/ian/jupyter/env3.6/lib/python3.6/site-packages/sklearn/linear_model/sag.py:337: ConvergenceWarning: The max_iter was reached which means the coef_ did not converge\n",
      "  \"the coef_ did not converge\", ConvergenceWarning)\n"
     ]
    },
    {
     "data": {
      "text/plain": [
       "(0.9918225493202494, 0.9979943430187709, 0.9948988746763733, 78)"
      ]
     },
     "execution_count": 213,
     "metadata": {},
     "output_type": "execute_result"
    }
   ],
   "source": [
    "# no feature selection\n",
    "thresholds_to_metrics()"
   ]
  },
  {
   "cell_type": "code",
   "execution_count": 185,
   "metadata": {},
   "outputs": [],
   "source": [
    "import matplotlib.pyplot as plt"
   ]
  },
  {
   "cell_type": "markdown",
   "metadata": {},
   "source": [
    "Feature selection by p-value"
   ]
  },
  {
   "cell_type": "code",
   "execution_count": 191,
   "metadata": {},
   "outputs": [
    {
     "name": "stderr",
     "output_type": "stream",
     "text": [
      "/home/ian/jupyter/env3.6/lib/python3.6/site-packages/sklearn/linear_model/sag.py:337: ConvergenceWarning: The max_iter was reached which means the coef_ did not converge\n",
      "  \"the coef_ did not converge\", ConvergenceWarning)\n",
      "/home/ian/jupyter/env3.6/lib/python3.6/site-packages/sklearn/linear_model/sag.py:337: ConvergenceWarning: The max_iter was reached which means the coef_ did not converge\n",
      "  \"the coef_ did not converge\", ConvergenceWarning)\n",
      "/home/ian/jupyter/env3.6/lib/python3.6/site-packages/sklearn/linear_model/sag.py:337: ConvergenceWarning: The max_iter was reached which means the coef_ did not converge\n",
      "  \"the coef_ did not converge\", ConvergenceWarning)\n",
      "/home/ian/jupyter/env3.6/lib/python3.6/site-packages/sklearn/linear_model/sag.py:337: ConvergenceWarning: The max_iter was reached which means the coef_ did not converge\n",
      "  \"the coef_ did not converge\", ConvergenceWarning)\n"
     ]
    },
    {
     "data": {
      "text/plain": [
       "[<matplotlib.lines.Line2D at 0x7f7159d42208>]"
      ]
     },
     "execution_count": 191,
     "metadata": {},
     "output_type": "execute_result"
    },
    {
     "data": {
      "image/png": "[encoded data removed]",
      "text/plain": [
       "<Figure size 1152x288 with 1 Axes>"
      ]
     },
     "metadata": {
      "needs_background": "light"
     },
     "output_type": "display_data"
    }
   ],
   "source": [
    "fig, ax = plt.subplots(figsize=(16,4))\n",
    "ps = [0.2, 0.1, 0.005, 0.001]\n",
    "ss = [thresholds_to_metrics(ttestp=p)[1] for p in ps]\n",
    "ax.set_xticks(ps)\n",
    "ax.plot(ps,ss)"
   ]
  },
  {
   "cell_type": "markdown",
   "metadata": {},
   "source": [
    "By rho:"
   ]
  },
  {
   "cell_type": "code",
   "execution_count": 192,
   "metadata": {},
   "outputs": [
    {
     "name": "stderr",
     "output_type": "stream",
     "text": [
      "/home/ian/jupyter/env3.6/lib/python3.6/site-packages/sklearn/linear_model/sag.py:337: ConvergenceWarning: The max_iter was reached which means the coef_ did not converge\n",
      "  \"the coef_ did not converge\", ConvergenceWarning)\n",
      "/home/ian/jupyter/env3.6/lib/python3.6/site-packages/sklearn/linear_model/sag.py:337: ConvergenceWarning: The max_iter was reached which means the coef_ did not converge\n",
      "  \"the coef_ did not converge\", ConvergenceWarning)\n",
      "/home/ian/jupyter/env3.6/lib/python3.6/site-packages/sklearn/linear_model/sag.py:337: ConvergenceWarning: The max_iter was reached which means the coef_ did not converge\n",
      "  \"the coef_ did not converge\", ConvergenceWarning)\n"
     ]
    },
    {
     "data": {
      "text/plain": [
       "[<matplotlib.lines.Line2D at 0x7f7159d09e48>]"
      ]
     },
     "execution_count": 192,
     "metadata": {},
     "output_type": "execute_result"
    },
    {
     "data": {
      "image/png": "[encoded data removed]",
      "text/plain": [
       "<Figure size 1152x288 with 1 Axes>"
      ]
     },
     "metadata": {
      "needs_background": "light"
     },
     "output_type": "display_data"
    }
   ],
   "source": [
    "fig, ax = plt.subplots(figsize=(16,4))\n",
    "rs = [0.1, 0.3, 0.5, 0.7]\n",
    "ss = [thresholds_to_metrics(absrho=r)[1] for r in rs]\n",
    "ax.set_xticks(rs)\n",
    "ax.plot(rs,ss)"
   ]
  },
  {
   "cell_type": "markdown",
   "metadata": {},
   "source": [
    "Proportion of nonzero values"
   ]
  },
  {
   "cell_type": "code",
   "execution_count": 193,
   "metadata": {},
   "outputs": [
    {
     "name": "stderr",
     "output_type": "stream",
     "text": [
      "/home/ian/jupyter/env3.6/lib/python3.6/site-packages/sklearn/linear_model/sag.py:337: ConvergenceWarning: The max_iter was reached which means the coef_ did not converge\n",
      "  \"the coef_ did not converge\", ConvergenceWarning)\n",
      "/home/ian/jupyter/env3.6/lib/python3.6/site-packages/sklearn/linear_model/sag.py:337: ConvergenceWarning: The max_iter was reached which means the coef_ did not converge\n",
      "  \"the coef_ did not converge\", ConvergenceWarning)\n",
      "/home/ian/jupyter/env3.6/lib/python3.6/site-packages/sklearn/linear_model/sag.py:337: ConvergenceWarning: The max_iter was reached which means the coef_ did not converge\n",
      "  \"the coef_ did not converge\", ConvergenceWarning)\n",
      "/home/ian/jupyter/env3.6/lib/python3.6/site-packages/sklearn/linear_model/sag.py:337: ConvergenceWarning: The max_iter was reached which means the coef_ did not converge\n",
      "  \"the coef_ did not converge\", ConvergenceWarning)\n"
     ]
    },
    {
     "data": {
      "text/plain": [
       "[<matplotlib.lines.Line2D at 0x7f7159d0de10>]"
      ]
     },
     "execution_count": 193,
     "metadata": {},
     "output_type": "execute_result"
    },
    {
     "data": {
      "image/png": "[encoded data removed]",
      "text/plain": [
       "<Figure size 1152x288 with 1 Axes>"
      ]
     },
     "metadata": {
      "needs_background": "light"
     },
     "output_type": "display_data"
    }
   ],
   "source": [
    "fig, ax = plt.subplots(figsize=(16,4))\n",
    "ns = [0.001, 0.01, 0.1, 0.3]\n",
    "ss = [thresholds_to_metrics(nonzero=n)[1] for n in ns]\n",
    "ax.set_xticks(ns)\n",
    "ax.plot(ns,ss)"
   ]
  },
  {
   "cell_type": "code",
   "execution_count": 214,
   "metadata": {},
   "outputs": [
    {
     "name": "stderr",
     "output_type": "stream",
     "text": [
      "/home/ian/jupyter/env3.6/lib/python3.6/site-packages/sklearn/linear_model/sag.py:337: ConvergenceWarning: The max_iter was reached which means the coef_ did not converge\n",
      "  \"the coef_ did not converge\", ConvergenceWarning)\n"
     ]
    },
    {
     "data": {
      "text/plain": [
       "(0.9884593780319665, 0.9977835051546392, 0.9930995562168125, 31)"
      ]
     },
     "execution_count": 214,
     "metadata": {},
     "output_type": "execute_result"
    }
   ],
   "source": [
    "thresholds_to_metrics(nonzero=0.01,absrho=0.1,ttestp=0.001)"
   ]
  },
  {
   "cell_type": "markdown",
   "metadata": {},
   "source": [
    "That's 99.8% recall from 31 features"
   ]
  },
  {
   "cell_type": "markdown",
   "metadata": {},
   "source": [
    "Could look at size of coefficients as an indicator of importance..? Maybe something to pursue. Or could use random forest to get relative importances."
   ]
  },
  {
   "cell_type": "markdown",
   "metadata": {},
   "source": [
    "## PCA"
   ]
  },
  {
   "cell_type": "markdown",
   "metadata": {},
   "source": [
    "Looks like some features are highly correlated, so perhaps PCA or clustering on features first."
   ]
  },
  {
   "cell_type": "code",
   "execution_count": 215,
   "metadata": {
    "scrolled": true
   },
   "outputs": [
    {
     "name": "stderr",
     "output_type": "stream",
     "text": [
      "/home/ian/jupyter/env3.6/lib/python3.6/importlib/_bootstrap.py:219: RuntimeWarning: numpy.ufunc size changed, may indicate binary incompatibility. Expected 192 from C header, got 216 from PyObject\n",
      "  return f(*args, **kwds)\n"
     ]
    }
   ],
   "source": [
    "from sklearn.decomposition import PCA"
   ]
  },
  {
   "cell_type": "code",
   "execution_count": 228,
   "metadata": {},
   "outputs": [],
   "source": [
    "X_train, X_test, Y_train, Y_test = train_test_split(trainX, trainY, test_size=0.4)"
   ]
  },
  {
   "cell_type": "code",
   "execution_count": 229,
   "metadata": {},
   "outputs": [],
   "source": [
    "pca = PCA(n_components=20)"
   ]
  },
  {
   "cell_type": "code",
   "execution_count": 230,
   "metadata": {},
   "outputs": [],
   "source": [
    "pca_train = pca.fit_transform(X_train)\n",
    "pca_test = pca.transform(X_test)"
   ]
  },
  {
   "cell_type": "code",
   "execution_count": 231,
   "metadata": {},
   "outputs": [
    {
     "name": "stderr",
     "output_type": "stream",
     "text": [
      "/home/ian/jupyter/env3.6/lib/python3.6/site-packages/sklearn/linear_model/sag.py:337: ConvergenceWarning: The max_iter was reached which means the coef_ did not converge\n",
      "  \"the coef_ did not converge\", ConvergenceWarning)\n"
     ]
    }
   ],
   "source": [
    "lr = LogisticRegression(solver='sag', penalty='none').fit(pca_train,Y_train)"
   ]
  },
  {
   "cell_type": "code",
   "execution_count": 232,
   "metadata": {},
   "outputs": [
    {
     "data": {
      "text/plain": [
       "0.9975666580377944"
      ]
     },
     "execution_count": 232,
     "metadata": {},
     "output_type": "execute_result"
    }
   ],
   "source": [
    "recall_score(Y_test, lr.predict(pca_test))"
   ]
  },
  {
   "cell_type": "markdown",
   "metadata": {},
   "source": [
    "Twenty component PCA does relatively well.\n",
    "\n",
    "Let's look at a few more or fewer components. We can do that by taking say fifty and then keeping the first 5, 10, 20, 50 of them"
   ]
  },
  {
   "cell_type": "code",
   "execution_count": 233,
   "metadata": {},
   "outputs": [],
   "source": [
    "pca = PCA(n_components=50)"
   ]
  },
  {
   "cell_type": "code",
   "execution_count": 234,
   "metadata": {},
   "outputs": [],
   "source": [
    "X_train, X_test, Y_train, Y_test = train_test_split(trainX, trainY, test_size=0.4)"
   ]
  },
  {
   "cell_type": "code",
   "execution_count": 235,
   "metadata": {},
   "outputs": [],
   "source": [
    "pca_train = pca.fit_transform(X_train)\n",
    "pca_test = pca.transform(X_test)"
   ]
  },
  {
   "cell_type": "code",
   "execution_count": 237,
   "metadata": {},
   "outputs": [
    {
     "name": "stdout",
     "output_type": "stream",
     "text": [
      "5:\t0.9781322356573192\n"
     ]
    },
    {
     "name": "stderr",
     "output_type": "stream",
     "text": [
      "/home/ian/jupyter/env3.6/lib/python3.6/site-packages/sklearn/linear_model/sag.py:337: ConvergenceWarning: The max_iter was reached which means the coef_ did not converge\n",
      "  \"the coef_ did not converge\", ConvergenceWarning)\n"
     ]
    },
    {
     "name": "stdout",
     "output_type": "stream",
     "text": [
      "10:\t0.9947517365577566\n"
     ]
    },
    {
     "name": "stderr",
     "output_type": "stream",
     "text": [
      "/home/ian/jupyter/env3.6/lib/python3.6/site-packages/sklearn/linear_model/sag.py:337: ConvergenceWarning: The max_iter was reached which means the coef_ did not converge\n",
      "  \"the coef_ did not converge\", ConvergenceWarning)\n"
     ]
    },
    {
     "name": "stdout",
     "output_type": "stream",
     "text": [
      "20:\t0.9967584255209673\n",
      "50:\t0.9978904039104708\n"
     ]
    },
    {
     "name": "stderr",
     "output_type": "stream",
     "text": [
      "/home/ian/jupyter/env3.6/lib/python3.6/site-packages/sklearn/linear_model/sag.py:337: ConvergenceWarning: The max_iter was reached which means the coef_ did not converge\n",
      "  \"the coef_ did not converge\", ConvergenceWarning)\n"
     ]
    }
   ],
   "source": [
    "for pcs in [5,10,20,50]:\n",
    "    lr = LogisticRegression(solver='sag', penalty='none').fit(pca_train[:,:pcs],Y_train)\n",
    "    score = recall_score(Y_test, lr.predict(pca_test[:,:pcs]))\n",
    "    print(f\"{pcs}:\\t{score}\")"
   ]
  },
  {
   "cell_type": "markdown",
   "metadata": {},
   "source": [
    "Looking closer at 1 to 20:"
   ]
  },
  {
   "cell_type": "code",
   "execution_count": 238,
   "metadata": {},
   "outputs": [],
   "source": [
    "def principalcomponents_lrscore(n):\n",
    "    lr = LogisticRegression(solver='sag', penalty='none').fit(pca_train[:,:n],Y_train)\n",
    "    score = recall_score(Y_test, lr.predict(pca_test[:,:n]))\n",
    "    return score"
   ]
  },
  {
   "cell_type": "code",
   "execution_count": 239,
   "metadata": {},
   "outputs": [
    {
     "name": "stderr",
     "output_type": "stream",
     "text": [
      "/home/ian/jupyter/env3.6/lib/python3.6/site-packages/sklearn/linear_model/sag.py:337: ConvergenceWarning: The max_iter was reached which means the coef_ did not converge\n",
      "  \"the coef_ did not converge\", ConvergenceWarning)\n",
      "/home/ian/jupyter/env3.6/lib/python3.6/site-packages/sklearn/linear_model/sag.py:337: ConvergenceWarning: The max_iter was reached which means the coef_ did not converge\n",
      "  \"the coef_ did not converge\", ConvergenceWarning)\n",
      "/home/ian/jupyter/env3.6/lib/python3.6/site-packages/sklearn/linear_model/sag.py:337: ConvergenceWarning: The max_iter was reached which means the coef_ did not converge\n",
      "  \"the coef_ did not converge\", ConvergenceWarning)\n",
      "/home/ian/jupyter/env3.6/lib/python3.6/site-packages/sklearn/linear_model/sag.py:337: ConvergenceWarning: The max_iter was reached which means the coef_ did not converge\n",
      "  \"the coef_ did not converge\", ConvergenceWarning)\n",
      "/home/ian/jupyter/env3.6/lib/python3.6/site-packages/sklearn/linear_model/sag.py:337: ConvergenceWarning: The max_iter was reached which means the coef_ did not converge\n",
      "  \"the coef_ did not converge\", ConvergenceWarning)\n"
     ]
    }
   ],
   "source": [
    "pcs = list(range(1,25,3))\n",
    "lrs = [principalcomponents_lrscore(n) for n in pcs]"
   ]
  },
  {
   "cell_type": "code",
   "execution_count": 240,
   "metadata": {},
   "outputs": [
    {
     "data": {
      "text/plain": [
       "[<matplotlib.lines.Line2D at 0x7f7159e84ef0>]"
      ]
     },
     "execution_count": 240,
     "metadata": {},
     "output_type": "execute_result"
    },
    {
     "data": {
      "image/png": "[encoded data removed]",
      "text/plain": [
       "<Figure size 432x288 with 1 Axes>"
      ]
     },
     "metadata": {
      "needs_background": "light"
     },
     "output_type": "display_data"
    }
   ],
   "source": [
    "plt.plot(pcs, lrs)"
   ]
  },
  {
   "cell_type": "markdown",
   "metadata": {},
   "source": [
    "Seems 10 or 20 are good choices"
   ]
  },
  {
   "cell_type": "code",
   "execution_count": 244,
   "metadata": {
    "scrolled": true
   },
   "outputs": [
    {
     "data": {
      "text/plain": [
       "[<matplotlib.lines.Line2D at 0x7f714913e6a0>]"
      ]
     },
     "execution_count": 244,
     "metadata": {},
     "output_type": "execute_result"
    },
    {
     "data": {
      "image/png": "[encoded data removed]",
      "text/plain": [
       "<Figure size 432x288 with 1 Axes>"
      ]
     },
     "metadata": {
      "needs_background": "light"
     },
     "output_type": "display_data"
    }
   ],
   "source": [
    "pca = PCA(n_components=50)\n",
    "pca.fit(trainX)\n",
    "plt.plot(range(1,51),pca.explained_variance_)"
   ]
  }
 ],
 "metadata": {
  "kernelspec": {
   "display_name": "Python 3",
   "language": "python",
   "name": "python3"
  },
  "language_info": {
   "codemirror_mode": {
    "name": "ipython",
    "version": 3
   },
   "file_extension": ".py",
   "mimetype": "text/x-python",
   "name": "python",
   "nbconvert_exporter": "python",
   "pygments_lexer": "ipython3",
   "version": "3.6.8"
  }
 },
 "nbformat": 4,
 "nbformat_minor": 2
}
