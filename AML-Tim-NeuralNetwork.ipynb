{
 "cells": [
  {
   "cell_type": "code",
   "execution_count": 3,
   "metadata": {
    "scrolled": false
   },
   "outputs": [
    {
     "name": "stdout",
     "output_type": "stream",
     "text": [
      "   1  2  3         5         6         8         9  10  11  12  ...  146  147  \\\n",
      "0  0  0  0  0.000066  0.000066  0.009150  0.009150   0   0   0  ...  0.0    0   \n",
      "1  0  0  0  0.000014  0.000014  0.000000  0.000000   0   0   0  ...  0.0    0   \n",
      "2  0  0  0  0.035528  0.035528  0.070588  0.070588   0   0   0  ...  0.0    0   \n",
      "3  0  0  0  0.005128  0.005128  0.094771  0.094771   0   0   0  ...  0.0    0   \n",
      "4  0  0  0  0.035116  0.035116  0.070588  0.070588   0   0   0  ...  0.0    0   \n",
      "\n",
      "   148  149  150  151  152  153  154  155  \n",
      "0    0    0    0    0    0    0  0.0    0  \n",
      "1    0    0    0    0    0    0  0.0    0  \n",
      "2    0    0    0    0    0    0  0.0    0  \n",
      "3    0    0    0    0    0    0  0.0    0  \n",
      "4    0    0    0    0    0    0  0.0    0  \n",
      "\n",
      "[5 rows x 153 columns]\n",
      "<class 'pandas.core.frame.DataFrame'>\n",
      "RangeIndex: 97044 entries, 0 to 97043\n",
      "Columns: 153 entries, 1 to 155\n",
      "dtypes: float64(48), int64(105)\n",
      "memory usage: 113.3 MB\n",
      "None\n",
      "             1        2        3             5             6             8  \\\n",
      "count  97044.0  97044.0  97044.0  97044.000000  97044.000000  97044.000000   \n",
      "mean       0.0      0.0      0.0      0.006252      0.006252      0.193837   \n",
      "std        0.0      0.0      0.0      0.015541      0.015541      0.354444   \n",
      "min        0.0      0.0      0.0      0.000003      0.000003      0.000000   \n",
      "25%        0.0      0.0      0.0      0.001442      0.001442      0.037908   \n",
      "50%        0.0      0.0      0.0      0.003706      0.003706      0.037908   \n",
      "75%        0.0      0.0      0.0      0.005916      0.005916      0.054902   \n",
      "max        0.0      0.0      0.0      0.978440      0.978440      1.000000   \n",
      "\n",
      "                  9       10       11       12  ...           146      147  \\\n",
      "count  97044.000000  97044.0  97044.0  97044.0  ...  97044.000000  97044.0   \n",
      "mean       0.193837      0.0      0.0      0.0  ...      0.028436      0.0   \n",
      "std        0.354444      0.0      0.0      0.0  ...      0.062765      0.0   \n",
      "min        0.000000      0.0      0.0      0.0  ...      0.000000      0.0   \n",
      "25%        0.037908      0.0      0.0      0.0  ...      0.000000      0.0   \n",
      "50%        0.037908      0.0      0.0      0.0  ...      0.000000      0.0   \n",
      "75%        0.054902      0.0      0.0      0.0  ...      0.000000      0.0   \n",
      "max        1.000000      0.0      0.0      0.0  ...      1.000000      0.0   \n",
      "\n",
      "           148      149      150      151      152      153           154  \\\n",
      "count  97044.0  97044.0  97044.0  97044.0  97044.0  97044.0  97044.000000   \n",
      "mean       0.0      0.0      0.0      0.0      0.0      0.0      0.178474   \n",
      "std        0.0      0.0      0.0      0.0      0.0      0.0      0.360078   \n",
      "min        0.0      0.0      0.0      0.0      0.0      0.0      0.000000   \n",
      "25%        0.0      0.0      0.0      0.0      0.0      0.0      0.000000   \n",
      "50%        0.0      0.0      0.0      0.0      0.0      0.0      0.023873   \n",
      "75%        0.0      0.0      0.0      0.0      0.0      0.0      0.023873   \n",
      "max        0.0      0.0      0.0      0.0      0.0      0.0      1.000000   \n",
      "\n",
      "                155  \n",
      "count  97044.000000  \n",
      "mean       0.500000  \n",
      "std        0.500003  \n",
      "min        0.000000  \n",
      "25%        0.000000  \n",
      "50%        0.500000  \n",
      "75%        1.000000  \n",
      "max        1.000000  \n",
      "\n",
      "[8 rows x 153 columns]\n",
      "          5         6         8         9  14  15  16  18  20  26  ...  138  \\\n",
      "0  0.000066  0.000066  0.009150  0.009150   1   1   1   1   1   1  ...  0.5   \n",
      "1  0.000014  0.000014  0.000000  0.000000   1   1   1   1   1   1  ...  0.5   \n",
      "2  0.035528  0.035528  0.070588  0.070588   1   1   1   1   1   1  ...  0.5   \n",
      "3  0.005128  0.005128  0.094771  0.094771   1   1   1   1   1   1  ...  0.5   \n",
      "4  0.035116  0.035116  0.070588  0.070588   1   1   1   1   1   1  ...  0.5   \n",
      "\n",
      "   140  141  142  143  144  145  146  154  155  \n",
      "0  0.0  0.0  0.0  0.0  0.0  0.0  0.0  0.0    0  \n",
      "1  0.0  0.0  0.0  0.0  0.0  0.0  0.0  0.0    0  \n",
      "2  0.0  0.0  0.0  0.0  0.0  0.0  0.0  0.0    0  \n",
      "3  0.0  0.0  0.0  0.0  0.0  0.0  0.0  0.0    0  \n",
      "4  0.0  0.0  0.0  0.0  0.0  0.0  0.0  0.0    0  \n",
      "\n",
      "[5 rows x 79 columns]\n"
     ]
    }
   ],
   "source": [
    "import csv\n",
    "import numpy\n",
    "import pandas as pd\n",
    "from matplotlib import pyplot\n",
    "from sklearn.preprocessing import Binarizer\n",
    "from numpy import set_printoptions\n",
    "from sklearn.model_selection import train_test_split\n",
    "from sklearn.neural_network import MLPClassifier\n",
    "from sklearn.metrics import classification_report, confusion_matrix\n",
    "\n",
    "\n",
    "''' Load data and create a dataframe '''\n",
    "\n",
    "filename = 'train_imperson_without4n7_balanced_data.csv'\n",
    "\n",
    "df = pd.read_csv('C:\\\\Users\\\\timot\\Desktop\\\\AMLGroupProject\\\\train_imperson_without4n7_balanced_data.csv', header=0, na_values=['nan'])\n",
    "print(df.head())\n",
    "print(df.info())\n",
    "print(df.describe())\n",
    "\n",
    "''' Delete columns with no values '''\n",
    "\n",
    "# many features have no values\n",
    "columnsToDelete = []\n",
    "\n",
    "# if the  feature has std == 0 it means no values or only one value\n",
    "\n",
    "for key, value in df.iteritems():\n",
    "    if df[key].std() == 0:\n",
    "        columnsToDelete.append(key)\n",
    "\n",
    "df = df.drop(columnsToDelete, axis=1)\n",
    "len(columnsToDelete)  # 74 features have been deleted\n",
    "\n",
    "print(df.head())\n",
    "\n",
    "\n",
    "\n",
    "\n",
    "\n",
    "\n",
    "\n",
    "\n",
    "\n",
    "\n",
    "\n"
   ]
  },
  {
   "cell_type": "markdown",
   "metadata": {},
   "source": [
    "# Using the Neural Network to Classify\n"
   ]
  },
  {
   "cell_type": "markdown",
   "metadata": {},
   "source": [
    "Rename Columns - Set X and Y variables and create the test/training sets\n"
   ]
  },
  {
   "cell_type": "code",
   "execution_count": null,
   "metadata": {},
   "outputs": [],
   "source": [
    "df.columns=[i for i in range(1,80)] #rename column heads\n",
    "\n",
    "X = df.iloc[:, 0:78] #set x variables to be the first 78 columns\n",
    "y = df.iloc[:,-1] #set y variable to be last column\n",
    "\n",
    "print(y.head())\n",
    "\n",
    "X_train, X_test, y_train, y_test = train_test_split(X, y, test_size = 0.25) #75% training data, 25% test data"
   ]
  },
  {
   "cell_type": "markdown",
   "metadata": {},
   "source": [
    "Use the MLP classifiers. Here we use 2 layers of neurons and 1000 backprop/iterations. We use MLP to predict."
   ]
  },
  {
   "cell_type": "code",
   "execution_count": null,
   "metadata": {},
   "outputs": [],
   "source": [
    "\n",
    "\n",
    "mlp = MLPClassifier(hidden_layer_sizes=(5, 5), max_iter=1000) #two layers of 5 neurons, 1000 of backprop\n",
    "mlp.fit(X_train, y_train.values.ravel()) #train the algo\n",
    "\n",
    "predictions = mlp.predict(X_test) #make predictions on the xtest set"
   ]
  },
  {
   "cell_type": "markdown",
   "metadata": {},
   "source": [
    "Confusion matrix shows only 10 are misclassified on the test data."
   ]
  },
  {
   "cell_type": "code",
   "execution_count": 4,
   "metadata": {},
   "outputs": [
    {
     "name": "stdout",
     "output_type": "stream",
     "text": [
      "[[12149     7]\n",
      " [    8 12097]]\n",
      "              precision    recall  f1-score   support\n",
      "\n",
      "           0       1.00      1.00      1.00     12156\n",
      "           1       1.00      1.00      1.00     12105\n",
      "\n",
      "    accuracy                           1.00     24261\n",
      "   macro avg       1.00      1.00      1.00     24261\n",
      "weighted avg       1.00      1.00      1.00     24261\n",
      "\n"
     ]
    }
   ],
   "source": [
    "print(confusion_matrix(y_test,predictions)) #results are good\n",
    "print(classification_report(y_test,predictions))\n",
    "\n",
    "\n",
    "#Only mis-classifies 7 out of 3 (see confusion matrix)."
   ]
  },
  {
   "cell_type": "code",
   "execution_count": null,
   "metadata": {},
   "outputs": [],
   "source": []
  }
 ],
 "metadata": {
  "kernelspec": {
   "display_name": "Python 3",
   "language": "python",
   "name": "python3"
  },
  "language_info": {
   "codemirror_mode": {
    "name": "ipython",
    "version": 3
   },
   "file_extension": ".py",
   "mimetype": "text/x-python",
   "name": "python",
   "nbconvert_exporter": "python",
   "pygments_lexer": "ipython3",
   "version": "3.7.1"
  }
 },
 "nbformat": 4,
 "nbformat_minor": 2
}
